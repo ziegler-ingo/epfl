{
 "cells": [
  {
   "cell_type": "code",
   "execution_count": 1,
   "metadata": {},
   "outputs": [],
   "source": [
    "import pandas as pd\n",
    "import matplotlib.pyplot as plt\n",
    "%matplotlib inline"
   ]
  },
  {
   "cell_type": "code",
   "execution_count": 2,
   "metadata": {},
   "outputs": [
    {
     "data": {
      "text/html": [
       "<div>\n",
       "<style scoped>\n",
       "    .dataframe tbody tr th:only-of-type {\n",
       "        vertical-align: middle;\n",
       "    }\n",
       "\n",
       "    .dataframe tbody tr th {\n",
       "        vertical-align: top;\n",
       "    }\n",
       "\n",
       "    .dataframe thead th {\n",
       "        text-align: right;\n",
       "    }\n",
       "</style>\n",
       "<table border=\"1\" class=\"dataframe\">\n",
       "  <thead>\n",
       "    <tr style=\"text-align: right;\">\n",
       "      <th></th>\n",
       "      <th>model</th>\n",
       "      <th>test_accuracy</th>\n",
       "    </tr>\n",
       "  </thead>\n",
       "  <tbody>\n",
       "    <tr>\n",
       "      <th>0</th>\n",
       "      <td>baseline</td>\n",
       "      <td>0.24</td>\n",
       "    </tr>\n",
       "    <tr>\n",
       "      <th>1</th>\n",
       "      <td>k-NN</td>\n",
       "      <td>0.98</td>\n",
       "    </tr>\n",
       "    <tr>\n",
       "      <th>2</th>\n",
       "      <td>decision tree</td>\n",
       "      <td>0.74</td>\n",
       "    </tr>\n",
       "    <tr>\n",
       "      <th>3</th>\n",
       "      <td>logistic</td>\n",
       "      <td>0.96</td>\n",
       "    </tr>\n",
       "    <tr>\n",
       "      <th>4</th>\n",
       "      <td>random forest</td>\n",
       "      <td>0.96</td>\n",
       "    </tr>\n",
       "    <tr>\n",
       "      <th>5</th>\n",
       "      <td>svm linear</td>\n",
       "      <td>0.96</td>\n",
       "    </tr>\n",
       "    <tr>\n",
       "      <th>6</th>\n",
       "      <td>svm rbf</td>\n",
       "      <td>0.96</td>\n",
       "    </tr>\n",
       "    <tr>\n",
       "      <th>7</th>\n",
       "      <td>1-layer-cnn</td>\n",
       "      <td>0.96</td>\n",
       "    </tr>\n",
       "    <tr>\n",
       "      <th>8</th>\n",
       "      <td>2-layer-cnn</td>\n",
       "      <td>0.94</td>\n",
       "    </tr>\n",
       "    <tr>\n",
       "      <th>9</th>\n",
       "      <td>cnn</td>\n",
       "      <td>0.56</td>\n",
       "    </tr>\n",
       "  </tbody>\n",
       "</table>\n",
       "</div>"
      ],
      "text/plain": [
       "           model  test_accuracy\n",
       "0       baseline           0.24\n",
       "1           k-NN           0.98\n",
       "2  decision tree           0.74\n",
       "3       logistic           0.96\n",
       "4  random forest           0.96\n",
       "5     svm linear           0.96\n",
       "6        svm rbf           0.96\n",
       "7    1-layer-cnn           0.96\n",
       "8    2-layer-cnn           0.94\n",
       "9            cnn           0.56"
      ]
     },
     "execution_count": 2,
     "metadata": {},
     "output_type": "execute_result"
    }
   ],
   "source": [
    "# load the model results\n",
    "knn_model = pd.read_csv(\"/Users/Ingo/Python Files/Course-project4/02_k-NN-results.csv\")\n",
    "decision_tree_model = pd.read_csv(\"/Users/Ingo/Python Files/Course-project4/03_decision-tree-results.csv\")\n",
    "logreg_model = pd.read_csv(\"/Users/Ingo/Python Files/Course-project4/04_logistic-regression.csv\")\n",
    "rf_svm_model = pd.read_csv(\"/Users/Ingo/Python Files/Course-project4/05_random-forest-svm-results.csv\")\n",
    "dense_nn_model = pd.read_csv(\"/Users/Ingo/Python Files/Course-project4/06_dense-nn.csv\")\n",
    "cnn_model = pd.read_csv(\"/Users/Ingo/Python Files/Course-project4/07_conv-neural-net.csv\")\n",
    "\n",
    "# append all models to the knn dataframe\n",
    "results_df = knn_model.append([decision_tree_model, logreg_model, rf_svm_model, dense_nn_model, cnn_model],\n",
    "                             ignore_index = True)\n",
    "\n",
    "# round values for better readability\n",
    "results_df[\"test_accuracy\"] = round(results_df[\"test_accuracy\"], 2)\n",
    "results_df"
   ]
  },
  {
   "cell_type": "code",
   "execution_count": 3,
   "metadata": {},
   "outputs": [
    {
     "data": {
      "image/png": "[encoded data removed]",
      "text/plain": [
       "<Figure size 720x432 with 1 Axes>"
      ]
     },
     "metadata": {
      "needs_background": "light"
     },
     "output_type": "display_data"
    }
   ],
   "source": [
    "# make final bar plot of all results\n",
    "\n",
    "# create x-coordinates\n",
    "xcor = range(10) # 10 x-coordinates\n",
    "\n",
    "plt.figure(figsize = (10, 6))\n",
    "plt.bar(xcor, results_df[\"test_accuracy\"])\n",
    "plt.xlabel(\"Model\")\n",
    "plt.ylabel(\"Test Accuracy\")\n",
    "plt.xticks(ticks = xcor, labels = results_df[\"model\"], rotation = 90)\n",
    "plt.title(\"Test Accuracy of All Models\", size = 20, y = 1.01)\n",
    "\n",
    "# display test accuracy as text above bar charts\n",
    "for bar, value in enumerate(results_df[\"test_accuracy\"]):\n",
    "    plt.text(bar, value + 0.01, # position text right above bars\n",
    "             s = str(round(value, 2)), horizontalalignment = \"center\", fontweight = \"bold\")\n",
    "    \n",
    "plt.show()"
   ]
  },
  {
   "cell_type": "code",
   "execution_count": null,
   "metadata": {},
   "outputs": [],
   "source": []
  }
 ],
 "metadata": {
  "kernelspec": {
   "display_name": "Python 3",
   "language": "python",
   "name": "python3"
  },
  "language_info": {
   "codemirror_mode": {
    "name": "ipython",
    "version": 3
   },
   "file_extension": ".py",
   "mimetype": "text/x-python",
   "name": "python",
   "nbconvert_exporter": "python",
   "pygments_lexer": "ipython3",
   "version": "3.6.9"
  }
 },
 "nbformat": 4,
 "nbformat_minor": 2
}
