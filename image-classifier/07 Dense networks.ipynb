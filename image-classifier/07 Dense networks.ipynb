{
 "cells": [
  {
   "cell_type": "markdown",
   "metadata": {},
   "source": [
    "# Dense Network"
   ]
  },
  {
   "cell_type": "code",
   "execution_count": 1,
   "metadata": {},
   "outputs": [],
   "source": [
    "import tensorflow as tf\n",
    "import tensorflow.keras as keras\n",
    "import numpy as np\n",
    "import matplotlib.pyplot as plt\n",
    "%matplotlib inline"
   ]
  },
  {
   "cell_type": "code",
   "execution_count": 2,
   "metadata": {},
   "outputs": [
    {
     "name": "stdout",
     "output_type": "stream",
     "text": [
      "train features shape: (280, 1280)\n",
      "train labels shape: (280, 6)\n"
     ]
    }
   ],
   "source": [
    "# load extracted high-level features\n",
    "with np.load(\"/Users/Ingo/Python Files/Course-project4/high-level-train-features.npz\") as npz_file:\n",
    "    hl_tr_features = npz_file[\"features\"]\n",
    "    tr_labels = npz_file[\"labels\"]\n",
    "    \n",
    "print(\"train features shape:\", hl_tr_features.shape)\n",
    "print(\"train labels shape:\", tr_labels.shape)"
   ]
  },
  {
   "cell_type": "code",
   "execution_count": 3,
   "metadata": {},
   "outputs": [
    {
     "name": "stdout",
     "output_type": "stream",
     "text": [
      "validation features shape: (139, 1280)\n",
      "validation labels shape: (139, 6)\n"
     ]
    }
   ],
   "source": [
    "# validation features\n",
    "with np.load(\"/Users/Ingo/Python Files/Course-project4/high-level-valid-features.npz\") as npz_file:\n",
    "    hl_val_features = npz_file[\"features\"]\n",
    "    val_labels = npz_file[\"labels\"]\n",
    "    \n",
    "print(\"validation features shape:\", hl_val_features.shape)\n",
    "print(\"validation labels shape:\", val_labels.shape)"
   ]
  },
  {
   "cell_type": "code",
   "execution_count": 4,
   "metadata": {},
   "outputs": [
    {
     "name": "stdout",
     "output_type": "stream",
     "text": [
      "test features shape: (50, 1280)\n",
      "test labels shape: (50, 6)\n"
     ]
    }
   ],
   "source": [
    "# test features\n",
    "with np.load(\"/Users/Ingo/Python Files/Course-project4/high-level-test-features.npz\") as npz_file:\n",
    "    hl_te_features = npz_file[\"features\"]\n",
    "    te_labels = npz_file[\"labels\"]\n",
    "\n",
    "print(\"test features shape:\", hl_te_features.shape)\n",
    "print(\"test labels shape:\", te_labels.shape)"
   ]
  },
  {
   "cell_type": "markdown",
   "metadata": {},
   "source": [
    "## 1-layer dense neural net\n",
    "This network has no hidden layer, i.e. just the input and the output layer"
   ]
  },
  {
   "cell_type": "code",
   "execution_count": 5,
   "metadata": {},
   "outputs": [
    {
     "name": "stdout",
     "output_type": "stream",
     "text": [
      "_________________________________________________________________\n",
      "Layer (type)                 Output Shape              Param #   \n",
      "=================================================================\n",
      "dense (Dense)                (None, 6)                 7686      \n",
      "=================================================================\n",
      "Total params: 7,686\n",
      "Trainable params: 7,686\n",
      "Non-trainable params: 0\n",
      "_________________________________________________________________\n"
     ]
    }
   ],
   "source": [
    "# create the model\n",
    "model = keras.Sequential()\n",
    "\n",
    "# add the one layer\n",
    "model.add(keras.layers.Dense(units = 6, # 6 output units for each of the classes\n",
    "                            activation = \"softmax\", # transforms outputs into probabilities\n",
    "                            input_dim = 1*1280 # dimensions of input\n",
    "                            ))\n",
    "\n",
    "# get summary of created model\n",
    "model.summary()"
   ]
  },
  {
   "cell_type": "code",
   "execution_count": 6,
   "metadata": {},
   "outputs": [],
   "source": [
    "# define loss function and training operation\n",
    "model.compile(optimizer = \"sgd\", # stochastic gradient descent optimizer\n",
    "             loss = \"categorical_crossentropy\", # labels are already one-hot-encoded, so no need for sparse\n",
    "             metrics = [\"acc\"] # track accuracy\n",
    "             )"
   ]
  },
  {
   "cell_type": "markdown",
   "metadata": {},
   "source": [
    "Our input shape is already flattened, i.e. 2-dimensional, so we don't need to reshape it now.\n",
    "\n",
    "As we also won't be standardizing the data because we are dealing with images, we can train the model now."
   ]
  },
  {
   "cell_type": "code",
   "execution_count": 7,
   "metadata": {},
   "outputs": [
    {
     "name": "stdout",
     "output_type": "stream",
     "text": [
      "Train on 280 samples, validate on 139 samples\n",
      "Epoch 1/50\n",
      "280/280 [==============================] - 1s 2ms/step - loss: 1.6134 - acc: 0.4714 - val_loss: 1.1459 - val_acc: 0.6691\n",
      "Epoch 2/50\n",
      "280/280 [==============================] - 0s 186us/step - loss: 0.9700 - acc: 0.7286 - val_loss: 0.8406 - val_acc: 0.7554\n",
      "Epoch 3/50\n",
      "280/280 [==============================] - 0s 197us/step - loss: 0.7205 - acc: 0.8036 - val_loss: 0.6720 - val_acc: 0.8058\n",
      "Epoch 4/50\n",
      "280/280 [==============================] - 0s 190us/step - loss: 0.5793 - acc: 0.8536 - val_loss: 0.5789 - val_acc: 0.8129\n",
      "Epoch 5/50\n",
      "280/280 [==============================] - 0s 144us/step - loss: 0.4871 - acc: 0.8821 - val_loss: 0.5180 - val_acc: 0.8489\n",
      "Epoch 6/50\n",
      "280/280 [==============================] - 0s 150us/step - loss: 0.4210 - acc: 0.8964 - val_loss: 0.4823 - val_acc: 0.8489\n",
      "Epoch 7/50\n",
      "280/280 [==============================] - 0s 197us/step - loss: 0.3779 - acc: 0.9143 - val_loss: 0.4442 - val_acc: 0.8705\n",
      "Epoch 8/50\n",
      "280/280 [==============================] - 0s 184us/step - loss: 0.3354 - acc: 0.9143 - val_loss: 0.4192 - val_acc: 0.8705\n",
      "Epoch 9/50\n",
      "280/280 [==============================] - 0s 192us/step - loss: 0.3082 - acc: 0.9179 - val_loss: 0.4030 - val_acc: 0.8705\n",
      "Epoch 10/50\n",
      "280/280 [==============================] - 0s 173us/step - loss: 0.2865 - acc: 0.9250 - val_loss: 0.3903 - val_acc: 0.8705\n",
      "Epoch 11/50\n",
      "280/280 [==============================] - 0s 225us/step - loss: 0.2653 - acc: 0.9357 - val_loss: 0.3748 - val_acc: 0.8777\n",
      "Epoch 12/50\n",
      "280/280 [==============================] - 0s 184us/step - loss: 0.2462 - acc: 0.9321 - val_loss: 0.3663 - val_acc: 0.8705\n",
      "Epoch 13/50\n",
      "280/280 [==============================] - 0s 173us/step - loss: 0.2324 - acc: 0.9536 - val_loss: 0.3547 - val_acc: 0.8705\n",
      "Epoch 14/50\n",
      "280/280 [==============================] - 0s 191us/step - loss: 0.2193 - acc: 0.9464 - val_loss: 0.3461 - val_acc: 0.8705\n",
      "Epoch 15/50\n",
      "280/280 [==============================] - 0s 184us/step - loss: 0.2096 - acc: 0.9571 - val_loss: 0.3386 - val_acc: 0.8777\n",
      "Epoch 16/50\n",
      "280/280 [==============================] - 0s 173us/step - loss: 0.1988 - acc: 0.9536 - val_loss: 0.3359 - val_acc: 0.8777\n",
      "Epoch 17/50\n",
      "280/280 [==============================] - 0s 212us/step - loss: 0.1901 - acc: 0.9643 - val_loss: 0.3308 - val_acc: 0.8849\n",
      "Epoch 18/50\n",
      "280/280 [==============================] - 0s 181us/step - loss: 0.1792 - acc: 0.9679 - val_loss: 0.3250 - val_acc: 0.8849\n",
      "Epoch 19/50\n",
      "280/280 [==============================] - 0s 188us/step - loss: 0.1719 - acc: 0.9679 - val_loss: 0.3206 - val_acc: 0.8777\n",
      "Epoch 20/50\n",
      "280/280 [==============================] - 0s 170us/step - loss: 0.1641 - acc: 0.9679 - val_loss: 0.3170 - val_acc: 0.8777\n",
      "Epoch 21/50\n",
      "280/280 [==============================] - 0s 213us/step - loss: 0.1585 - acc: 0.9679 - val_loss: 0.3132 - val_acc: 0.8705\n",
      "Epoch 22/50\n",
      "280/280 [==============================] - 0s 182us/step - loss: 0.1531 - acc: 0.9714 - val_loss: 0.3101 - val_acc: 0.8777\n",
      "Epoch 23/50\n",
      "280/280 [==============================] - 0s 149us/step - loss: 0.1473 - acc: 0.9750 - val_loss: 0.3079 - val_acc: 0.8777\n",
      "Epoch 24/50\n",
      "280/280 [==============================] - 0s 158us/step - loss: 0.1419 - acc: 0.9821 - val_loss: 0.3067 - val_acc: 0.8777\n",
      "Epoch 25/50\n",
      "280/280 [==============================] - 0s 219us/step - loss: 0.1373 - acc: 0.9786 - val_loss: 0.3042 - val_acc: 0.8849\n",
      "Epoch 26/50\n",
      "280/280 [==============================] - 0s 170us/step - loss: 0.1323 - acc: 0.9821 - val_loss: 0.3030 - val_acc: 0.8777\n",
      "Epoch 27/50\n",
      "280/280 [==============================] - 0s 214us/step - loss: 0.1278 - acc: 0.9821 - val_loss: 0.3018 - val_acc: 0.8849\n",
      "Epoch 28/50\n",
      "280/280 [==============================] - 0s 227us/step - loss: 0.1250 - acc: 0.9821 - val_loss: 0.2989 - val_acc: 0.8849\n",
      "Epoch 29/50\n",
      "280/280 [==============================] - 0s 201us/step - loss: 0.1201 - acc: 0.9821 - val_loss: 0.2972 - val_acc: 0.8849\n",
      "Epoch 30/50\n",
      "280/280 [==============================] - 0s 163us/step - loss: 0.1166 - acc: 0.9857 - val_loss: 0.2966 - val_acc: 0.8777\n",
      "Epoch 31/50\n",
      "280/280 [==============================] - 0s 188us/step - loss: 0.1135 - acc: 0.9893 - val_loss: 0.2944 - val_acc: 0.8777\n",
      "Epoch 32/50\n",
      "280/280 [==============================] - 0s 218us/step - loss: 0.1106 - acc: 0.9929 - val_loss: 0.2932 - val_acc: 0.8777\n",
      "Epoch 33/50\n",
      "280/280 [==============================] - 0s 170us/step - loss: 0.1069 - acc: 0.9929 - val_loss: 0.2929 - val_acc: 0.8921\n",
      "Epoch 34/50\n",
      "280/280 [==============================] - 0s 178us/step - loss: 0.1037 - acc: 0.9929 - val_loss: 0.2921 - val_acc: 0.8921\n",
      "Epoch 35/50\n",
      "280/280 [==============================] - 0s 167us/step - loss: 0.1014 - acc: 0.9929 - val_loss: 0.2911 - val_acc: 0.8921\n",
      "Epoch 36/50\n",
      "280/280 [==============================] - 0s 158us/step - loss: 0.0989 - acc: 0.9929 - val_loss: 0.2895 - val_acc: 0.8921\n",
      "Epoch 37/50\n",
      "280/280 [==============================] - 0s 228us/step - loss: 0.0967 - acc: 0.9929 - val_loss: 0.2896 - val_acc: 0.8921\n",
      "Epoch 38/50\n",
      "280/280 [==============================] - 0s 173us/step - loss: 0.0945 - acc: 0.9929 - val_loss: 0.2877 - val_acc: 0.8849\n",
      "Epoch 39/50\n",
      "280/280 [==============================] - 0s 210us/step - loss: 0.0914 - acc: 0.9929 - val_loss: 0.2878 - val_acc: 0.8921\n",
      "Epoch 40/50\n",
      "280/280 [==============================] - 0s 183us/step - loss: 0.0893 - acc: 0.9929 - val_loss: 0.2868 - val_acc: 0.8921\n",
      "Epoch 41/50\n",
      "280/280 [==============================] - 0s 171us/step - loss: 0.0873 - acc: 0.9929 - val_loss: 0.2874 - val_acc: 0.8921\n",
      "Epoch 42/50\n",
      "280/280 [==============================] - 0s 196us/step - loss: 0.0856 - acc: 0.9929 - val_loss: 0.2861 - val_acc: 0.8921\n",
      "Epoch 43/50\n",
      "280/280 [==============================] - 0s 208us/step - loss: 0.0840 - acc: 0.9929 - val_loss: 0.2844 - val_acc: 0.8993\n",
      "Epoch 44/50\n",
      "280/280 [==============================] - 0s 182us/step - loss: 0.0819 - acc: 0.9929 - val_loss: 0.2844 - val_acc: 0.8993\n",
      "Epoch 45/50\n",
      "280/280 [==============================] - 0s 192us/step - loss: 0.0805 - acc: 0.9929 - val_loss: 0.2852 - val_acc: 0.8921\n",
      "Epoch 46/50\n",
      "280/280 [==============================] - 0s 206us/step - loss: 0.0784 - acc: 0.9929 - val_loss: 0.2844 - val_acc: 0.8921\n",
      "Epoch 47/50\n",
      "280/280 [==============================] - 0s 182us/step - loss: 0.0769 - acc: 0.9929 - val_loss: 0.2838 - val_acc: 0.8921\n",
      "Epoch 48/50\n",
      "280/280 [==============================] - 0s 200us/step - loss: 0.0749 - acc: 0.9929 - val_loss: 0.2826 - val_acc: 0.8993\n",
      "Epoch 49/50\n",
      "280/280 [==============================] - 0s 195us/step - loss: 0.0734 - acc: 0.9929 - val_loss: 0.2822 - val_acc: 0.8993\n",
      "Epoch 50/50\n",
      "280/280 [==============================] - 0s 190us/step - loss: 0.0720 - acc: 0.9929 - val_loss: 0.2818 - val_acc: 0.8993\n"
     ]
    }
   ],
   "source": [
    "# fit the model\n",
    "history1 = model.fit(x = hl_tr_features, y = tr_labels, # features and labels\n",
    "                    batch_size = 32, # 32 images per batch\n",
    "                    epochs = 50, # train the whole data set 50 times\n",
    "                    validation_data = (hl_val_features, val_labels) # specify validation data\n",
    "                    )"
   ]
  },
  {
   "cell_type": "code",
   "execution_count": 8,
   "metadata": {},
   "outputs": [
    {
     "data": {
      "text/plain": [
       "dict_keys(['val_loss', 'val_acc', 'loss', 'acc'])"
      ]
     },
     "execution_count": 8,
     "metadata": {},
     "output_type": "execute_result"
    }
   ],
   "source": [
    "# access results via\n",
    "history1.history.keys()"
   ]
  },
  {
   "cell_type": "code",
   "execution_count": 9,
   "metadata": {},
   "outputs": [
    {
     "data": {
      "image/png": "[encoded data removed]",
      "text/plain": [
       "<Figure size 1080x432 with 2 Axes>"
      ]
     },
     "metadata": {
      "needs_background": "light"
     },
     "output_type": "display_data"
    }
   ],
   "source": [
    "# visualize the results\n",
    "fig, (ax1, ax2) = plt.subplots(nrows = 1, ncols = 2, figsize = (15, 6))\n",
    "\n",
    "# first plot: comparison of losses\n",
    "ax1.plot(history1.history[\"loss\"], label = \"train loss\")\n",
    "ax1.plot(history1.history[\"val_loss\"], label = \"val loss\")\n",
    "ax1.set_xlabel(\"epoch\")\n",
    "ax1.set_ylabel(\"loss\")\n",
    "ax1.legend()\n",
    "ax1.set_title(\"Validation loss = {:.3f} (mean last 3)\".format(np.mean(\n",
    "    history1.history[\"val_loss\"][-3:])))\n",
    "\n",
    "ax2.plot(history1.history[\"acc\"], label = \"train accuracy\")\n",
    "ax2.plot(history1.history[\"val_acc\"], label = \"validation accuracy\")\n",
    "ax2.set_xlabel(\"epoch\")\n",
    "ax2.set_ylabel(\"accuracy\")\n",
    "ax2.legend()\n",
    "ax2.set_title(\"Validation accuracy = {:.3f} (mean last 3)\".format(np.mean(\n",
    "    history1.history[\"val_acc\"][-3:])))\n",
    "\n",
    "plt.show()"
   ]
  },
  {
   "cell_type": "markdown",
   "metadata": {},
   "source": [
    "The validation accuracy seems to start plateauing after roughly 8 epochs, and then starts overfitting. The validation accuracy seems to be around 90%, let's get the exact test accuracy"
   ]
  },
  {
   "cell_type": "code",
   "execution_count": 10,
   "metadata": {},
   "outputs": [
    {
     "name": "stdout",
     "output_type": "stream",
     "text": [
      "50/50 [==============================] - 0s 144us/step\n",
      "test accuracy1: 0.9600000023841858\n"
     ]
    }
   ],
   "source": [
    "(test_loss1, test_accuracy1) = model.evaluate(x = hl_te_features, y = te_labels)\n",
    "\n",
    "print(\"test accuracy1:\", test_accuracy1)"
   ]
  },
  {
   "cell_type": "markdown",
   "metadata": {},
   "source": [
    "Here again, we can reach a test accuracy of 96%, which allows the simple 1-layer neural net join the group of all other top performing models.\n",
    "___\n",
    "## 2-layer dense model\n",
    "Let's see whether having a 2-layer dense model increases performance"
   ]
  },
  {
   "cell_type": "code",
   "execution_count": 11,
   "metadata": {},
   "outputs": [],
   "source": [
    "# first, clear keras backend\n",
    "from tensorflow.keras import backend as K\n",
    "\n",
    "K.clear_session()"
   ]
  },
  {
   "cell_type": "code",
   "execution_count": 12,
   "metadata": {},
   "outputs": [
    {
     "name": "stdout",
     "output_type": "stream",
     "text": [
      "_________________________________________________________________\n",
      "Layer (type)                 Output Shape              Param #   \n",
      "=================================================================\n",
      "dense (Dense)                (None, 12)                15372     \n",
      "_________________________________________________________________\n",
      "dense_1 (Dense)              (None, 6)                 78        \n",
      "=================================================================\n",
      "Total params: 15,450\n",
      "Trainable params: 15,450\n",
      "Non-trainable params: 0\n",
      "_________________________________________________________________\n"
     ]
    }
   ],
   "source": [
    "# create model\n",
    "model2 = keras.Sequential()\n",
    "\n",
    "# add first layer\n",
    "model2.add(keras.layers.Dense(units = 12, # 12 output units, chosen arbitrarily as 2x classes\n",
    "                             activation = \"relu\", # non-linear ReLU activation for first layer\n",
    "                             input_dim = 1*1280))\n",
    "\n",
    "# add second layer\n",
    "model2.add(keras.layers.Dense(units = 6, # 6 classes\n",
    "                             activation = \"softmax\", # transform output from first layer into probabilities\n",
    "                             ))\n",
    "\n",
    "# get summary of model\n",
    "model2.summary()"
   ]
  },
  {
   "cell_type": "code",
   "execution_count": 13,
   "metadata": {},
   "outputs": [
    {
     "name": "stdout",
     "output_type": "stream",
     "text": [
      "Train on 280 samples, validate on 139 samples\n",
      "Epoch 1/50\n",
      "280/280 [==============================] - 1s 3ms/step - loss: 1.5251 - acc: 0.4607 - val_loss: 1.3538 - val_acc: 0.5540\n",
      "Epoch 2/50\n",
      "280/280 [==============================] - 0s 198us/step - loss: 1.1975 - acc: 0.6321 - val_loss: 1.0786 - val_acc: 0.7122\n",
      "Epoch 3/50\n",
      "280/280 [==============================] - 0s 217us/step - loss: 0.9575 - acc: 0.7464 - val_loss: 0.8892 - val_acc: 0.8058\n",
      "Epoch 4/50\n",
      "280/280 [==============================] - 0s 207us/step - loss: 0.7810 - acc: 0.7964 - val_loss: 0.7708 - val_acc: 0.8417\n",
      "Epoch 5/50\n",
      "280/280 [==============================] - 0s 227us/step - loss: 0.6607 - acc: 0.8321 - val_loss: 0.6730 - val_acc: 0.8633\n",
      "Epoch 6/50\n",
      "280/280 [==============================] - 0s 148us/step - loss: 0.5665 - acc: 0.8643 - val_loss: 0.6062 - val_acc: 0.8777\n",
      "Epoch 7/50\n",
      "280/280 [==============================] - 0s 200us/step - loss: 0.4890 - acc: 0.8679 - val_loss: 0.5495 - val_acc: 0.8705\n",
      "Epoch 8/50\n",
      "280/280 [==============================] - 0s 196us/step - loss: 0.4303 - acc: 0.9036 - val_loss: 0.5112 - val_acc: 0.8705\n",
      "Epoch 9/50\n",
      "280/280 [==============================] - 0s 160us/step - loss: 0.3812 - acc: 0.9214 - val_loss: 0.4781 - val_acc: 0.8633\n",
      "Epoch 10/50\n",
      "280/280 [==============================] - 0s 161us/step - loss: 0.3426 - acc: 0.9357 - val_loss: 0.4496 - val_acc: 0.8777\n",
      "Epoch 11/50\n",
      "280/280 [==============================] - 0s 185us/step - loss: 0.3085 - acc: 0.9536 - val_loss: 0.4267 - val_acc: 0.8849\n",
      "Epoch 12/50\n",
      "280/280 [==============================] - 0s 198us/step - loss: 0.2821 - acc: 0.9679 - val_loss: 0.4094 - val_acc: 0.8993\n",
      "Epoch 13/50\n",
      "280/280 [==============================] - 0s 154us/step - loss: 0.2576 - acc: 0.9714 - val_loss: 0.3922 - val_acc: 0.8993\n",
      "Epoch 14/50\n",
      "280/280 [==============================] - 0s 197us/step - loss: 0.2379 - acc: 0.9750 - val_loss: 0.3786 - val_acc: 0.8849\n",
      "Epoch 15/50\n",
      "280/280 [==============================] - 0s 213us/step - loss: 0.2195 - acc: 0.9750 - val_loss: 0.3682 - val_acc: 0.8849\n",
      "Epoch 16/50\n",
      "280/280 [==============================] - 0s 219us/step - loss: 0.2041 - acc: 0.9821 - val_loss: 0.3604 - val_acc: 0.8849\n",
      "Epoch 17/50\n",
      "280/280 [==============================] - 0s 202us/step - loss: 0.1906 - acc: 0.9821 - val_loss: 0.3522 - val_acc: 0.8849\n",
      "Epoch 18/50\n",
      "280/280 [==============================] - 0s 153us/step - loss: 0.1788 - acc: 0.9821 - val_loss: 0.3439 - val_acc: 0.8849\n",
      "Epoch 19/50\n",
      "280/280 [==============================] - 0s 157us/step - loss: 0.1688 - acc: 0.9857 - val_loss: 0.3382 - val_acc: 0.8849\n",
      "Epoch 20/50\n",
      "280/280 [==============================] - 0s 180us/step - loss: 0.1595 - acc: 0.9821 - val_loss: 0.3327 - val_acc: 0.8849\n",
      "Epoch 21/50\n",
      "280/280 [==============================] - 0s 216us/step - loss: 0.1508 - acc: 0.9857 - val_loss: 0.3305 - val_acc: 0.8849\n",
      "Epoch 22/50\n",
      "280/280 [==============================] - 0s 243us/step - loss: 0.1429 - acc: 0.9893 - val_loss: 0.3259 - val_acc: 0.8849\n",
      "Epoch 23/50\n",
      "280/280 [==============================] - 0s 171us/step - loss: 0.1366 - acc: 0.9893 - val_loss: 0.3204 - val_acc: 0.8777\n",
      "Epoch 24/50\n",
      "280/280 [==============================] - 0s 202us/step - loss: 0.1298 - acc: 0.9893 - val_loss: 0.3185 - val_acc: 0.8777\n",
      "Epoch 25/50\n",
      "280/280 [==============================] - 0s 198us/step - loss: 0.1240 - acc: 0.9893 - val_loss: 0.3149 - val_acc: 0.8777\n",
      "Epoch 26/50\n",
      "280/280 [==============================] - 0s 178us/step - loss: 0.1192 - acc: 0.9893 - val_loss: 0.3128 - val_acc: 0.8777\n",
      "Epoch 27/50\n",
      "280/280 [==============================] - 0s 214us/step - loss: 0.1131 - acc: 0.9893 - val_loss: 0.3106 - val_acc: 0.8777\n",
      "Epoch 28/50\n",
      "280/280 [==============================] - 0s 217us/step - loss: 0.1085 - acc: 0.9893 - val_loss: 0.3068 - val_acc: 0.8777\n",
      "Epoch 29/50\n",
      "280/280 [==============================] - 0s 212us/step - loss: 0.1042 - acc: 0.9929 - val_loss: 0.3063 - val_acc: 0.8777\n",
      "Epoch 30/50\n",
      "280/280 [==============================] - 0s 199us/step - loss: 0.1006 - acc: 0.9929 - val_loss: 0.3048 - val_acc: 0.8777\n",
      "Epoch 31/50\n",
      "280/280 [==============================] - 0s 185us/step - loss: 0.0964 - acc: 0.9893 - val_loss: 0.3039 - val_acc: 0.8777\n",
      "Epoch 32/50\n",
      "280/280 [==============================] - 0s 192us/step - loss: 0.0929 - acc: 0.9929 - val_loss: 0.3023 - val_acc: 0.8777\n",
      "Epoch 33/50\n",
      "280/280 [==============================] - 0s 196us/step - loss: 0.0905 - acc: 0.9893 - val_loss: 0.3007 - val_acc: 0.8777\n",
      "Epoch 34/50\n",
      "280/280 [==============================] - 0s 201us/step - loss: 0.0870 - acc: 0.9929 - val_loss: 0.2999 - val_acc: 0.8921\n",
      "Epoch 35/50\n",
      "280/280 [==============================] - 0s 203us/step - loss: 0.0838 - acc: 0.9964 - val_loss: 0.2986 - val_acc: 0.8777\n",
      "Epoch 36/50\n",
      "280/280 [==============================] - 0s 197us/step - loss: 0.0812 - acc: 0.9964 - val_loss: 0.2972 - val_acc: 0.8849\n",
      "Epoch 37/50\n",
      "280/280 [==============================] - 0s 199us/step - loss: 0.0786 - acc: 0.9964 - val_loss: 0.2975 - val_acc: 0.8777\n",
      "Epoch 38/50\n",
      "280/280 [==============================] - 0s 212us/step - loss: 0.0761 - acc: 0.9964 - val_loss: 0.2966 - val_acc: 0.8849\n",
      "Epoch 39/50\n",
      "280/280 [==============================] - 0s 204us/step - loss: 0.0734 - acc: 0.9964 - val_loss: 0.2961 - val_acc: 0.8849\n",
      "Epoch 40/50\n",
      "280/280 [==============================] - 0s 225us/step - loss: 0.0718 - acc: 0.9964 - val_loss: 0.2961 - val_acc: 0.8849\n",
      "Epoch 41/50\n",
      "280/280 [==============================] - 0s 208us/step - loss: 0.0697 - acc: 0.9964 - val_loss: 0.2946 - val_acc: 0.8921\n",
      "Epoch 42/50\n",
      "280/280 [==============================] - 0s 259us/step - loss: 0.0677 - acc: 0.9964 - val_loss: 0.2940 - val_acc: 0.8921\n",
      "Epoch 43/50\n",
      "280/280 [==============================] - 0s 231us/step - loss: 0.0656 - acc: 0.9964 - val_loss: 0.2934 - val_acc: 0.8993\n",
      "Epoch 44/50\n",
      "280/280 [==============================] - 0s 231us/step - loss: 0.0640 - acc: 0.9964 - val_loss: 0.2933 - val_acc: 0.8993\n",
      "Epoch 45/50\n",
      "280/280 [==============================] - 0s 253us/step - loss: 0.0621 - acc: 0.9964 - val_loss: 0.2925 - val_acc: 0.8921\n",
      "Epoch 46/50\n",
      "280/280 [==============================] - 0s 216us/step - loss: 0.0607 - acc: 0.9964 - val_loss: 0.2931 - val_acc: 0.8993\n",
      "Epoch 47/50\n",
      "280/280 [==============================] - 0s 202us/step - loss: 0.0590 - acc: 0.9964 - val_loss: 0.2922 - val_acc: 0.8993\n",
      "Epoch 48/50\n",
      "280/280 [==============================] - 0s 228us/step - loss: 0.0572 - acc: 0.9964 - val_loss: 0.2918 - val_acc: 0.8921\n",
      "Epoch 49/50\n",
      "280/280 [==============================] - 0s 211us/step - loss: 0.0559 - acc: 0.9964 - val_loss: 0.2922 - val_acc: 0.8921\n",
      "Epoch 50/50\n",
      "280/280 [==============================] - 0s 204us/step - loss: 0.0545 - acc: 0.9964 - val_loss: 0.2908 - val_acc: 0.8921\n"
     ]
    },
    {
     "data": {
      "text/plain": [
       "dict_keys(['val_loss', 'val_acc', 'loss', 'acc'])"
      ]
     },
     "execution_count": 13,
     "metadata": {},
     "output_type": "execute_result"
    }
   ],
   "source": [
    "# compile the model\n",
    "model2.compile(optimizer = \"sgd\", loss = \"categorical_crossentropy\", metrics = [\"acc\"])\n",
    "\n",
    "# fit the model\n",
    "history2 = model2.fit(x = hl_tr_features, y = tr_labels, batch_size = 32, epochs = 50,\n",
    "          validation_data = (hl_val_features, val_labels))\n",
    "\n",
    "# inspect keys of results dict\n",
    "history2.history.keys()"
   ]
  },
  {
   "cell_type": "code",
   "execution_count": 14,
   "metadata": {},
   "outputs": [
    {
     "data": {
      "image/png": "[encoded data removed]",
      "text/plain": [
       "<Figure size 864x432 with 2 Axes>"
      ]
     },
     "metadata": {
      "needs_background": "light"
     },
     "output_type": "display_data"
    }
   ],
   "source": [
    "# plot results\n",
    "fig, (ax1, ax2) = plt.subplots(nrows = 1, ncols = 2, figsize = (12, 6))\n",
    "\n",
    "# losses comparison\n",
    "ax1.plot(history2.history[\"loss\"], label = \"train loss\")\n",
    "ax1.plot(history2.history[\"val_loss\"], label = \"val loss\")\n",
    "ax1.set_xlabel(\"epoch\")\n",
    "ax1.set_ylabel(\"loss value\")\n",
    "ax1.legend()\n",
    "ax1.set_title(\"validation loss value = {:.3f} (mean last 3)\".format(\n",
    "    np.mean(history2.history[\"val_loss\"][-3:])))\n",
    "\n",
    "# accuracy comparison\n",
    "ax2.plot(history2.history[\"acc\"], label = \"train accuracy\")\n",
    "ax2.plot(history2.history[\"val_acc\"], label = \"val accuracy\")\n",
    "ax2.set_xlabel(\"epoch\")\n",
    "ax2.set_ylabel(\"accuracy\")\n",
    "ax2.legend()\n",
    "ax2.set_title(\"validation accuracy = {:.3f} (mean last 3)\".format(np.mean(\n",
    "    history2.history[\"val_acc\"][-3:])))\n",
    "\n",
    "plt.show()"
   ]
  },
  {
   "cell_type": "markdown",
   "metadata": {},
   "source": [
    "In this model, we can reduce the loss value even more, but we still encounter the problem of overfitting after reaching a validation accuracy plateau after ~8 epochs. \n",
    "\n",
    "Let's see whether we can achieve the test value of 96% again."
   ]
  },
  {
   "cell_type": "code",
   "execution_count": 15,
   "metadata": {},
   "outputs": [
    {
     "name": "stdout",
     "output_type": "stream",
     "text": [
      "50/50 [==============================] - 0s 187us/step\n",
      "test accuracy2: 0.9399999928474426\n"
     ]
    }
   ],
   "source": [
    "# evaluate on test set\n",
    "(test_loss2, test_accuracy2) = model2.evaluate(hl_te_features, te_labels)\n",
    "\n",
    "print(\"test accuracy2:\", test_accuracy2)"
   ]
  },
  {
   "cell_type": "markdown",
   "metadata": {},
   "source": [
    "What we can see here is probably an effect of stronger overfitting and thus worse generalization. A model with more layers can overfit more easily and thus generalize worse on unseen test data. We can see in the accuracy plot that the validation curve has more variance than in the 1-layer model, which might be a reason why we lack around 4 percentage points in accurarcy. The model is trained too much to expect the same kind of data from the training set, and hence performs poorly on other data.\n",
    "\n",
    "To counteract overfitting, we'd need to include dropout layers or regularization in our model. This will be done in the convolutional model, where we train on the image pixels.\n",
    "___\n",
    "### Important to note\n",
    "It is important to keep in mind that the performance of these extremely simple models is only this good because we extracted high-level features from a highly complex, pre-trained model, which exctraced and served us all the important features in numerical form. As a consequence, simple 1-layer models can learn from these numerical values very well and thus reach accuracy on real-life image recognition in the high 90% ranges. This wouldn't be possible otherwise, as we will quickly see when we train our own CNN model on these images."
   ]
  },
  {
   "cell_type": "code",
   "execution_count": 16,
   "metadata": {},
   "outputs": [],
   "source": [
    "import pandas as pd\n",
    "\n",
    "# save test accuracy of both models\n",
    "save_df = pd.DataFrame({\n",
    "    \"model\": [\"1-layer-cnn\", \"2-layer-cnn\"],\n",
    "    \"test_accuracy\": [test_accuracy1, test_accuracy2]\n",
    "})\n",
    "\n",
    "save_df.to_csv(\"/Users/Ingo/Python Files/Course-project4/06_dense-nn.csv\",\n",
    "              index = False)"
   ]
  },
  {
   "cell_type": "code",
   "execution_count": null,
   "metadata": {},
   "outputs": [],
   "source": []
  }
 ],
 "metadata": {
  "kernelspec": {
   "display_name": "Python 3",
   "language": "python",
   "name": "python3"
  },
  "language_info": {
   "codemirror_mode": {
    "name": "ipython",
    "version": 3
   },
   "file_extension": ".py",
   "mimetype": "text/x-python",
   "name": "python",
   "nbconvert_exporter": "python",
   "pygments_lexer": "ipython3",
   "version": "3.6.9"
  }
 },
 "nbformat": 4,
 "nbformat_minor": 2
}
