{
 "cells": [
  {
   "cell_type": "markdown",
   "metadata": {},
   "source": [
    "# Non-Linear Models\n",
    "## Random Forests"
   ]
  },
  {
   "cell_type": "code",
   "execution_count": 1,
   "metadata": {},
   "outputs": [],
   "source": [
    "import numpy as np\n",
    "import pandas as pd\n",
    "import matplotlib.pyplot as plt\n",
    "%matplotlib inline"
   ]
  },
  {
   "cell_type": "code",
   "execution_count": 2,
   "metadata": {},
   "outputs": [
    {
     "name": "stdout",
     "output_type": "stream",
     "text": [
      "train features shape: (280, 1280)\n",
      "train labels shape: (280,)\n"
     ]
    }
   ],
   "source": [
    "# load the data sets, train set\n",
    "with np.load(\"/Users/Ingo/Python Files/Course-project4/high-level-train-features.npz\") as npz_file:\n",
    "    hl_tr_features = npz_file[\"features\"]\n",
    "    tr_labels = npz_file[\"labels\"]\n",
    "    \n",
    "print(\"train features shape:\", hl_tr_features.shape)\n",
    "print(\"train labels shape:\", tr_labels.shape)"
   ]
  },
  {
   "cell_type": "code",
   "execution_count": 3,
   "metadata": {},
   "outputs": [
    {
     "name": "stdout",
     "output_type": "stream",
     "text": [
      "validation features shape: (139, 1280)\n",
      "validation labels shape: (139,)\n"
     ]
    }
   ],
   "source": [
    "# validation set\n",
    "with np.load(\"/Users/Ingo/Python Files/Course-project4/high-level-valid-features.npz\") as npz_file:\n",
    "    hl_val_features = npz_file[\"features\"]\n",
    "    val_labels = npz_file[\"labels\"]\n",
    "    \n",
    "print(\"validation features shape:\", hl_val_features.shape)\n",
    "print(\"validation labels shape:\", val_labels.shape)"
   ]
  },
  {
   "cell_type": "code",
   "execution_count": 4,
   "metadata": {},
   "outputs": [
    {
     "name": "stdout",
     "output_type": "stream",
     "text": [
      "test features shape: (50, 1280)\n",
      "test labels shape: (50, 1280)\n"
     ]
    }
   ],
   "source": [
    "# test set\n",
    "with np.load(\"/Users/Ingo/Python Files/Course-project4/high-level-test-features.npz\") as npz_file:\n",
    "    hl_te_features = npz_file[\"features\"]\n",
    "    te_labels = npz_file[\"labels\"]\n",
    "    \n",
    "print(\"test features shape:\", hl_te_features.shape)\n",
    "print(\"test labels shape:\", hl_te_features.shape)"
   ]
  },
  {
   "cell_type": "markdown",
   "metadata": {},
   "source": [
    "### Using Bagging (Bootstrap AGGregatING) to fight overfitting problem of simple Decision Trees\n",
    "With bagging, we try to reduce the variance of an estimator by averaging the predictions from several instances of estimators trained on different samples of the data set. Random Forests are an example of bagging.\n",
    "\n",
    "Say we have 5 points in $X$ $x_1, x_2, x_3, x_4, x_5$. The idea is to generate different data sets by sampling $X$. These are called bootstrap samples because we sample with replacement. Hence, each new data set will likely contain duplicates.\n",
    "\n",
    "Example of 3 different sets:\n",
    "* $X_1 = x_1, x_2, x_3, x_4, x_5$\n",
    "* $X_2 = x_4, x_1, x_2, x_5, x_1$\n",
    "* $X_3 = x_2, x_4, x_3, x_2, x_5$\n",
    "\n",
    "One estimator will be fitted on each set. To compute predictions, we average the predictions of each estimator. \n",
    "\n",
    "In **random forests**, these estimators are decision trees. The advantage here is that the results are even more **decorrelated** because the decision tree will find different rules to structure the different subsets of samples.\n",
    "___\n",
    "\n",
    "I will start by building a random forest with `n_estimators = 5` with `max_depth = 11`. We saw with the simple decision trees that with depth = 11, we were at 100% accuracy for the train set while having a widely overfitted model. Let's see how having n = 5 estimators changes the test accuracy."
   ]
  },
  {
   "cell_type": "code",
   "execution_count": 5,
   "metadata": {},
   "outputs": [
    {
     "name": "stdout",
     "output_type": "stream",
     "text": [
      "rf1 train accuracy: 0.9857142857142858\n",
      "rf1 validation accuracy: 0.7841726618705036\n"
     ]
    }
   ],
   "source": [
    "from sklearn.ensemble import RandomForestClassifier\n",
    "\n",
    "# create object with n = 5 estimators\n",
    "rf1 = RandomForestClassifier(n_estimators = 5, max_depth = 11, random_state = 0)\n",
    "\n",
    "# fit with train data\n",
    "rf1.fit(hl_tr_features, tr_labels)\n",
    "\n",
    "# get accuracy on validation data\n",
    "rf1_accuracy = rf1.score(hl_val_features, val_labels)\n",
    "print(\"rf1 train accuracy:\", rf1.score(hl_tr_features, tr_labels))\n",
    "print(\"rf1 validation accuracy:\", rf1_accuracy)"
   ]
  },
  {
   "cell_type": "markdown",
   "metadata": {},
   "source": [
    "We can see here that the model is extremely overfitting with a train accuracy of 99.5% and a validation accuracy of only 78%.\n",
    "\n",
    "Let's increase the number of estimators to fight overfitting"
   ]
  },
  {
   "cell_type": "code",
   "execution_count": 6,
   "metadata": {},
   "outputs": [
    {
     "name": "stdout",
     "output_type": "stream",
     "text": [
      "rf2 train accuracy: 1.0\n",
      "rf2 validation accuracy: 0.8633093525179856\n"
     ]
    }
   ],
   "source": [
    "# create object with n = 100 estimators\n",
    "rf2 = RandomForestClassifier(n_estimators = 100, max_depth = 11, random_state = 0)\n",
    "\n",
    "# fit training data\n",
    "rf2.fit(hl_tr_features, tr_labels)\n",
    "\n",
    "# get accuracy on validation data\n",
    "print(\"rf2 train accuracy:\", rf2.score(hl_tr_features, tr_labels))\n",
    "print(\"rf2 validation accuracy:\", rf2.score(hl_val_features, val_labels))"
   ]
  },
  {
   "cell_type": "markdown",
   "metadata": {},
   "source": [
    "The validation accuracy rose ca. 9 percentage points, but the model is still extremly overfitting with a validation accuracy of only 86%% in comparison to the 100% train accuracy. Let's remove the max_depth parameter and see what will happen"
   ]
  },
  {
   "cell_type": "code",
   "execution_count": 7,
   "metadata": {},
   "outputs": [
    {
     "name": "stdout",
     "output_type": "stream",
     "text": [
      "rf3 train accuracy: 1.0\n",
      "rf3 validation accuracy: 0.8633093525179856\n"
     ]
    }
   ],
   "source": [
    "# create object with n = 100 estimators and no depth limit\n",
    "rf3 = RandomForestClassifier(n_estimators = 100, max_depth = None, random_state = 0)\n",
    "\n",
    "# fit training data\n",
    "rf3.fit(hl_tr_features, tr_labels)\n",
    "\n",
    "# get accuracy on validation data\n",
    "print(\"rf3 train accuracy:\", rf3.score(hl_tr_features, tr_labels))\n",
    "print(\"rf3 validation accuracy:\", rf3.score(hl_val_features, val_labels))"
   ]
  },
  {
   "cell_type": "markdown",
   "metadata": {},
   "source": [
    "The fact that nothing is changing proves that we reached the maximum depth with `max_depth = 11`.\n",
    "\n",
    "Let's increase the number of estimators to 1000 and see whether we will see a significant increase in validation accuracy."
   ]
  },
  {
   "cell_type": "code",
   "execution_count": 8,
   "metadata": {},
   "outputs": [
    {
     "name": "stdout",
     "output_type": "stream",
     "text": [
      "rf4 train accuracy: 1.0\n",
      "rf4 validation accuracy: 0.8848920863309353\n"
     ]
    }
   ],
   "source": [
    "# create object with n = 1000\n",
    "rf4 = RandomForestClassifier(n_estimators = 1000, max_depth = None, random_state = 0)\n",
    "\n",
    "# fit training data\n",
    "rf4.fit(hl_tr_features, tr_labels)\n",
    "\n",
    "# get accuracy on validation data\n",
    "print(\"rf4 train accuracy:\", rf4.score(hl_tr_features, tr_labels))\n",
    "print(\"rf4 validation accuracy:\", rf4.score(hl_val_features, val_labels))"
   ]
  },
  {
   "cell_type": "markdown",
   "metadata": {},
   "source": [
    "The validation accuracy with `n_estimators = 1000` rose 2 percentage points, so increasing the number of estimators seem to provide more accuracy, but at this stage only marginally. The model is still strongly overfitting.\n",
    "\n",
    "Because `rf4` still provided better results, we will use `rf4` with `n_estimators = 1000` on the test data."
   ]
  },
  {
   "cell_type": "code",
   "execution_count": 9,
   "metadata": {},
   "outputs": [
    {
     "name": "stdout",
     "output_type": "stream",
     "text": [
      "rf4 test validation: 0.96\n"
     ]
    }
   ],
   "source": [
    "rf4_accuracy = rf4.score(hl_te_features, te_labels)\n",
    "print(\"rf4 test validation:\", rf4_accuracy)"
   ]
  },
  {
   "cell_type": "markdown",
   "metadata": {},
   "source": [
    "We do reach the 96% test accuracy and thus join the results ranges of k-NN and logistic regression, but our model is still strongly overfitting with train accuracy of 100%. "
   ]
  },
  {
   "cell_type": "markdown",
   "metadata": {},
   "source": [
    "# Support Vector Machines\n",
    "### Linear SVC Model\n",
    "As we can tune the `C` parameter , we will use the `GridSearchCV` approach. Therefore, train and validation set will be combined again and solely tested against the test set after grid search cross validation"
   ]
  },
  {
   "cell_type": "code",
   "execution_count": 10,
   "metadata": {},
   "outputs": [
    {
     "name": "stdout",
     "output_type": "stream",
     "text": [
      "combined train features shape: (419, 1280)\n",
      "combined train labels shape: (419,)\n"
     ]
    }
   ],
   "source": [
    "# combine train and validation set\n",
    "train_features = np.append(hl_tr_features, hl_val_features, axis = 0)\n",
    "train_labels = np.append(tr_labels, val_labels, axis = 0)\n",
    "\n",
    "print(\"combined train features shape:\", train_features.shape)\n",
    "print(\"combined train labels shape:\", train_labels.shape)"
   ]
  },
  {
   "cell_type": "code",
   "execution_count": 11,
   "metadata": {},
   "outputs": [],
   "source": [
    "from sklearn.svm import LinearSVC\n",
    "from sklearn.model_selection import GridSearchCV\n",
    "\n",
    "# define the grid\n",
    "grid = {\n",
    "    \"C\": np.logspace(-4, 4, num = 50), # test 50 C values from 0.0001 to 10,000\n",
    "}\n",
    "\n",
    "# create LinearSVC object\n",
    "linear_svc = LinearSVC()\n",
    "\n",
    "# create GridSearchCV object\n",
    "linear_svm_grid = GridSearchCV(estimator = linear_svc,\n",
    "                              param_grid = grid,\n",
    "                              n_jobs = -1, # use all available cores\n",
    "                              cv = 10,\n",
    "                              verbose = 1,\n",
    "                              return_train_score = True)"
   ]
  },
  {
   "cell_type": "code",
   "execution_count": 12,
   "metadata": {},
   "outputs": [
    {
     "name": "stdout",
     "output_type": "stream",
     "text": [
      "Fitting 10 folds for each of 50 candidates, totalling 500 fits\n"
     ]
    },
    {
     "name": "stderr",
     "output_type": "stream",
     "text": [
      "[Parallel(n_jobs=-1)]: Using backend LokyBackend with 4 concurrent workers.\n",
      "[Parallel(n_jobs=-1)]: Done  42 tasks      | elapsed:    2.8s\n",
      "[Parallel(n_jobs=-1)]: Done 192 tasks      | elapsed:    9.4s\n",
      "[Parallel(n_jobs=-1)]: Done 442 tasks      | elapsed:   23.1s\n",
      "[Parallel(n_jobs=-1)]: Done 500 out of 500 | elapsed:   26.2s finished\n",
      "/opt/anaconda3/envs/exts-ml/lib/python3.6/site-packages/sklearn/model_selection/_search.py:841: DeprecationWarning: The default of the `iid` parameter will change from True to False in version 0.22 and will be removed in 0.24. This will change numeric results when test-set sizes are unequal.\n",
      "  DeprecationWarning)\n"
     ]
    },
    {
     "data": {
      "text/plain": [
       "dict_keys(['mean_fit_time', 'std_fit_time', 'mean_score_time', 'std_score_time', 'param_C', 'params', 'split0_test_score', 'split1_test_score', 'split2_test_score', 'split3_test_score', 'split4_test_score', 'split5_test_score', 'split6_test_score', 'split7_test_score', 'split8_test_score', 'split9_test_score', 'mean_test_score', 'std_test_score', 'rank_test_score', 'split0_train_score', 'split1_train_score', 'split2_train_score', 'split3_train_score', 'split4_train_score', 'split5_train_score', 'split6_train_score', 'split7_train_score', 'split8_train_score', 'split9_train_score', 'mean_train_score', 'std_train_score'])"
      ]
     },
     "execution_count": 12,
     "metadata": {},
     "output_type": "execute_result"
    }
   ],
   "source": [
    "# fit linear_svm_grid\n",
    "linear_svm_grid.fit(train_features, train_labels)\n",
    "\n",
    "# see all available keys\n",
    "linear_svm_grid.cv_results_.keys()"
   ]
  },
  {
   "cell_type": "code",
   "execution_count": 13,
   "metadata": {},
   "outputs": [
    {
     "data": {
      "text/html": [
       "<div>\n",
       "<style scoped>\n",
       "    .dataframe tbody tr th:only-of-type {\n",
       "        vertical-align: middle;\n",
       "    }\n",
       "\n",
       "    .dataframe tbody tr th {\n",
       "        vertical-align: top;\n",
       "    }\n",
       "\n",
       "    .dataframe thead th {\n",
       "        text-align: right;\n",
       "    }\n",
       "</style>\n",
       "<table border=\"1\" class=\"dataframe\">\n",
       "  <thead>\n",
       "    <tr style=\"text-align: right;\">\n",
       "      <th></th>\n",
       "      <th>param C</th>\n",
       "      <th>test accuracy</th>\n",
       "      <th>std test</th>\n",
       "      <th>train accuracy</th>\n",
       "      <th>std train</th>\n",
       "    </tr>\n",
       "  </thead>\n",
       "  <tbody>\n",
       "    <tr>\n",
       "      <th>5</th>\n",
       "      <td>0.000655129</td>\n",
       "      <td>0.906921</td>\n",
       "      <td>0.026940</td>\n",
       "      <td>0.974805</td>\n",
       "      <td>0.003633</td>\n",
       "    </tr>\n",
       "    <tr>\n",
       "      <th>6</th>\n",
       "      <td>0.000954095</td>\n",
       "      <td>0.904535</td>\n",
       "      <td>0.030004</td>\n",
       "      <td>0.985416</td>\n",
       "      <td>0.003617</td>\n",
       "    </tr>\n",
       "    <tr>\n",
       "      <th>7</th>\n",
       "      <td>0.0013895</td>\n",
       "      <td>0.904535</td>\n",
       "      <td>0.032181</td>\n",
       "      <td>0.992842</td>\n",
       "      <td>0.001688</td>\n",
       "    </tr>\n",
       "    <tr>\n",
       "      <th>9</th>\n",
       "      <td>0.00294705</td>\n",
       "      <td>0.904535</td>\n",
       "      <td>0.028524</td>\n",
       "      <td>0.995226</td>\n",
       "      <td>0.001063</td>\n",
       "    </tr>\n",
       "    <tr>\n",
       "      <th>10</th>\n",
       "      <td>0.00429193</td>\n",
       "      <td>0.904535</td>\n",
       "      <td>0.028524</td>\n",
       "      <td>0.996288</td>\n",
       "      <td>0.001752</td>\n",
       "    </tr>\n",
       "  </tbody>\n",
       "</table>\n",
       "</div>"
      ],
      "text/plain": [
       "        param C  test accuracy  std test  train accuracy  std train\n",
       "5   0.000655129       0.906921  0.026940        0.974805   0.003633\n",
       "6   0.000954095       0.904535  0.030004        0.985416   0.003617\n",
       "7     0.0013895       0.904535  0.032181        0.992842   0.001688\n",
       "9    0.00294705       0.904535  0.028524        0.995226   0.001063\n",
       "10   0.00429193       0.904535  0.028524        0.996288   0.001752"
      ]
     },
     "execution_count": 13,
     "metadata": {},
     "output_type": "execute_result"
    }
   ],
   "source": [
    "# get results\n",
    "linear_svm_results = pd.DataFrame({\n",
    "    \"param C\": linear_svm_grid.cv_results_[\"param_C\"],\n",
    "    \"test accuracy\": linear_svm_grid.cv_results_[\"mean_test_score\"],\n",
    "    \"std test\": linear_svm_grid.cv_results_[\"std_test_score\"],\n",
    "    \"train accuracy\": linear_svm_grid.cv_results_[\"mean_train_score\"],\n",
    "    \"std train\": linear_svm_grid.cv_results_[\"std_train_score\"]\n",
    "})\n",
    "\n",
    "# sort df\n",
    "linear_svm_results.sort_values(by = \"test accuracy\", ascending = False)[:5]"
   ]
  },
  {
   "cell_type": "markdown",
   "metadata": {},
   "source": [
    "From these values we can observe that we can reach accuracy values in the ranges of around 90%, but the model is again overfitting strongly with train accuracies between 97% and 100%. During these ranges, `C` is close to 0, which effectively means that there is already strong regulation on the model. \n",
    "\n",
    "Let's see the graph and check whether we can find a middle ground, similar to the experience with `C` in the logistic regression model."
   ]
  },
  {
   "cell_type": "code",
   "execution_count": 14,
   "metadata": {},
   "outputs": [
    {
     "data": {
      "image/png": "[encoded data removed]",
      "text/plain": [
       "<Figure size 432x288 with 1 Axes>"
      ]
     },
     "metadata": {
      "needs_background": "light"
     },
     "output_type": "display_data"
    }
   ],
   "source": [
    "# plot the results\n",
    "plt.semilogx(linear_svm_results[\"param C\"], linear_svm_results[\"test accuracy\"], label = \"test set\")\n",
    "plt.semilogx(linear_svm_results[\"param C\"], linear_svm_results[\"train accuracy\"], label = \"train set\")\n",
    "plt.legend()\n",
    "plt.xlabel(\"C regularization\")\n",
    "plt.ylabel(\"accuracy\")\n",
    "plt.show()"
   ]
  },
  {
   "cell_type": "markdown",
   "metadata": {},
   "source": [
    "This time, based on the graph again, I will pick `C = 10^(-3.5)`, fit the model, and calculate train and test accuracy to see whether we can reach similar results but with less overfitting"
   ]
  },
  {
   "cell_type": "code",
   "execution_count": 15,
   "metadata": {},
   "outputs": [
    {
     "name": "stdout",
     "output_type": "stream",
     "text": [
      "train accuracy: 0.9451073985680191\n",
      "test accuracy: 0.96\n"
     ]
    }
   ],
   "source": [
    "# create object\n",
    "linear_svc2 = LinearSVC(C = 10**(-3.5), random_state = 0)\n",
    "\n",
    "# fit object\n",
    "linear_svc2.fit(train_features, train_labels)\n",
    "\n",
    "# get accuracy of both train and test set\n",
    "print(\"train accuracy:\", linear_svc2.score(train_features, train_labels))\n",
    "linear_svc2_accuracy = linear_svc2.score(hl_te_features, te_labels)\n",
    "print(\"test accuracy:\", linear_svc2_accuracy)"
   ]
  },
  {
   "cell_type": "markdown",
   "metadata": {},
   "source": [
    "Again, we were able to find a regularization strength which prevents overfitting but allows enough learning ability to get a better generalization on the test set than on the training set itself. \n",
    "\n",
    "Furthermore, the linear model already provides us with results in the ranges of logistic regression, decision trees and random forests, but not quite better results than the 98% of k-NN.\n",
    "\n",
    "Let's now try the `rbf` kernel of `SVC`\n",
    "___\n",
    "### RBF kernel\n",
    "Here, we can tune both `C` and `gamma`, so we will again run grid-search cross-validation to check which combination works best.\n",
    "\n",
    "$\\gamma$ controls the influence each data point has. We can think of $\\gamma$ as a way to control the smoothness of the decision borders, i.e. whether it is strongly impacted by sole data points or robost again certain points."
   ]
  },
  {
   "cell_type": "code",
   "execution_count": 16,
   "metadata": {},
   "outputs": [],
   "source": [
    "from sklearn.svm import SVC\n",
    "\n",
    "# create object with rbf kernel\n",
    "rbf_svc = SVC(kernel = \"rbf\")\n",
    "\n",
    "# create a grid\n",
    "rbf_grid = {\n",
    "    \"C\": np.logspace(-4, 4, num = 50), # 50 C values between 0.0001 and 10,000\n",
    "    \"gamma\": np.logspace(-4, 3, num = 8) # 10 gamma values between 0.0001 and 1,000\n",
    "}\n",
    "\n",
    "# create grid search CV object\n",
    "rbf_svc_cv = GridSearchCV(rbf_svc, rbf_grid, cv = 10, verbose = 1, n_jobs = -1, return_train_score = True)"
   ]
  },
  {
   "cell_type": "code",
   "execution_count": 17,
   "metadata": {},
   "outputs": [
    {
     "name": "stdout",
     "output_type": "stream",
     "text": [
      "Fitting 10 folds for each of 400 candidates, totalling 4000 fits\n"
     ]
    },
    {
     "name": "stderr",
     "output_type": "stream",
     "text": [
      "[Parallel(n_jobs=-1)]: Using backend LokyBackend with 4 concurrent workers.\n",
      "[Parallel(n_jobs=-1)]: Done  42 tasks      | elapsed:    8.3s\n",
      "[Parallel(n_jobs=-1)]: Done 192 tasks      | elapsed:   36.1s\n",
      "[Parallel(n_jobs=-1)]: Done 442 tasks      | elapsed:  1.4min\n",
      "[Parallel(n_jobs=-1)]: Done 792 tasks      | elapsed:  2.5min\n",
      "[Parallel(n_jobs=-1)]: Done 1242 tasks      | elapsed:  4.0min\n",
      "[Parallel(n_jobs=-1)]: Done 1792 tasks      | elapsed:  5.8min\n",
      "[Parallel(n_jobs=-1)]: Done 2442 tasks      | elapsed:  7.8min\n",
      "[Parallel(n_jobs=-1)]: Done 3192 tasks      | elapsed: 10.1min\n",
      "[Parallel(n_jobs=-1)]: Done 4000 out of 4000 | elapsed: 12.5min finished\n",
      "/opt/anaconda3/envs/exts-ml/lib/python3.6/site-packages/sklearn/model_selection/_search.py:841: DeprecationWarning: The default of the `iid` parameter will change from True to False in version 0.22 and will be removed in 0.24. This will change numeric results when test-set sizes are unequal.\n",
      "  DeprecationWarning)\n"
     ]
    },
    {
     "data": {
      "text/plain": [
       "dict_keys(['mean_fit_time', 'std_fit_time', 'mean_score_time', 'std_score_time', 'param_C', 'param_gamma', 'params', 'split0_test_score', 'split1_test_score', 'split2_test_score', 'split3_test_score', 'split4_test_score', 'split5_test_score', 'split6_test_score', 'split7_test_score', 'split8_test_score', 'split9_test_score', 'mean_test_score', 'std_test_score', 'rank_test_score', 'split0_train_score', 'split1_train_score', 'split2_train_score', 'split3_train_score', 'split4_train_score', 'split5_train_score', 'split6_train_score', 'split7_train_score', 'split8_train_score', 'split9_train_score', 'mean_train_score', 'std_train_score'])"
      ]
     },
     "execution_count": 17,
     "metadata": {},
     "output_type": "execute_result"
    }
   ],
   "source": [
    "# fit the GridSearchCV object\n",
    "rbf_svc_cv.fit(train_features, train_labels)\n",
    "\n",
    "# see keys in results\n",
    "rbf_svc_cv.cv_results_.keys()"
   ]
  },
  {
   "cell_type": "code",
   "execution_count": 18,
   "metadata": {},
   "outputs": [
    {
     "data": {
      "text/html": [
       "<div>\n",
       "<style scoped>\n",
       "    .dataframe tbody tr th:only-of-type {\n",
       "        vertical-align: middle;\n",
       "    }\n",
       "\n",
       "    .dataframe tbody tr th {\n",
       "        vertical-align: top;\n",
       "    }\n",
       "\n",
       "    .dataframe thead th {\n",
       "        text-align: right;\n",
       "    }\n",
       "</style>\n",
       "<table border=\"1\" class=\"dataframe\">\n",
       "  <thead>\n",
       "    <tr style=\"text-align: right;\">\n",
       "      <th></th>\n",
       "      <th>param_C</th>\n",
       "      <th>param_gamma</th>\n",
       "      <th>test score</th>\n",
       "      <th>std test</th>\n",
       "      <th>train score</th>\n",
       "      <th>std train</th>\n",
       "    </tr>\n",
       "  </thead>\n",
       "  <tbody>\n",
       "    <tr>\n",
       "      <th>209</th>\n",
       "      <td>1.75751</td>\n",
       "      <td>0.001</td>\n",
       "      <td>0.923628</td>\n",
       "      <td>0.032646</td>\n",
       "      <td>0.990719</td>\n",
       "      <td>0.001779</td>\n",
       "    </tr>\n",
       "    <tr>\n",
       "      <th>248</th>\n",
       "      <td>11.514</td>\n",
       "      <td>0.0001</td>\n",
       "      <td>0.921241</td>\n",
       "      <td>0.029360</td>\n",
       "      <td>0.982498</td>\n",
       "      <td>0.002958</td>\n",
       "    </tr>\n",
       "    <tr>\n",
       "      <th>217</th>\n",
       "      <td>2.55955</td>\n",
       "      <td>0.001</td>\n",
       "      <td>0.918854</td>\n",
       "      <td>0.028488</td>\n",
       "      <td>0.993107</td>\n",
       "      <td>0.001291</td>\n",
       "    </tr>\n",
       "    <tr>\n",
       "      <th>232</th>\n",
       "      <td>5.42868</td>\n",
       "      <td>0.0001</td>\n",
       "      <td>0.918854</td>\n",
       "      <td>0.035610</td>\n",
       "      <td>0.954396</td>\n",
       "      <td>0.004795</td>\n",
       "    </tr>\n",
       "    <tr>\n",
       "      <th>256</th>\n",
       "      <td>16.7683</td>\n",
       "      <td>0.0001</td>\n",
       "      <td>0.918854</td>\n",
       "      <td>0.034432</td>\n",
       "      <td>0.990719</td>\n",
       "      <td>0.001779</td>\n",
       "    </tr>\n",
       "  </tbody>\n",
       "</table>\n",
       "</div>"
      ],
      "text/plain": [
       "     param_C param_gamma  test score  std test  train score  std train\n",
       "209  1.75751       0.001    0.923628  0.032646     0.990719   0.001779\n",
       "248   11.514      0.0001    0.921241  0.029360     0.982498   0.002958\n",
       "217  2.55955       0.001    0.918854  0.028488     0.993107   0.001291\n",
       "232  5.42868      0.0001    0.918854  0.035610     0.954396   0.004795\n",
       "256  16.7683      0.0001    0.918854  0.034432     0.990719   0.001779"
      ]
     },
     "execution_count": 18,
     "metadata": {},
     "output_type": "execute_result"
    }
   ],
   "source": [
    "# check the results\n",
    "rbf_svc_results = pd.DataFrame({\n",
    "    \"param_C\": rbf_svc_cv.cv_results_[\"param_C\"],\n",
    "    \"param_gamma\": rbf_svc_cv.cv_results_[\"param_gamma\"],\n",
    "    \"test score\": rbf_svc_cv.cv_results_[\"mean_test_score\"],\n",
    "    \"std test\": rbf_svc_cv.cv_results_[\"std_test_score\"],\n",
    "    \"train score\": rbf_svc_cv.cv_results_[\"mean_train_score\"],\n",
    "    \"std train\": rbf_svc_cv.cv_results_[\"std_train_score\"]\n",
    "})\n",
    "\n",
    "rbf_svc_results.sort_values(by = \"test score\", ascending = False)[:5]"
   ]
  },
  {
   "cell_type": "markdown",
   "metadata": {},
   "source": [
    "Let's check numerically where the difference between train and test score is minimal, and sort the DataFrame by that value."
   ]
  },
  {
   "cell_type": "code",
   "execution_count": 19,
   "metadata": {},
   "outputs": [
    {
     "data": {
      "text/html": [
       "<div>\n",
       "<style scoped>\n",
       "    .dataframe tbody tr th:only-of-type {\n",
       "        vertical-align: middle;\n",
       "    }\n",
       "\n",
       "    .dataframe tbody tr th {\n",
       "        vertical-align: top;\n",
       "    }\n",
       "\n",
       "    .dataframe thead th {\n",
       "        text-align: right;\n",
       "    }\n",
       "</style>\n",
       "<table border=\"1\" class=\"dataframe\">\n",
       "  <thead>\n",
       "    <tr style=\"text-align: right;\">\n",
       "      <th></th>\n",
       "      <th>param_C</th>\n",
       "      <th>param_gamma</th>\n",
       "      <th>test score</th>\n",
       "      <th>std test</th>\n",
       "      <th>train score</th>\n",
       "      <th>std train</th>\n",
       "      <th>minimal diff</th>\n",
       "    </tr>\n",
       "  </thead>\n",
       "  <tbody>\n",
       "    <tr>\n",
       "      <th>209</th>\n",
       "      <td>1.75751</td>\n",
       "      <td>0.001</td>\n",
       "      <td>0.923628</td>\n",
       "      <td>0.032646</td>\n",
       "      <td>0.990719</td>\n",
       "      <td>0.001779</td>\n",
       "      <td>0.067092</td>\n",
       "    </tr>\n",
       "    <tr>\n",
       "      <th>248</th>\n",
       "      <td>11.514</td>\n",
       "      <td>0.0001</td>\n",
       "      <td>0.921241</td>\n",
       "      <td>0.029360</td>\n",
       "      <td>0.982498</td>\n",
       "      <td>0.002958</td>\n",
       "      <td>0.061257</td>\n",
       "    </tr>\n",
       "    <tr>\n",
       "      <th>232</th>\n",
       "      <td>5.42868</td>\n",
       "      <td>0.0001</td>\n",
       "      <td>0.918854</td>\n",
       "      <td>0.035610</td>\n",
       "      <td>0.954396</td>\n",
       "      <td>0.004795</td>\n",
       "      <td>0.035542</td>\n",
       "    </tr>\n",
       "    <tr>\n",
       "      <th>256</th>\n",
       "      <td>16.7683</td>\n",
       "      <td>0.0001</td>\n",
       "      <td>0.918854</td>\n",
       "      <td>0.034432</td>\n",
       "      <td>0.990719</td>\n",
       "      <td>0.001779</td>\n",
       "      <td>0.071865</td>\n",
       "    </tr>\n",
       "    <tr>\n",
       "      <th>217</th>\n",
       "      <td>2.55955</td>\n",
       "      <td>0.001</td>\n",
       "      <td>0.918854</td>\n",
       "      <td>0.028488</td>\n",
       "      <td>0.993107</td>\n",
       "      <td>0.001291</td>\n",
       "      <td>0.074252</td>\n",
       "    </tr>\n",
       "    <tr>\n",
       "      <th>201</th>\n",
       "      <td>1.20679</td>\n",
       "      <td>0.001</td>\n",
       "      <td>0.916468</td>\n",
       "      <td>0.030071</td>\n",
       "      <td>0.982231</td>\n",
       "      <td>0.004137</td>\n",
       "      <td>0.065763</td>\n",
       "    </tr>\n",
       "    <tr>\n",
       "      <th>225</th>\n",
       "      <td>3.72759</td>\n",
       "      <td>0.001</td>\n",
       "      <td>0.916468</td>\n",
       "      <td>0.029543</td>\n",
       "      <td>0.994960</td>\n",
       "      <td>0.001434</td>\n",
       "      <td>0.078492</td>\n",
       "    </tr>\n",
       "    <tr>\n",
       "      <th>280</th>\n",
       "      <td>51.7947</td>\n",
       "      <td>0.0001</td>\n",
       "      <td>0.916468</td>\n",
       "      <td>0.027711</td>\n",
       "      <td>0.995492</td>\n",
       "      <td>0.001215</td>\n",
       "      <td>0.079024</td>\n",
       "    </tr>\n",
       "    <tr>\n",
       "      <th>193</th>\n",
       "      <td>0.828643</td>\n",
       "      <td>0.001</td>\n",
       "      <td>0.914081</td>\n",
       "      <td>0.036421</td>\n",
       "      <td>0.964198</td>\n",
       "      <td>0.004346</td>\n",
       "      <td>0.050116</td>\n",
       "    </tr>\n",
       "    <tr>\n",
       "      <th>264</th>\n",
       "      <td>24.4205</td>\n",
       "      <td>0.0001</td>\n",
       "      <td>0.914081</td>\n",
       "      <td>0.031088</td>\n",
       "      <td>0.992844</td>\n",
       "      <td>0.001197</td>\n",
       "      <td>0.078762</td>\n",
       "    </tr>\n",
       "    <tr>\n",
       "      <th>272</th>\n",
       "      <td>35.5648</td>\n",
       "      <td>0.0001</td>\n",
       "      <td>0.914081</td>\n",
       "      <td>0.034920</td>\n",
       "      <td>0.994960</td>\n",
       "      <td>0.001434</td>\n",
       "      <td>0.080879</td>\n",
       "    </tr>\n",
       "    <tr>\n",
       "      <th>233</th>\n",
       "      <td>5.42868</td>\n",
       "      <td>0.001</td>\n",
       "      <td>0.914081</td>\n",
       "      <td>0.032635</td>\n",
       "      <td>0.995755</td>\n",
       "      <td>0.001757</td>\n",
       "      <td>0.081674</td>\n",
       "    </tr>\n",
       "    <tr>\n",
       "      <th>288</th>\n",
       "      <td>75.4312</td>\n",
       "      <td>0.0001</td>\n",
       "      <td>0.914081</td>\n",
       "      <td>0.027538</td>\n",
       "      <td>0.999736</td>\n",
       "      <td>0.000792</td>\n",
       "      <td>0.085655</td>\n",
       "    </tr>\n",
       "    <tr>\n",
       "      <th>224</th>\n",
       "      <td>3.72759</td>\n",
       "      <td>0.0001</td>\n",
       "      <td>0.911695</td>\n",
       "      <td>0.032044</td>\n",
       "      <td>0.942197</td>\n",
       "      <td>0.004152</td>\n",
       "      <td>0.030503</td>\n",
       "    </tr>\n",
       "    <tr>\n",
       "      <th>240</th>\n",
       "      <td>7.90604</td>\n",
       "      <td>0.0001</td>\n",
       "      <td>0.911695</td>\n",
       "      <td>0.032949</td>\n",
       "      <td>0.967382</td>\n",
       "      <td>0.004298</td>\n",
       "      <td>0.055688</td>\n",
       "    </tr>\n",
       "    <tr>\n",
       "      <th>241</th>\n",
       "      <td>7.90604</td>\n",
       "      <td>0.001</td>\n",
       "      <td>0.909308</td>\n",
       "      <td>0.030461</td>\n",
       "      <td>1.000000</td>\n",
       "      <td>0.000000</td>\n",
       "      <td>0.090692</td>\n",
       "    </tr>\n",
       "    <tr>\n",
       "      <th>296</th>\n",
       "      <td>109.854</td>\n",
       "      <td>0.0001</td>\n",
       "      <td>0.909308</td>\n",
       "      <td>0.024501</td>\n",
       "      <td>1.000000</td>\n",
       "      <td>0.000000</td>\n",
       "      <td>0.090692</td>\n",
       "    </tr>\n",
       "    <tr>\n",
       "      <th>304</th>\n",
       "      <td>159.986</td>\n",
       "      <td>0.0001</td>\n",
       "      <td>0.909308</td>\n",
       "      <td>0.024501</td>\n",
       "      <td>1.000000</td>\n",
       "      <td>0.000000</td>\n",
       "      <td>0.090692</td>\n",
       "    </tr>\n",
       "    <tr>\n",
       "      <th>312</th>\n",
       "      <td>232.995</td>\n",
       "      <td>0.0001</td>\n",
       "      <td>0.909308</td>\n",
       "      <td>0.024501</td>\n",
       "      <td>1.000000</td>\n",
       "      <td>0.000000</td>\n",
       "      <td>0.090692</td>\n",
       "    </tr>\n",
       "    <tr>\n",
       "      <th>320</th>\n",
       "      <td>339.322</td>\n",
       "      <td>0.0001</td>\n",
       "      <td>0.909308</td>\n",
       "      <td>0.024501</td>\n",
       "      <td>1.000000</td>\n",
       "      <td>0.000000</td>\n",
       "      <td>0.090692</td>\n",
       "    </tr>\n",
       "  </tbody>\n",
       "</table>\n",
       "</div>"
      ],
      "text/plain": [
       "      param_C param_gamma  test score  std test  train score  std train  \\\n",
       "209   1.75751       0.001    0.923628  0.032646     0.990719   0.001779   \n",
       "248    11.514      0.0001    0.921241  0.029360     0.982498   0.002958   \n",
       "232   5.42868      0.0001    0.918854  0.035610     0.954396   0.004795   \n",
       "256   16.7683      0.0001    0.918854  0.034432     0.990719   0.001779   \n",
       "217   2.55955       0.001    0.918854  0.028488     0.993107   0.001291   \n",
       "201   1.20679       0.001    0.916468  0.030071     0.982231   0.004137   \n",
       "225   3.72759       0.001    0.916468  0.029543     0.994960   0.001434   \n",
       "280   51.7947      0.0001    0.916468  0.027711     0.995492   0.001215   \n",
       "193  0.828643       0.001    0.914081  0.036421     0.964198   0.004346   \n",
       "264   24.4205      0.0001    0.914081  0.031088     0.992844   0.001197   \n",
       "272   35.5648      0.0001    0.914081  0.034920     0.994960   0.001434   \n",
       "233   5.42868       0.001    0.914081  0.032635     0.995755   0.001757   \n",
       "288   75.4312      0.0001    0.914081  0.027538     0.999736   0.000792   \n",
       "224   3.72759      0.0001    0.911695  0.032044     0.942197   0.004152   \n",
       "240   7.90604      0.0001    0.911695  0.032949     0.967382   0.004298   \n",
       "241   7.90604       0.001    0.909308  0.030461     1.000000   0.000000   \n",
       "296   109.854      0.0001    0.909308  0.024501     1.000000   0.000000   \n",
       "304   159.986      0.0001    0.909308  0.024501     1.000000   0.000000   \n",
       "312   232.995      0.0001    0.909308  0.024501     1.000000   0.000000   \n",
       "320   339.322      0.0001    0.909308  0.024501     1.000000   0.000000   \n",
       "\n",
       "     minimal diff  \n",
       "209      0.067092  \n",
       "248      0.061257  \n",
       "232      0.035542  \n",
       "256      0.071865  \n",
       "217      0.074252  \n",
       "201      0.065763  \n",
       "225      0.078492  \n",
       "280      0.079024  \n",
       "193      0.050116  \n",
       "264      0.078762  \n",
       "272      0.080879  \n",
       "233      0.081674  \n",
       "288      0.085655  \n",
       "224      0.030503  \n",
       "240      0.055688  \n",
       "241      0.090692  \n",
       "296      0.090692  \n",
       "304      0.090692  \n",
       "312      0.090692  \n",
       "320      0.090692  "
      ]
     },
     "execution_count": 19,
     "metadata": {},
     "output_type": "execute_result"
    }
   ],
   "source": [
    "# calculate difference between train and test score\n",
    "rbf_svc_results[\"minimal diff\"] = rbf_svc_results[\"train score\"] - rbf_svc_results[\"test score\"]\n",
    "\n",
    "# sort df with least difference at the top\n",
    "rbf_svc_results.sort_values(by = [\"test score\", \"minimal diff\"], ascending = [False, True])[:20]"
   ]
  },
  {
   "cell_type": "markdown",
   "metadata": {},
   "source": [
    "It looks like the DataFrame indices 232 and 224 are combinations of `C` and `gamma` which allow for 91%-92% test accuracy while \"only\" having a train accuracy of around 95%.\n",
    "\n",
    "As I have controlled for 2 parameters in the cross validation, I can't effectively visualize the change of accuracies in a graph as there are 2 parameters changing at the same time.\n",
    "\n",
    "I will choose to fit a rbf-kernel model with `C = 5.42868` and `gamma = 0.0001`, which means that `C` effectively doesn't regularize the model whereas gamma is very robust against outliers and forms \"hard\" borders on the decision surface."
   ]
  },
  {
   "cell_type": "code",
   "execution_count": 20,
   "metadata": {},
   "outputs": [
    {
     "name": "stdout",
     "output_type": "stream",
     "text": [
      "train accuracy rbf kernel: 0.9570405727923628\n",
      "test accuracy rbf kernel: 0.96\n"
     ]
    }
   ],
   "source": [
    "# create object\n",
    "rbf_svc2 = SVC(C = 5.42868, gamma = 0.0001, kernel = \"rbf\")\n",
    "\n",
    "# fit object\n",
    "rbf_svc2.fit(train_features, train_labels)\n",
    "\n",
    "# get score on test data\n",
    "print(\"train accuracy rbf kernel:\", rbf_svc2.score(train_features, train_labels))\n",
    "rbf_svc2_accuracy = rbf_svc2.score(hl_te_features, te_labels)\n",
    "print(\"test accuracy rbf kernel:\", rbf_svc2_accuracy)"
   ]
  },
  {
   "cell_type": "markdown",
   "metadata": {},
   "source": [
    "Now, we have a model that doesn't overfit and still reaches the common top 96% accuracy which other models have achieved, too. Until now, only k-NN was able to break the 96% accuracy with an 98% accuracy."
   ]
  },
  {
   "cell_type": "code",
   "execution_count": 21,
   "metadata": {},
   "outputs": [],
   "source": [
    "# create a DataFrame to store our the test accuracies and save the file\n",
    "save_df = pd.DataFrame({\n",
    "    \"model\": [\"random forest\", \"svm linear\", \"svm rbf\"],\n",
    "    \"test_accuracy\": [rf4_accuracy, linear_svc2_accuracy, rbf_svc2_accuracy]\n",
    "})\n",
    "\n",
    "# save the df\n",
    "save_df.to_csv(\"/Users/Ingo/Python Files/Course-project4/05_random-forest-svm-results.csv\",\n",
    "              index = False)"
   ]
  },
  {
   "cell_type": "code",
   "execution_count": null,
   "metadata": {},
   "outputs": [],
   "source": []
  }
 ],
 "metadata": {
  "kernelspec": {
   "display_name": "Python 3",
   "language": "python",
   "name": "python3"
  },
  "language_info": {
   "codemirror_mode": {
    "name": "ipython",
    "version": 3
   },
   "file_extension": ".py",
   "mimetype": "text/x-python",
   "name": "python",
   "nbconvert_exporter": "python",
   "pygments_lexer": "ipython3",
   "version": "3.6.9"
  }
 },
 "nbformat": 4,
 "nbformat_minor": 2
}
