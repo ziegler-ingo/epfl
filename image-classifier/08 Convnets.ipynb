{
 "cells": [
  {
   "cell_type": "markdown",
   "metadata": {},
   "source": [
    "# Convolutional Neural Network\n",
    "Here, we will build and train a CNN on the actual pixel images."
   ]
  },
  {
   "cell_type": "code",
   "execution_count": 1,
   "metadata": {},
   "outputs": [],
   "source": [
    "import tensorflow as tf\n",
    "import tensorflow.keras as keras\n",
    "import numpy as np\n",
    "import matplotlib.pyplot as plt\n",
    "%matplotlib inline"
   ]
  },
  {
   "cell_type": "markdown",
   "metadata": {},
   "source": [
    "Because I got more and more interested in network architecture (how many layers, what size of filters, what combination of layers makes sense etc.), I read about **AlexNet** in the [original paper by Krizhevsky, Sutskever, Hinton,](https://papers.nips.cc/paper/4824-imagenet-classification-with-deep-convolutional-neural-networks.pdf) as one of the first and most important advances in image classification with deep convolutional neural nets. \n",
    "\n",
    "As a result, I wanted to try and implement the model proposed in the paper in an adjusted way for our image classification case here.\n",
    "\n",
    "The model in the paper consists of 8 layers: 5 convolutional layers and 3 fully connected layers.\n",
    "\n",
    "In the paper, the authors also propose the `RelU` activation function which we learned in our course here, they also include pooling layers as well as dropout regularization. \n",
    "\n",
    "In AlexNet, the last fully connected layer is fed to a 1000-way softmax regression, which in our case will be a 6-way softmax regression as we only have 6 possible classes to classify. \n",
    "\n",
    "AlexNet uses 2 parallel GPUs to train the model, and therefore the authors decided to connect only some layers to some GPUs. All of this will not be implemented here as I don't have a valid GPU in my laptop (13 inch Macbook Pro, late 2013 version). \n",
    "\n",
    "In the MobileNet V2, as well as in this paper, 224x224 pixel input images were used. However, [other sources, e.g. on Learn OpenCV](https://www.learnopencv.com/understanding-alexnet/) say that the printed 224x224 number was a mistake and it was actually meant to use 227x227 images. I will adjust my CNN to use 227x227 input images because all following numbers in the paper are based on 227x227 and make sense in the end.\n",
    "\n",
    "My adjusted ConvNet will consist of:\n",
    "* First convolutional layer which filters the `227x227x3` input image with 96 kernels of size `11x11x3` with `stride = 4`. \n",
    "* The output of this layer will be `55x55x96`, which will be put through a max-pooling layer of size `3x3` and `stride = 2`\n",
    "    * The output will be `27x27x96`.\n",
    "* Second convolutional layer will filter the last output with 256 kernels of size `5x5` and `padding = SAME`\n",
    "    * The output will be `27x27x256`\n",
    "* Another max-pooling layer will be applied here with pool size `3x3` and `stride = 2`\n",
    "    * The output will be `13x13x256` \n",
    "* Then, 3 additional convolutional layers are following without any intervening pooling layers\n",
    "    * The first will have 384 kernels of size `3x3` and `padding = SAME`, `strides = 1` --> keeps same height and length dimensions\n",
    "    * The second will have 384 kernels of size `3x3` and `padding = SAME`, `strides = 1` --> keeps same height and length dimensions\n",
    "    * The third will have 256 kernels of size `3x3` and `padding = SAME`, `strides = 1` --> keeps same height and length dimensions\n",
    "* Then, a final max-pooling layer will follow to the current size `13x13x256` output. Pooling size will be `3x3` with `stride = 2`\n",
    "* The output of size `6x6x256` will go into 3 fully connected dense layers which each have 4096 neurons.\n",
    "* The last layer will apply softmax regression to have 6 possible units as output, all other layers will use ReLU activation functions\n",
    "* Dropout, as described in the paper, is used for the first 2 of the 3 fully connected layers"
   ]
  },
  {
   "cell_type": "code",
   "execution_count": 2,
   "metadata": {},
   "outputs": [
    {
     "name": "stdout",
     "output_type": "stream",
     "text": [
      "Found 280 images belonging to 6 classes.\n",
      "Found 139 images belonging to 6 classes.\n",
      "Found 50 images belonging to 6 classes.\n"
     ]
    }
   ],
   "source": [
    "# load images from directory as we are now working with the actual pixel images\n",
    "from tensorflow.keras.preprocessing.image import ImageDataGenerator\n",
    "\n",
    "train_generator = ImageDataGenerator(rescale = 1/255 # rescale the images to a 0-1 range\n",
    "                                    ) # no need for validation split as we have a separate set\n",
    "\n",
    "valid_generator = ImageDataGenerator(rescale = 1/255)\n",
    "\n",
    "test_generator = ImageDataGenerator(rescale = 1/255)\n",
    "\n",
    "# use flow_from_directory to read-in the images\n",
    "trainset = train_generator.flow_from_directory(\"/Users/Ingo/Python Files/Course-project4/swissroads/train\",\n",
    "                                              target_size = (227, 227) # resize images to desired shape\n",
    "                                              )\n",
    "validset = valid_generator.flow_from_directory(\"/Users/Ingo/Python Files/Course-project4/swissroads/valid\",\n",
    "                                              target_size = (227, 227))\n",
    "\n",
    "testset = test_generator.flow_from_directory(\"/Users/Ingo/Python Files/Course-project4/swissroads/test\",\n",
    "                                             target_size = (227, 227))"
   ]
  },
  {
   "cell_type": "code",
   "execution_count": 3,
   "metadata": {},
   "outputs": [
    {
     "name": "stdout",
     "output_type": "stream",
     "text": [
      "feature batch shape: (32, 227, 227, 3)\n",
      "label batch shape: (32, 6)\n"
     ]
    }
   ],
   "source": [
    "# check shape of input\n",
    "feature_batch, label_batch = trainset.next()\n",
    "\n",
    "print(\"feature batch shape:\", feature_batch.shape)\n",
    "print(\"label batch shape:\", label_batch.shape)"
   ]
  },
  {
   "cell_type": "markdown",
   "metadata": {},
   "source": [
    "We can see that we already have the needed 4-dimensional shape comprising of: `number of imgs, dim, dim, channels` \n",
    "___\n",
    "Now we can start and build the model using the Keras API"
   ]
  },
  {
   "cell_type": "code",
   "execution_count": 4,
   "metadata": {},
   "outputs": [
    {
     "name": "stdout",
     "output_type": "stream",
     "text": [
      "_________________________________________________________________\n",
      "Layer (type)                 Output Shape              Param #   \n",
      "=================================================================\n",
      "conv2d (Conv2D)              (None, 57, 57, 96)        34944     \n",
      "_________________________________________________________________\n",
      "max_pooling2d (MaxPooling2D) (None, 28, 28, 96)        0         \n",
      "_________________________________________________________________\n",
      "conv2d_1 (Conv2D)            (None, 28, 28, 256)       614656    \n",
      "_________________________________________________________________\n",
      "max_pooling2d_1 (MaxPooling2 (None, 13, 13, 256)       0         \n",
      "_________________________________________________________________\n",
      "conv2d_2 (Conv2D)            (None, 13, 13, 384)       885120    \n",
      "_________________________________________________________________\n",
      "conv2d_3 (Conv2D)            (None, 13, 13, 384)       1327488   \n",
      "_________________________________________________________________\n",
      "conv2d_4 (Conv2D)            (None, 13, 13, 256)       884992    \n",
      "_________________________________________________________________\n",
      "max_pooling2d_2 (MaxPooling2 (None, 6, 6, 256)         0         \n",
      "_________________________________________________________________\n",
      "flatten (Flatten)            (None, 9216)              0         \n",
      "_________________________________________________________________\n",
      "dropout (Dropout)            (None, 9216)              0         \n",
      "_________________________________________________________________\n",
      "dense (Dense)                (None, 4096)              37752832  \n",
      "_________________________________________________________________\n",
      "dropout_1 (Dropout)          (None, 4096)              0         \n",
      "_________________________________________________________________\n",
      "dense_1 (Dense)              (None, 4096)              16781312  \n",
      "_________________________________________________________________\n",
      "dense_2 (Dense)              (None, 6)                 24582     \n",
      "=================================================================\n",
      "Total params: 58,305,926\n",
      "Trainable params: 58,305,926\n",
      "Non-trainable params: 0\n",
      "_________________________________________________________________\n"
     ]
    }
   ],
   "source": [
    "# create the model\n",
    "cnn = keras.Sequential()\n",
    "\n",
    "# set seed to 0\n",
    "np.random.seed(0)\n",
    "\n",
    "# add layeres\n",
    "# first layer\n",
    "cnn.add(keras.layers.Conv2D(filters = 96, # 96 filters\n",
    "                           kernel_size = (11, 11), # 11x11 kernel\n",
    "                           strides = 4,\n",
    "                           padding = \"SAME\", # same padding\n",
    "                           activation = \"relu\", # ReLU activation\n",
    "                           input_shape = [227, 227, 3] # 227x227 RGB images\n",
    "                           ))\n",
    "\n",
    "# max pooling layer\n",
    "cnn.add(keras.layers.MaxPool2D(pool_size = (3, 3), # 3x3 pool size\n",
    "                              strides = 2))\n",
    "\n",
    "# second convolutional layer\n",
    "cnn.add(keras.layers.Conv2D(filters = 256, # 256 filters will be used\n",
    "                           kernel_size = (5, 5), # 5x5 filter size\n",
    "                           strides = 1,\n",
    "                           padding = \"SAME\", # stride = 1 and padding = SAME will keep output dims equal\n",
    "                           activation = \"relu\"))\n",
    "\n",
    "# second max-pooling layer\n",
    "cnn.add(keras.layers.MaxPool2D(pool_size = (3, 3), # 3x3 pool size\n",
    "                              strides = 2))\n",
    "\n",
    "# third convolutional layer\n",
    "cnn.add(keras.layers.Conv2D(filters = 384, # 384 filters\n",
    "                           kernel_size = (3, 3),\n",
    "                           strides = 1,\n",
    "                           padding = \"SAME\", # keep same height and length dimensions\n",
    "                           activation = \"relu\"))\n",
    "\n",
    "# fourth convolutional layer\n",
    "cnn.add(keras.layers.Conv2D(filters = 384, # 384 filters again\n",
    "                           kernel_size = (3, 3), # size 3x3 filters\n",
    "                           strides = 1,\n",
    "                           padding = \"SAME\", # padding = SAME and strides = 1 keep the dimensions\n",
    "                           activation = \"relu\"))\n",
    "\n",
    "# fifth convolutional layer\n",
    "cnn.add(keras.layers.Conv2D(filters = 256, # 256 filteres now\n",
    "                           kernel_size = (3, 3), # size 3x3 filters\n",
    "                           strides = 1,\n",
    "                           padding = \"SAME\",\n",
    "                           activation = \"relu\"))\n",
    "\n",
    "# final max-pooling layer\n",
    "cnn.add(keras.layers.MaxPool2D(pool_size = (3, 3), # 3x3 max-pooling layer\n",
    "                              strides = 2)) # will reduce size to output 6x6x256\n",
    "\n",
    "# now, only fully-connected layers follow\n",
    "\n",
    "# flatten the layers\n",
    "cnn.add(keras.layers.Flatten())\n",
    "\n",
    "# first dense layer WITH dropout regularization\n",
    "cnn.add(keras.layers.Dropout(rate = 0.5, seed = 0))\n",
    "cnn.add(keras.layers.Dense(units = 4096, # we will put out 4096 artificial neurons\n",
    "                          activation = \"relu\", # still ReLU activation function\n",
    "                          ))\n",
    "\n",
    "# second dense layer WITH dropout\n",
    "cnn.add(keras.layers.Dropout(rate = 0.5, seed = 0))\n",
    "cnn.add(keras.layers.Dense(units = 4096,\n",
    "                          activation = \"relu\"))\n",
    "\n",
    "# third dense layer without dropout\n",
    "cnn.add(keras.layers.Dense(units = 6, # 6 output classes\n",
    "                          activation = \"softmax\"))\n",
    "\n",
    "# get summary of model\n",
    "cnn.summary()"
   ]
  },
  {
   "cell_type": "markdown",
   "metadata": {},
   "source": [
    "As we can see here, our model has 58.3 million trainable parameter, which would take quite long to train if our input wasn't only 280 images in the train set.\n",
    "\n",
    "Let's define the loss and optimization functions"
   ]
  },
  {
   "cell_type": "code",
   "execution_count": 5,
   "metadata": {},
   "outputs": [],
   "source": [
    "# define loss and optimization\n",
    "cnn.compile(optimizer = \"sgd\", # use stochastic gradient descent algorithm\n",
    "           loss = \"categorical_crossentropy\", # our input is already one-hot-encoded, so no sparse_cat..\n",
    "           metrics = [\"acc\"], # track accuracy values\n",
    "           )"
   ]
  },
  {
   "cell_type": "code",
   "execution_count": 6,
   "metadata": {},
   "outputs": [],
   "source": [
    "# define an early stop as we have a big model\n",
    "callback = keras.callbacks.EarlyStopping(monitor = \"val_loss\", # target variable to minimize\n",
    "                                        patience = 6 # stop after 6 epochs with no loss improvement\n",
    "                                        )"
   ]
  },
  {
   "cell_type": "code",
   "execution_count": 7,
   "metadata": {},
   "outputs": [
    {
     "name": "stdout",
     "output_type": "stream",
     "text": [
      "Epoch 1/100\n",
      "9/9 [==============================] - 40s 4s/step - loss: 1.7893 - acc: 0.1943 - val_loss: 1.7824 - val_acc: 0.2374\n",
      "Epoch 2/100\n",
      "9/9 [==============================] - 35s 4s/step - loss: 1.7734 - acc: 0.2514 - val_loss: 1.7697 - val_acc: 0.2374\n",
      "Epoch 3/100\n",
      "9/9 [==============================] - 34s 4s/step - loss: 1.7720 - acc: 0.2260 - val_loss: 1.7597 - val_acc: 0.2374\n",
      "Epoch 4/100\n",
      "9/9 [==============================] - 35s 4s/step - loss: 1.7533 - acc: 0.2326 - val_loss: 1.7472 - val_acc: 0.2374\n",
      "Epoch 5/100\n",
      "9/9 [==============================] - 34s 4s/step - loss: 1.7465 - acc: 0.2211 - val_loss: 1.7412 - val_acc: 0.2374\n",
      "Epoch 6/100\n",
      "9/9 [==============================] - 34s 4s/step - loss: 1.7466 - acc: 0.2570 - val_loss: 1.7399 - val_acc: 0.2374\n",
      "Epoch 7/100\n",
      "9/9 [==============================] - 34s 4s/step - loss: 1.7394 - acc: 0.2336 - val_loss: 1.7364 - val_acc: 0.2374\n",
      "Epoch 8/100\n",
      "9/9 [==============================] - 34s 4s/step - loss: 1.7397 - acc: 0.2576 - val_loss: 1.7350 - val_acc: 0.2374\n",
      "Epoch 9/100\n",
      "9/9 [==============================] - 34s 4s/step - loss: 1.7451 - acc: 0.2559 - val_loss: 1.7338 - val_acc: 0.2374\n",
      "Epoch 10/100\n",
      "9/9 [==============================] - 34s 4s/step - loss: 1.7396 - acc: 0.2758 - val_loss: 1.7323 - val_acc: 0.2446\n",
      "Epoch 11/100\n",
      "9/9 [==============================] - 34s 4s/step - loss: 1.7396 - acc: 0.2570 - val_loss: 1.7316 - val_acc: 0.2446\n",
      "Epoch 12/100\n",
      "9/9 [==============================] - 34s 4s/step - loss: 1.7421 - acc: 0.2490 - val_loss: 1.7309 - val_acc: 0.2662\n",
      "Epoch 13/100\n",
      "9/9 [==============================] - 34s 4s/step - loss: 1.7314 - acc: 0.2326 - val_loss: 1.7287 - val_acc: 0.2446\n",
      "Epoch 14/100\n",
      "9/9 [==============================] - 34s 4s/step - loss: 1.7394 - acc: 0.2549 - val_loss: 1.7293 - val_acc: 0.3381\n",
      "Epoch 15/100\n",
      "9/9 [==============================] - 34s 4s/step - loss: 1.7324 - acc: 0.2580 - val_loss: 1.7259 - val_acc: 0.2950\n",
      "Epoch 16/100\n",
      "9/9 [==============================] - 34s 4s/step - loss: 1.7340 - acc: 0.2719 - val_loss: 1.7266 - val_acc: 0.3381\n",
      "Epoch 17/100\n",
      "9/9 [==============================] - 34s 4s/step - loss: 1.7252 - acc: 0.2618 - val_loss: 1.7244 - val_acc: 0.3669\n",
      "Epoch 18/100\n",
      "9/9 [==============================] - 34s 4s/step - loss: 1.7347 - acc: 0.2385 - val_loss: 1.7255 - val_acc: 0.3381\n",
      "Epoch 19/100\n",
      "9/9 [==============================] - 34s 4s/step - loss: 1.7276 - acc: 0.2664 - val_loss: 1.7204 - val_acc: 0.3597\n",
      "Epoch 20/100\n",
      "9/9 [==============================] - 35s 4s/step - loss: 1.7223 - acc: 0.2848 - val_loss: 1.7187 - val_acc: 0.3453\n",
      "Epoch 21/100\n",
      "9/9 [==============================] - 35s 4s/step - loss: 1.7262 - acc: 0.2538 - val_loss: 1.7148 - val_acc: 0.3381\n",
      "Epoch 22/100\n",
      "9/9 [==============================] - 35s 4s/step - loss: 1.7143 - acc: 0.2810 - val_loss: 1.7119 - val_acc: 0.3453\n",
      "Epoch 23/100\n",
      "9/9 [==============================] - 35s 4s/step - loss: 1.7249 - acc: 0.3088 - val_loss: 1.7081 - val_acc: 0.3453\n",
      "Epoch 24/100\n",
      "9/9 [==============================] - 34s 4s/step - loss: 1.7235 - acc: 0.2883 - val_loss: 1.7101 - val_acc: 0.3597\n",
      "Epoch 25/100\n",
      "9/9 [==============================] - 35s 4s/step - loss: 1.7157 - acc: 0.2970 - val_loss: 1.7009 - val_acc: 0.3525\n",
      "Epoch 26/100\n",
      "9/9 [==============================] - 33s 4s/step - loss: 1.7161 - acc: 0.2813 - val_loss: 1.6978 - val_acc: 0.3453\n",
      "Epoch 27/100\n",
      "9/9 [==============================] - 34s 4s/step - loss: 1.7125 - acc: 0.2827 - val_loss: 1.6952 - val_acc: 0.3381\n",
      "Epoch 28/100\n",
      "9/9 [==============================] - 33s 4s/step - loss: 1.7086 - acc: 0.3123 - val_loss: 1.6912 - val_acc: 0.3597\n",
      "Epoch 29/100\n",
      "9/9 [==============================] - 37s 4s/step - loss: 1.7148 - acc: 0.3082 - val_loss: 1.6971 - val_acc: 0.3669\n",
      "Epoch 30/100\n",
      "9/9 [==============================] - 36s 4s/step - loss: 1.7049 - acc: 0.2987 - val_loss: 1.6787 - val_acc: 0.3453\n",
      "Epoch 31/100\n",
      "9/9 [==============================] - 35s 4s/step - loss: 1.7044 - acc: 0.3043 - val_loss: 1.6737 - val_acc: 0.3237\n",
      "Epoch 32/100\n",
      "9/9 [==============================] - 36s 4s/step - loss: 1.6880 - acc: 0.3322 - val_loss: 1.6712 - val_acc: 0.4101\n",
      "Epoch 33/100\n",
      "9/9 [==============================] - 36s 4s/step - loss: 1.6889 - acc: 0.3409 - val_loss: 1.6537 - val_acc: 0.3525\n",
      "Epoch 34/100\n",
      "9/9 [==============================] - 36s 4s/step - loss: 1.6755 - acc: 0.3680 - val_loss: 1.6533 - val_acc: 0.3597\n",
      "Epoch 35/100\n",
      "9/9 [==============================] - 36s 4s/step - loss: 1.6743 - acc: 0.3555 - val_loss: 1.6491 - val_acc: 0.3453\n",
      "Epoch 36/100\n",
      "9/9 [==============================] - 36s 4s/step - loss: 1.6606 - acc: 0.3238 - val_loss: 1.6374 - val_acc: 0.3525\n",
      "Epoch 37/100\n",
      "9/9 [==============================] - 36s 4s/step - loss: 1.6675 - acc: 0.3336 - val_loss: 1.6253 - val_acc: 0.3813\n",
      "Epoch 38/100\n",
      "9/9 [==============================] - 36s 4s/step - loss: 1.6528 - acc: 0.3694 - val_loss: 1.6296 - val_acc: 0.3813\n",
      "Epoch 39/100\n",
      "9/9 [==============================] - 34s 4s/step - loss: 1.6290 - acc: 0.3618 - val_loss: 1.6012 - val_acc: 0.3957\n",
      "Epoch 40/100\n",
      "9/9 [==============================] - 34s 4s/step - loss: 1.6746 - acc: 0.3252 - val_loss: 1.6125 - val_acc: 0.3813\n",
      "Epoch 41/100\n",
      "9/9 [==============================] - 34s 4s/step - loss: 1.6217 - acc: 0.3740 - val_loss: 1.5967 - val_acc: 0.4029\n",
      "Epoch 42/100\n",
      "9/9 [==============================] - 35s 4s/step - loss: 1.6005 - acc: 0.3879 - val_loss: 1.5814 - val_acc: 0.3885\n",
      "Epoch 43/100\n",
      "9/9 [==============================] - 34s 4s/step - loss: 1.5651 - acc: 0.3994 - val_loss: 1.6093 - val_acc: 0.3957\n",
      "Epoch 44/100\n",
      "9/9 [==============================] - 34s 4s/step - loss: 1.5885 - acc: 0.4133 - val_loss: 1.5390 - val_acc: 0.4388\n",
      "Epoch 45/100\n",
      "9/9 [==============================] - 34s 4s/step - loss: 1.5480 - acc: 0.3785 - val_loss: 1.5625 - val_acc: 0.3813\n",
      "Epoch 46/100\n",
      "9/9 [==============================] - 36s 4s/step - loss: 1.5151 - acc: 0.4384 - val_loss: 1.5093 - val_acc: 0.4532\n",
      "Epoch 47/100\n",
      "9/9 [==============================] - 34s 4s/step - loss: 1.5140 - acc: 0.4338 - val_loss: 1.5730 - val_acc: 0.4029\n",
      "Epoch 48/100\n",
      "9/9 [==============================] - 34s 4s/step - loss: 1.4973 - acc: 0.4478 - val_loss: 1.6018 - val_acc: 0.4029\n",
      "Epoch 49/100\n",
      "9/9 [==============================] - 34s 4s/step - loss: 1.4480 - acc: 0.4641 - val_loss: 1.6341 - val_acc: 0.3885\n",
      "Epoch 50/100\n",
      "9/9 [==============================] - 34s 4s/step - loss: 1.4571 - acc: 0.4540 - val_loss: 1.4598 - val_acc: 0.4245\n",
      "Epoch 51/100\n",
      "9/9 [==============================] - 34s 4s/step - loss: 1.4845 - acc: 0.4192 - val_loss: 1.4947 - val_acc: 0.4029\n",
      "Epoch 52/100\n",
      "9/9 [==============================] - 34s 4s/step - loss: 1.4301 - acc: 0.4641 - val_loss: 1.4727 - val_acc: 0.4532\n",
      "Epoch 53/100\n",
      "9/9 [==============================] - 34s 4s/step - loss: 1.4337 - acc: 0.4506 - val_loss: 1.4063 - val_acc: 0.4748\n",
      "Epoch 54/100\n",
      "9/9 [==============================] - 35s 4s/step - loss: 1.4563 - acc: 0.4182 - val_loss: 1.4380 - val_acc: 0.4820\n",
      "Epoch 55/100\n",
      "9/9 [==============================] - 37s 4s/step - loss: 1.3425 - acc: 0.5191 - val_loss: 1.4188 - val_acc: 0.4892\n",
      "Epoch 56/100\n",
      "9/9 [==============================] - 35s 4s/step - loss: 1.3809 - acc: 0.4819 - val_loss: 1.5527 - val_acc: 0.4101\n",
      "Epoch 57/100\n",
      "9/9 [==============================] - 34s 4s/step - loss: 1.3301 - acc: 0.4829 - val_loss: 1.4019 - val_acc: 0.4820\n",
      "Epoch 58/100\n",
      "9/9 [==============================] - 34s 4s/step - loss: 1.4254 - acc: 0.4426 - val_loss: 1.4263 - val_acc: 0.5540\n",
      "Epoch 59/100\n",
      "9/9 [==============================] - 34s 4s/step - loss: 1.3337 - acc: 0.5031 - val_loss: 1.3548 - val_acc: 0.5108\n",
      "Epoch 60/100\n",
      "9/9 [==============================] - 34s 4s/step - loss: 1.3106 - acc: 0.4697 - val_loss: 1.3388 - val_acc: 0.4820\n",
      "Epoch 61/100\n",
      "9/9 [==============================] - 34s 4s/step - loss: 1.2816 - acc: 0.5195 - val_loss: 1.4223 - val_acc: 0.4245\n",
      "Epoch 62/100\n",
      "9/9 [==============================] - 34s 4s/step - loss: 1.4047 - acc: 0.4930 - val_loss: 1.3663 - val_acc: 0.5108\n",
      "Epoch 63/100\n",
      "9/9 [==============================] - 34s 4s/step - loss: 1.2967 - acc: 0.5244 - val_loss: 1.3521 - val_acc: 0.4820\n",
      "Epoch 64/100\n",
      "9/9 [==============================] - 34s 4s/step - loss: 1.2339 - acc: 0.5627 - val_loss: 1.3236 - val_acc: 0.5396\n",
      "Epoch 65/100\n",
      "9/9 [==============================] - 34s 4s/step - loss: 1.2571 - acc: 0.5599 - val_loss: 1.3524 - val_acc: 0.4676\n",
      "Epoch 66/100\n",
      "9/9 [==============================] - 33s 4s/step - loss: 1.3256 - acc: 0.4889 - val_loss: 1.3539 - val_acc: 0.4820\n",
      "Epoch 67/100\n",
      "9/9 [==============================] - 34s 4s/step - loss: 1.2775 - acc: 0.4910 - val_loss: 1.3942 - val_acc: 0.4676\n",
      "Epoch 68/100\n",
      "9/9 [==============================] - 34s 4s/step - loss: 1.1941 - acc: 0.5696 - val_loss: 1.2830 - val_acc: 0.5108\n",
      "Epoch 69/100\n",
      "9/9 [==============================] - 34s 4s/step - loss: 1.2031 - acc: 0.5623 - val_loss: 1.4690 - val_acc: 0.4029\n",
      "Epoch 70/100\n",
      "9/9 [==============================] - 34s 4s/step - loss: 1.2757 - acc: 0.5240 - val_loss: 1.4497 - val_acc: 0.5036\n",
      "Epoch 71/100\n",
      "9/9 [==============================] - 33s 4s/step - loss: 1.1733 - acc: 0.5773 - val_loss: 1.3313 - val_acc: 0.4964\n",
      "Epoch 72/100\n",
      "9/9 [==============================] - 34s 4s/step - loss: 1.2100 - acc: 0.5369 - val_loss: 1.2820 - val_acc: 0.5180\n",
      "Epoch 73/100\n",
      "9/9 [==============================] - 34s 4s/step - loss: 1.1055 - acc: 0.6340 - val_loss: 1.4181 - val_acc: 0.4820\n",
      "Epoch 74/100\n",
      "9/9 [==============================] - 35s 4s/step - loss: 1.0830 - acc: 0.5916 - val_loss: 1.4886 - val_acc: 0.4604\n",
      "Epoch 75/100\n",
      "9/9 [==============================] - 36s 4s/step - loss: 1.1477 - acc: 0.5787 - val_loss: 2.4108 - val_acc: 0.3237\n",
      "Epoch 76/100\n",
      "9/9 [==============================] - 35s 4s/step - loss: 1.2764 - acc: 0.5449 - val_loss: 1.3268 - val_acc: 0.4748\n",
      "Epoch 77/100\n",
      "9/9 [==============================] - 34s 4s/step - loss: 1.0777 - acc: 0.6065 - val_loss: 1.2990 - val_acc: 0.5036\n",
      "Epoch 78/100\n",
      "9/9 [==============================] - 35s 4s/step - loss: 1.0288 - acc: 0.6323 - val_loss: 1.3705 - val_acc: 0.5036\n"
     ]
    }
   ],
   "source": [
    "# train the model\n",
    "# need to use fit_generator as we have our input data in generators\n",
    "history = cnn.fit_generator(generator = trainset, validation_data = validset,\n",
    "                           epochs = 100, # upper limit of epochs to train\n",
    "                           callbacks = [callback] # stop early when defined callback is reached\n",
    "                           )"
   ]
  },
  {
   "cell_type": "markdown",
   "metadata": {},
   "source": [
    "The training process stopped after 78 epochs, i.e. it has trained 78 times on the whole 280 images. After a `patience = 6` waiting period, the process stopped due to the early callback. This means that our model metric `val_loss` wasn't improving (--> decreasing) anymore for 6 epochs and thus can't learn more from the fed training data. \n",
    "\n",
    "To get a perspective of how much the model improved / \"learned\" in the 78 epochs, let's plot the loss and accuracy of both training and validation values"
   ]
  },
  {
   "cell_type": "code",
   "execution_count": 8,
   "metadata": {},
   "outputs": [
    {
     "data": {
      "image/png": "[encoded data removed]",
      "text/plain": [
       "<Figure size 864x432 with 2 Axes>"
      ]
     },
     "metadata": {
      "needs_background": "light"
     },
     "output_type": "display_data"
    }
   ],
   "source": [
    "# plot the results\n",
    "fig, (ax1, ax2) = plt.subplots(nrows = 1, ncols = 2, figsize = (12, 6))\n",
    "\n",
    "# first plot is loss comparison\n",
    "ax1.plot(history.history[\"loss\"], label = \"train loss\")\n",
    "ax1.plot(history.history[\"val_loss\"], label = \"validation loss\")\n",
    "ax1.set_xlabel(\"epoch\")\n",
    "ax1.set_ylabel(\"loss value\")\n",
    "ax1.legend()\n",
    "ax1.set_title(\"Validation loss value = {:.3f} (mean last 3)\".format(np.mean(\n",
    "    history.history[\"val_loss\"][-3:])))\n",
    "\n",
    "ax2.plot(history.history[\"acc\"], label = \"train accuracy\")\n",
    "ax2.plot(history.history[\"val_acc\"], label = \"validation accuracy\")\n",
    "ax2.set_xlabel(\"epoch\")\n",
    "ax2.set_ylabel(\"accuracy\")\n",
    "ax2.legend()\n",
    "ax2.set_title(\"Validation accuracy = {:.3f} (mean last 3)\".format(np.mean(\n",
    "    history.history[\"val_acc\"][-3:])))\n",
    "\n",
    "plt.show()"
   ]
  },
  {
   "cell_type": "markdown",
   "metadata": {},
   "source": [
    "We can see a clear decrease in training and validation loss value in the first 40 epochs, which indicates that the model learned a lot there. Then, there were spikes during which the loss value spiked to bigger loss values, indicating that the model variance increased during that times. The spikes got larger and larger with continuing epochs, first on the validation set, then on the training set aswell. However, the spikes in the validation set are always bigger.\n",
    "> I am not sure how to accurately interpret the spikes, especially the very large one, i.e. why they happended, why they happend at that moment, etc.\n",
    "\n",
    "Regarding accuracy, we can observe a varying curve but with a clear trend upwards until around 60 epochs. At that time, the variances got so large that it isn't clear anymore whether the validation accuracy continues to rise or drop. From epoch 60 to epoch 78, the model starts to overfit. Training accuracy rises - but also with large variances of ~10 percentage points - but validation accuracy at the same time starts to vary ~20 percentage points or more.\n",
    "\n",
    "Let's evaluate the test accuracy of our convolutional neural network"
   ]
  },
  {
   "cell_type": "code",
   "execution_count": 9,
   "metadata": {},
   "outputs": [
    {
     "name": "stdout",
     "output_type": "stream",
     "text": [
      "test accuracy: 0.5599999976158142\n"
     ]
    }
   ],
   "source": [
    "# get test accuracy\n",
    "test_loss, test_accuracy = cnn.evaluate_generator(testset)\n",
    "\n",
    "print(\"test accuracy:\", test_accuracy)"
   ]
  },
  {
   "cell_type": "markdown",
   "metadata": {},
   "source": [
    "In general, our model reaches accuracies of ~56%, which is pretty impressive (**in this case, of course, the achievement of AlexNet, which has been researched and engineered by experts of the field**) considering a training sample size of only 280 images.\n",
    "\n",
    "Still, the model doesn't reach accuracies that are comparable to our other successful models, such as k-NN, logistic regression, or svm with rbf kernel. \n",
    "\n",
    "The difference, however, is that we trained a model here on the actual pixel values of the raw images. In all other models, we used the outputs of a pre-trained, highly complex model which did most of the work for us, i.e. extracting the valuable patterns and handing us those patterns in easily interpretable, numerical form for other models to pick up on. Our models were presented with numerical values that another model found out. As a consequcence, we were able to get good results (~96% accuracy) with only 280 training images.\n",
    "\n",
    "Here, it makes sense that our accuracy stays in the lower ranges because we only have 280 images to train on. Probably very few models - if any - would get consistently good results (90%+ accuracy) with only 280 images/data points to train on. As far as I know, this is exactly the general problem with deep learning and neural nets: you need data en masse to train, validate, and test your models; and often times - e.g. in medical imaging - the data isn't readily available. As a result, it is difficult to create robust models in which you can place a lot of trust in critical situations.\n",
    "\n",
    "As a point of comparison, our other models trained on e.g. MNIST, had several thousand images available. To get good results in more complex RGB images, we would need at least the same amount of images, i.e. several thousands, to get comparable results."
   ]
  },
  {
   "cell_type": "code",
   "execution_count": 10,
   "metadata": {},
   "outputs": [],
   "source": [
    "import pandas as pd\n",
    "\n",
    "# save the accuracy in a csv file\n",
    "save_df = pd.DataFrame({\n",
    "    \"model\": [\"cnn\"],\n",
    "    \"test_accuracy\": [test_accuracy]\n",
    "})\n",
    "\n",
    "save_df.to_csv(\"/Users/Ingo/Python Files/Course-project4/07_conv-neural-net.csv\",\n",
    "              index = False)"
   ]
  },
  {
   "cell_type": "code",
   "execution_count": null,
   "metadata": {},
   "outputs": [],
   "source": []
  }
 ],
 "metadata": {
  "kernelspec": {
   "display_name": "Python 3",
   "language": "python",
   "name": "python3"
  },
  "language_info": {
   "codemirror_mode": {
    "name": "ipython",
    "version": 3
   },
   "file_extension": ".py",
   "mimetype": "text/x-python",
   "name": "python",
   "nbconvert_exporter": "python",
   "pygments_lexer": "ipython3",
   "version": "3.6.9"
  }
 },
 "nbformat": 4,
 "nbformat_minor": 2
}
