{
 "cells": [
  {
   "cell_type": "code",
   "execution_count": 1,
   "metadata": {},
   "outputs": [],
   "source": [
    "import numpy as np\n",
    "import pandas as pd\n",
    "import matplotlib.pyplot as plt\n",
    "%matplotlib inline"
   ]
  },
  {
   "cell_type": "code",
   "execution_count": 2,
   "metadata": {},
   "outputs": [
    {
     "name": "stdout",
     "output_type": "stream",
     "text": [
      "X_tr shape: (115027, 223)\n",
      "y_tr shape: (115027,)\n",
      "X_val shape: (41424, 223)\n",
      "y_val shape: (41424,)\n",
      "X_te shape: (41378, 223)\n",
      "y_te shape: (41378,)\n"
     ]
    }
   ],
   "source": [
    "# load combined train set\n",
    "with np.load(\n",
    "    \"/Users/Ingo/Python Files/Capstone Project/preprocessed_dfs/train_set_preprocessed.npz\") as npz_file:\n",
    "    X_tr_np = npz_file[\"features\"]\n",
    "    y_tr = npz_file[\"labels\"]\n",
    "    print(\"X_tr shape:\", X_tr_np.shape)\n",
    "    print(\"y_tr shape:\", y_tr.shape)\n",
    "    \n",
    "# load combined val set\n",
    "with np.load(\n",
    "    \"/Users/Ingo/Python Files/Capstone Project/preprocessed_dfs/val_set_preprocessed.npz\") as npz_file:\n",
    "    X_val_np = npz_file[\"features\"]\n",
    "    y_val = npz_file[\"labels\"]\n",
    "    print(\"X_val shape:\", X_val_np.shape)\n",
    "    print(\"y_val shape:\", y_val.shape)\n",
    "    \n",
    "# load combined test set\n",
    "with np.load(\n",
    "    \"/Users/Ingo/Python Files/Capstone Project/preprocessed_dfs/test_set_preprocessed.npz\") as npz_file:\n",
    "    X_te_np = npz_file[\"features\"]\n",
    "    y_te = npz_file[\"labels\"]\n",
    "    print(\"X_te shape:\", X_te_np.shape)\n",
    "    print(\"y_te shape:\", y_te.shape)"
   ]
  },
  {
   "cell_type": "code",
   "execution_count": 3,
   "metadata": {},
   "outputs": [
    {
     "name": "stdout",
     "output_type": "stream",
     "text": [
      "X_tr_b shape: (44295, 125)\n",
      "y_tr_b shape: (44295,)\n",
      "X_val_b shape: (15387, 125)\n",
      "y_val_b shape: (15387,)\n",
      "X_te_b shape: (15871, 125)\n",
      "y_te_b shape: (15871,)\n"
     ]
    }
   ],
   "source": [
    "# load B term train set\n",
    "with np.load(\n",
    "    \"/Users/Ingo/Python Files/Capstone Project/preprocessed_dfs/train_set_preprocessed_b.npz\") as npz_file:\n",
    "    X_tr_b_np = npz_file[\"features\"]\n",
    "    y_tr_b = npz_file[\"labels\"]\n",
    "    print(\"X_tr_b shape:\", X_tr_b_np.shape)\n",
    "    print(\"y_tr_b shape:\", y_tr_b.shape)\n",
    "    \n",
    "# load B term val set\n",
    "with np.load(\n",
    "    \"/Users/Ingo/Python Files/Capstone Project/preprocessed_dfs/val_set_preprocessed_b.npz\") as npz_file:\n",
    "    X_val_b_np = npz_file[\"features\"]\n",
    "    y_val_b = npz_file[\"labels\"]\n",
    "    print(\"X_val_b shape:\", X_val_b_np.shape)\n",
    "    print(\"y_val_b shape:\", y_val_b.shape)\n",
    "    \n",
    "# load B term test set\n",
    "with np.load(\n",
    "    \"/Users/Ingo/Python Files/Capstone Project/preprocessed_dfs/test_set_preprocessed_b.npz\") as npz_file:\n",
    "    X_te_b_np = npz_file[\"features\"]\n",
    "    y_te_b = npz_file[\"labels\"]\n",
    "    print(\"X_te_b shape:\", X_te_b_np.shape)\n",
    "    print(\"y_te_b shape:\", y_te_b.shape)"
   ]
  },
  {
   "cell_type": "code",
   "execution_count": 4,
   "metadata": {},
   "outputs": [
    {
     "name": "stdout",
     "output_type": "stream",
     "text": [
      "X_tr_j shape: (62447, 137)\n",
      "y_tr_j shape: (62447,)\n",
      "X_val_j shape: (22864, 137)\n",
      "y_val_j shape: (22864,)\n",
      "X_te_j shape: (22738, 137)\n",
      "y_te_j shape: (22738,)\n"
     ]
    }
   ],
   "source": [
    "# load J term train set\n",
    "with np.load(\n",
    "    \"/Users/Ingo/Python Files/Capstone Project/preprocessed_dfs/train_set_preprocessed_j.npz\") as npz_file:\n",
    "    X_tr_j_np = npz_file[\"features\"]\n",
    "    y_tr_j = npz_file[\"labels\"]\n",
    "    print(\"X_tr_j shape:\", X_tr_j_np.shape)\n",
    "    print(\"y_tr_j shape:\", y_tr_j.shape)\n",
    "    \n",
    "# load J term val set\n",
    "with np.load(\n",
    "    \"/Users/Ingo/Python Files/Capstone Project/preprocessed_dfs/val_set_preprocessed_j.npz\") as npz_file:\n",
    "    X_val_j_np = npz_file[\"features\"]\n",
    "    y_val_j = npz_file[\"labels\"]\n",
    "    print(\"X_val_j shape:\", X_val_j_np.shape)\n",
    "    print(\"y_val_j shape:\", y_val_j.shape)\n",
    "    \n",
    "# load J term test set\n",
    "with np.load(\n",
    "    \"/Users/Ingo/Python Files/Capstone Project/preprocessed_dfs/test_set_preprocessed_j.npz\") as npz_file:\n",
    "    X_te_j_np = npz_file[\"features\"]\n",
    "    y_te_j = npz_file[\"labels\"]\n",
    "    print(\"X_te_j shape:\", X_te_j_np.shape)\n",
    "    print(\"y_te_j shape:\", y_te_j.shape)"
   ]
  },
  {
   "cell_type": "markdown",
   "metadata": {},
   "source": [
    "As all the files are very large, the computation time required for e.g. grid search gets extremely long. Therefore, I will use sparse matrices, which significantly speed up the compute time of every model and tuning operation.\n",
    "\n",
    "Scipy advises that it is better to construct matrices from numpy arrays using `lil_matrix` first, which is a linked-list matrix. Only after that it is advised to convert the matrix to sklearn's required `csr` format."
   ]
  },
  {
   "cell_type": "code",
   "execution_count": 5,
   "metadata": {},
   "outputs": [],
   "source": [
    "# convert all matrices to sparse format to use in models\n",
    "from scipy.sparse import lil_matrix\n",
    "\n",
    "X_tr = lil_matrix(X_tr_np, dtype = np.float32).tocsr()\n",
    "X_val = lil_matrix(X_val_np, dtype = np.float32).tocsr()\n",
    "X_te = lil_matrix(X_te_np, dtype = np.float32).tocsr()\n",
    "\n",
    "X_tr_b = lil_matrix(X_tr_b_np, dtype = np.float32).tocsr()\n",
    "X_val_b = lil_matrix(X_val_b_np, dtype = np.float32).tocsr()\n",
    "X_te_b = lil_matrix(X_te_b_np, dtype = np.float32).tocsr()\n",
    "\n",
    "X_tr_j = lil_matrix(X_tr_j_np, dtype = np.float32).tocsr()\n",
    "X_val_j = lil_matrix(X_val_j_np, dtype = np.float32).tocsr()\n",
    "X_te_j = lil_matrix(X_te_j_np, dtype = np.float32).tocsr()"
   ]
  },
  {
   "cell_type": "markdown",
   "metadata": {},
   "source": [
    "### Most-Frequent Baseline\n",
    "We will now get the most-frequent baseline of all of our sets. The theory is to create a naïve model that always predicts the most frequent value of the train set and always predicts that value in the test set."
   ]
  },
  {
   "cell_type": "code",
   "execution_count": 6,
   "metadata": {},
   "outputs": [
    {
     "name": "stdout",
     "output_type": "stream",
     "text": [
      "combined test set accuracy: 0.58\n",
      "B term test set accuracy: 0.59\n",
      "J term test set accuracy: 0.58\n"
     ]
    }
   ],
   "source": [
    "from sklearn.dummy import DummyClassifier\n",
    "\n",
    "# create object\n",
    "dummy = DummyClassifier(strategy = \"most_frequent\")\n",
    "\n",
    "# fit object, combined set\n",
    "dummy.fit(None, y_tr)\n",
    "# get accuracy of combined test set\n",
    "logreg_baseline = dummy.score(None, y_te)\n",
    "print(\"combined test set accuracy: {:.2f}\".format(logreg_baseline))\n",
    "\n",
    "# fit objet, B term\n",
    "dummy.fit(None, y_tr_b)\n",
    "# get accuracy of B term test set\n",
    "logreg_baseline_b = dummy.score(None, y_te_b)\n",
    "print(\"B term test set accuracy: {:.2f}\".format(logreg_baseline_b))\n",
    "\n",
    "# fit object, J term\n",
    "dummy.fit(None, y_tr_j)\n",
    "# get accuracy of J term test set\n",
    "logreg_baseline_j = dummy.score(None, y_te_j)\n",
    "print(\"J term test set accuracy: {:.2f}\".format(logreg_baseline_j))"
   ]
  },
  {
   "cell_type": "markdown",
   "metadata": {},
   "source": [
    "Our unique student data got partially multiplied in the merging process, hence our final results also got multiplied. As a consequence, the most common label `Pass` got multiplied, too, because all students who passed wrote multiple assessments which all have the final result `Pass`.\n",
    "\n",
    "A baseline accuracy of 58% or 59% is rather high, however, it is plausible as the label `Pass` got multiplied and now apparently accounts for around 60% of all labels."
   ]
  },
  {
   "cell_type": "markdown",
   "metadata": {},
   "source": [
    "### Logistic Regression\n",
    "We will now build a logistic regression classifier. At first, we will check whether One-vs-Rest multi-class or softmax produces better results.\n",
    "\n",
    "#### Regarding scaling:\n",
    "One one hand, we need a sparse matrix because otherwise computation time is extremely high for the following estimators. On the other hand, `StandardScaler` doesn't accept a sparse matrix as input because [centering a sparse matrix would destroy the sparse structure](https://scikit-learn.org/stable/modules/preprocessing.html#scaling-sparse-data). Sklearn mentions that one way to fight this problem is to use `StandardScaler` and use `with_mean = False`. However, the suggested and preferred (by sklearn) way is to use [MaxAbsScaler](https://scikit-learn.org/stable/modules/generated/sklearn.preprocessing.MaxAbsScaler.html#sklearn.preprocessing.MaxAbsScaler), which doesn't center the data around 0 but scales it in a `[-1, 1]` range."
   ]
  },
  {
   "cell_type": "code",
   "execution_count": 7,
   "metadata": {},
   "outputs": [
    {
     "name": "stdout",
     "output_type": "stream",
     "text": [
      "OvR/liblinear logistic regression accuracy, combined model: 0.66\n"
     ]
    }
   ],
   "source": [
    "from sklearn.linear_model import LogisticRegression\n",
    "from sklearn.pipeline import Pipeline\n",
    "from sklearn.preprocessing import MaxAbsScaler\n",
    "\n",
    "# OvR, saga for large data sets\n",
    "logreg_ovr = LogisticRegression(multi_class = \"ovr\", solver = \"liblinear\")\n",
    "\n",
    "# create pipelines to apply MaxAbsScaler\n",
    "pipe_ovr = Pipeline([\n",
    "    (\"scaler\", MaxAbsScaler()), # scale numerical features but don't center them to keep sparse matrix\n",
    "    (\"logreg_ovr\", logreg_ovr)]) # logistic regression object\n",
    "\n",
    "# fit with training data\n",
    "pipe_ovr.fit(X_tr, y_tr)\n",
    "\n",
    "# get accuracy on test data\n",
    "pipe_ovr_acc = pipe_ovr.score(X_te, y_te)\n",
    "\n",
    "print(\"OvR/liblinear logistic regression accuracy, combined model: {:.2f}\".format(pipe_ovr_acc))"
   ]
  },
  {
   "cell_type": "code",
   "execution_count": 8,
   "metadata": {},
   "outputs": [
    {
     "name": "stdout",
     "output_type": "stream",
     "text": [
      "Softmax/lbfgs logistic regression accuracy, combined model: 0.65\n"
     ]
    }
   ],
   "source": [
    "# liblinear isn't compatible with multinomial \n",
    "np.random.seed(0)\n",
    "\n",
    "# create object\n",
    "logreg_sm = LogisticRegression(multi_class = \"multinomial\", solver = \"lbfgs\", n_jobs = -1)\n",
    "\n",
    "# create pipeline\n",
    "pipe_sm = Pipeline([(\"scaler\", MaxAbsScaler()), (\"logreg_sm\", logreg_sm)])\n",
    "\n",
    "# fit with training data\n",
    "pipe_sm.fit(X_tr, y_tr)\n",
    "\n",
    "# get accuracy\n",
    "pipe_sm_acc = pipe_sm.score(X_te, y_te)\n",
    "print(\"Softmax/lbfgs logistic regression accuracy, combined model: {:.2f}\".format(pipe_sm_acc))"
   ]
  },
  {
   "cell_type": "code",
   "execution_count": 9,
   "metadata": {},
   "outputs": [
    {
     "name": "stdout",
     "output_type": "stream",
     "text": [
      "Softmax/sag logistic regression accuracy, combined model: 0.66\n"
     ]
    },
    {
     "name": "stderr",
     "output_type": "stream",
     "text": [
      "/opt/anaconda3/envs/exts-ml/lib/python3.6/site-packages/sklearn/linear_model/sag.py:334: ConvergenceWarning: The max_iter was reached which means the coef_ did not converge\n",
      "  \"the coef_ did not converge\", ConvergenceWarning)\n"
     ]
    }
   ],
   "source": [
    "np.random.seed(0)\n",
    "\n",
    "# create object\n",
    "logreg_sm2 = LogisticRegression(multi_class = \"multinomial\", solver = \"sag\", n_jobs = -1, max_iter = 200)\n",
    "\n",
    "# create pipeline\n",
    "pipe_sm2 = Pipeline([(\"scaler\", MaxAbsScaler()), (\"logreg_sm2\", logreg_sm2)])\n",
    "\n",
    "# fit with training data\n",
    "pipe_sm2.fit(X_tr, y_tr)\n",
    "\n",
    "# get accuracy\n",
    "pipe_sm2_acc = pipe_sm2.score(X_te, y_te)\n",
    "print(\"Softmax/sag logistic regression accuracy, combined model: {:.2f}\".format(pipe_sm2_acc))"
   ]
  },
  {
   "cell_type": "code",
   "execution_count": 10,
   "metadata": {},
   "outputs": [
    {
     "name": "stdout",
     "output_type": "stream",
     "text": [
      "Softmax/saga logistic regression accuracy, combined model: 0.66\n"
     ]
    }
   ],
   "source": [
    "np.random.seed(0)\n",
    "\n",
    "# create object\n",
    "logreg_sm3 = LogisticRegression(multi_class = \"multinomial\", solver = \"saga\", n_jobs = -1)\n",
    "\n",
    "# create pipeline\n",
    "pipe_sm3 = Pipeline([(\"scaler\", MaxAbsScaler()), (\"logreg_sm3\", logreg_sm3)])\n",
    "\n",
    "# fit with training data\n",
    "pipe_sm3.fit(X_tr, y_tr)\n",
    "\n",
    "# get accuracy\n",
    "pipe_sm3_acc = pipe_sm3.score(X_te, y_te)\n",
    "print(\"Softmax/saga logistic regression accuracy, combined model: {:.2f}\".format(pipe_sm3_acc))"
   ]
  },
  {
   "cell_type": "markdown",
   "metadata": {},
   "source": [
    "We get marginally better results with `multi_class = \"multinomial\"` in combination with `solver = \"sag\"` or `solver = \"saga\"` than with `scaler = \"lbfgs\"` or `scaler = \"liblinear\"`. For `solver = \"sag\"`, we need 200 maximum iterations whereas `solver = \"saga\"` works with the default 100.\n",
    "For this reason, going forward, I will use `multi_class = \"multinomial\", solver = \"saga\"`.\n",
    "\n",
    "We will now start the process of finding the best regularization strength `C` for each of the combined/B/J sets."
   ]
  },
  {
   "cell_type": "code",
   "execution_count": 11,
   "metadata": {},
   "outputs": [
    {
     "name": "stdout",
     "output_type": "stream",
     "text": [
      "length of logistic regression grid: 20\n"
     ]
    }
   ],
   "source": [
    "from sklearn.model_selection import ParameterGrid\n",
    "\n",
    "# create 3 pipelines for our models\n",
    "pipe_lr = Pipeline([\n",
    "    (\"scaler\", MaxAbsScaler()),\n",
    "    (\"logreg\", LogisticRegression(multi_class = \"multinomial\", solver = \"saga\", n_jobs = -1, tol = 0.001,\n",
    "                                  max_iter = 300))]) # we still need more iterations for grid search\n",
    "\n",
    "\n",
    "# create grid, here, we only have one parameter: C\n",
    "grid_lr = ParameterGrid({\n",
    "    \"logreg__C\": np.logspace(-4, 1, 20) # hyperparameter affect model on logarithmic scale\n",
    "})\n",
    "\n",
    "# length of grid: 20 values\n",
    "print(\"length of logistic regression grid:\", len(grid_lr))"
   ]
  },
  {
   "cell_type": "code",
   "execution_count": 12,
   "metadata": {},
   "outputs": [
    {
     "data": {
      "text/html": [
       "<div>\n",
       "<style scoped>\n",
       "    .dataframe tbody tr th:only-of-type {\n",
       "        vertical-align: middle;\n",
       "    }\n",
       "\n",
       "    .dataframe tbody tr th {\n",
       "        vertical-align: top;\n",
       "    }\n",
       "\n",
       "    .dataframe thead th {\n",
       "        text-align: right;\n",
       "    }\n",
       "</style>\n",
       "<table border=\"1\" class=\"dataframe\">\n",
       "  <thead>\n",
       "    <tr style=\"text-align: right;\">\n",
       "      <th></th>\n",
       "      <th>logreg__C</th>\n",
       "      <th>train_acc</th>\n",
       "      <th>val_acc</th>\n",
       "    </tr>\n",
       "  </thead>\n",
       "  <tbody>\n",
       "    <tr>\n",
       "      <th>17</th>\n",
       "      <td>2.976351</td>\n",
       "      <td>0.667895</td>\n",
       "      <td>0.648127</td>\n",
       "    </tr>\n",
       "    <tr>\n",
       "      <th>19</th>\n",
       "      <td>10.000000</td>\n",
       "      <td>0.668817</td>\n",
       "      <td>0.647934</td>\n",
       "    </tr>\n",
       "    <tr>\n",
       "      <th>18</th>\n",
       "      <td>5.455595</td>\n",
       "      <td>0.668374</td>\n",
       "      <td>0.647789</td>\n",
       "    </tr>\n",
       "    <tr>\n",
       "      <th>16</th>\n",
       "      <td>1.623777</td>\n",
       "      <td>0.666791</td>\n",
       "      <td>0.647378</td>\n",
       "    </tr>\n",
       "    <tr>\n",
       "      <th>14</th>\n",
       "      <td>0.483293</td>\n",
       "      <td>0.662810</td>\n",
       "      <td>0.646606</td>\n",
       "    </tr>\n",
       "  </tbody>\n",
       "</table>\n",
       "</div>"
      ],
      "text/plain": [
       "    logreg__C  train_acc   val_acc\n",
       "17   2.976351   0.667895  0.648127\n",
       "19  10.000000   0.668817  0.647934\n",
       "18   5.455595   0.668374  0.647789\n",
       "16   1.623777   0.666791  0.647378\n",
       "14   0.483293   0.662810  0.646606"
      ]
     },
     "execution_count": 12,
     "metadata": {},
     "output_type": "execute_result"
    }
   ],
   "source": [
    "# combined model\n",
    "# loop through all combinations\n",
    "np.random.seed(0)\n",
    "\n",
    "# save results\n",
    "logreg_results = []\n",
    "\n",
    "for param_C in grid_lr:\n",
    "    pipe_lr.set_params(**param_C)\n",
    "    \n",
    "    # fit pipe\n",
    "    pipe_lr.fit(X_tr, y_tr)\n",
    "    \n",
    "    # calculate accuracy\n",
    "    test_acc = pipe_lr.score(X_val, y_val)\n",
    "    train_acc = pipe_lr.score(X_tr, y_tr)\n",
    "    \n",
    "    # append accuracy to param_C\n",
    "    param_C[\"val_acc\"] = test_acc\n",
    "    param_C[\"train_acc\"] = train_acc\n",
    "    \n",
    "    # append param_C to logreg_results\n",
    "    logreg_results.append(param_C)\n",
    "    \n",
    "# transform list to DataFrame\n",
    "logreg_results = pd.DataFrame(logreg_results)\n",
    "logreg_results.sort_values(by = \"val_acc\", ascending = False)[:5]"
   ]
  },
  {
   "cell_type": "code",
   "execution_count": 13,
   "metadata": {},
   "outputs": [
    {
     "data": {
      "image/png": "[encoded data removed]",
      "text/plain": [
       "<Figure size 432x288 with 1 Axes>"
      ]
     },
     "metadata": {
      "needs_background": "light"
     },
     "output_type": "display_data"
    }
   ],
   "source": [
    "# visualize results\n",
    "plt.plot(logreg_results[\"logreg__C\"], logreg_results[\"val_acc\"], label = \"val_acc\")\n",
    "plt.plot(logreg_results[\"logreg__C\"], logreg_results[\"train_acc\"], label = \"train_acc\")\n",
    "plt.xlabel(\"Regularization Strength (C)\")\n",
    "plt.ylabel(\"Accuracy\")\n",
    "plt.title(\"C-Regularization and Accuracy of Combined Model\")\n",
    "plt.legend()\n",
    "plt.show()"
   ]
  },
  {
   "cell_type": "markdown",
   "metadata": {},
   "source": [
    "`C` works inversely, meaning that smaller values indicate stronger regularization. In our case, values close to zero, produce the best results with very little overfitting. Let's get a closer look at which `C` the difference between train and validation set is smallest."
   ]
  },
  {
   "cell_type": "code",
   "execution_count": 14,
   "metadata": {},
   "outputs": [
    {
     "data": {
      "text/html": [
       "<div>\n",
       "<style scoped>\n",
       "    .dataframe tbody tr th:only-of-type {\n",
       "        vertical-align: middle;\n",
       "    }\n",
       "\n",
       "    .dataframe tbody tr th {\n",
       "        vertical-align: top;\n",
       "    }\n",
       "\n",
       "    .dataframe thead th {\n",
       "        text-align: right;\n",
       "    }\n",
       "</style>\n",
       "<table border=\"1\" class=\"dataframe\">\n",
       "  <thead>\n",
       "    <tr style=\"text-align: right;\">\n",
       "      <th></th>\n",
       "      <th>logreg__C</th>\n",
       "      <th>train_acc</th>\n",
       "      <th>val_acc</th>\n",
       "      <th>diff</th>\n",
       "    </tr>\n",
       "  </thead>\n",
       "  <tbody>\n",
       "    <tr>\n",
       "      <th>11</th>\n",
       "      <td>0.078476</td>\n",
       "      <td>0.654073</td>\n",
       "      <td>0.641705</td>\n",
       "      <td>0.012367</td>\n",
       "    </tr>\n",
       "    <tr>\n",
       "      <th>10</th>\n",
       "      <td>0.042813</td>\n",
       "      <td>0.648283</td>\n",
       "      <td>0.635670</td>\n",
       "      <td>0.012612</td>\n",
       "    </tr>\n",
       "    <tr>\n",
       "      <th>12</th>\n",
       "      <td>0.143845</td>\n",
       "      <td>0.657932</td>\n",
       "      <td>0.644868</td>\n",
       "      <td>0.013065</td>\n",
       "    </tr>\n",
       "    <tr>\n",
       "      <th>9</th>\n",
       "      <td>0.023357</td>\n",
       "      <td>0.639919</td>\n",
       "      <td>0.625966</td>\n",
       "      <td>0.013954</td>\n",
       "    </tr>\n",
       "    <tr>\n",
       "      <th>13</th>\n",
       "      <td>0.263665</td>\n",
       "      <td>0.659306</td>\n",
       "      <td>0.645182</td>\n",
       "      <td>0.014125</td>\n",
       "    </tr>\n",
       "  </tbody>\n",
       "</table>\n",
       "</div>"
      ],
      "text/plain": [
       "    logreg__C  train_acc   val_acc      diff\n",
       "11   0.078476   0.654073  0.641705  0.012367\n",
       "10   0.042813   0.648283  0.635670  0.012612\n",
       "12   0.143845   0.657932  0.644868  0.013065\n",
       "9    0.023357   0.639919  0.625966  0.013954\n",
       "13   0.263665   0.659306  0.645182  0.014125"
      ]
     },
     "execution_count": 14,
     "metadata": {},
     "output_type": "execute_result"
    }
   ],
   "source": [
    "logreg_results[\"diff\"] = logreg_results[\"train_acc\"] - logreg_results[\"val_acc\"]\n",
    "logreg_results.sort_values(by = \"diff\", ascending = True)[:5]"
   ]
  },
  {
   "cell_type": "markdown",
   "metadata": {},
   "source": [
    "We can see that the least overfitting takes place at `C = 0.078476`. As we can see in the graph, from there onwards train accuracy gets only slightly better while overfitting grows.\n",
    "\n",
    "Our model thus far has a validation accuracy of 64.24%."
   ]
  },
  {
   "cell_type": "code",
   "execution_count": 15,
   "metadata": {},
   "outputs": [
    {
     "data": {
      "text/html": [
       "<div>\n",
       "<style scoped>\n",
       "    .dataframe tbody tr th:only-of-type {\n",
       "        vertical-align: middle;\n",
       "    }\n",
       "\n",
       "    .dataframe tbody tr th {\n",
       "        vertical-align: top;\n",
       "    }\n",
       "\n",
       "    .dataframe thead th {\n",
       "        text-align: right;\n",
       "    }\n",
       "</style>\n",
       "<table border=\"1\" class=\"dataframe\">\n",
       "  <thead>\n",
       "    <tr style=\"text-align: right;\">\n",
       "      <th></th>\n",
       "      <th>logreg__C</th>\n",
       "      <th>train_acc</th>\n",
       "      <th>val_acc</th>\n",
       "    </tr>\n",
       "  </thead>\n",
       "  <tbody>\n",
       "    <tr>\n",
       "      <th>19</th>\n",
       "      <td>10.000000</td>\n",
       "      <td>0.670459</td>\n",
       "      <td>0.658803</td>\n",
       "    </tr>\n",
       "    <tr>\n",
       "      <th>18</th>\n",
       "      <td>5.455595</td>\n",
       "      <td>0.669534</td>\n",
       "      <td>0.657763</td>\n",
       "    </tr>\n",
       "    <tr>\n",
       "      <th>17</th>\n",
       "      <td>2.976351</td>\n",
       "      <td>0.667841</td>\n",
       "      <td>0.656983</td>\n",
       "    </tr>\n",
       "    <tr>\n",
       "      <th>16</th>\n",
       "      <td>1.623777</td>\n",
       "      <td>0.664815</td>\n",
       "      <td>0.656853</td>\n",
       "    </tr>\n",
       "    <tr>\n",
       "      <th>15</th>\n",
       "      <td>0.885867</td>\n",
       "      <td>0.661474</td>\n",
       "      <td>0.655423</td>\n",
       "    </tr>\n",
       "  </tbody>\n",
       "</table>\n",
       "</div>"
      ],
      "text/plain": [
       "    logreg__C  train_acc   val_acc\n",
       "19  10.000000   0.670459  0.658803\n",
       "18   5.455595   0.669534  0.657763\n",
       "17   2.976351   0.667841  0.656983\n",
       "16   1.623777   0.664815  0.656853\n",
       "15   0.885867   0.661474  0.655423"
      ]
     },
     "execution_count": 15,
     "metadata": {},
     "output_type": "execute_result"
    }
   ],
   "source": [
    "# B term\n",
    "# loop through all combinations\n",
    "np.random.seed(0)\n",
    "\n",
    "# save results\n",
    "logreg_results_b = []\n",
    "\n",
    "for param_C in grid_lr:\n",
    "    pipe_lr.set_params(**param_C)\n",
    "    \n",
    "    # fit pipe\n",
    "    pipe_lr.fit(X_tr_b, y_tr_b)\n",
    "    \n",
    "    # calculate accuracy\n",
    "    val_acc = pipe_lr.score(X_val_b, y_val_b)\n",
    "    train_acc = pipe_lr.score(X_tr_b, y_tr_b)\n",
    "    \n",
    "    # append accuracy to param_C\n",
    "    param_C[\"val_acc\"] = val_acc\n",
    "    param_C[\"train_acc\"] = train_acc\n",
    "    \n",
    "    # append param_C to logreg_results\n",
    "    logreg_results_b.append(param_C)\n",
    "    \n",
    "# transform list to DataFrame\n",
    "logreg_results_b = pd.DataFrame(logreg_results_b)\n",
    "logreg_results_b.sort_values(by = \"val_acc\", ascending = False)[:5]"
   ]
  },
  {
   "cell_type": "code",
   "execution_count": 16,
   "metadata": {},
   "outputs": [
    {
     "data": {
      "image/png": "[encoded data removed]",
      "text/plain": [
       "<Figure size 432x288 with 1 Axes>"
      ]
     },
     "metadata": {
      "needs_background": "light"
     },
     "output_type": "display_data"
    }
   ],
   "source": [
    "# visualize results\n",
    "plt.plot(logreg_results_b[\"logreg__C\"], logreg_results_b[\"val_acc\"], label = \"val_acc\")\n",
    "plt.plot(logreg_results_b[\"logreg__C\"], logreg_results_b[\"train_acc\"], label = \"train_acc\")\n",
    "plt.xlabel(\"Regularization Strength (C)\")\n",
    "plt.ylabel(\"Accuracy\")\n",
    "plt.title(\"C-Regularization and Accuracy of B-Term\")\n",
    "plt.legend()\n",
    "plt.show()"
   ]
  },
  {
   "cell_type": "code",
   "execution_count": 17,
   "metadata": {},
   "outputs": [
    {
     "data": {
      "text/html": [
       "<div>\n",
       "<style scoped>\n",
       "    .dataframe tbody tr th:only-of-type {\n",
       "        vertical-align: middle;\n",
       "    }\n",
       "\n",
       "    .dataframe tbody tr th {\n",
       "        vertical-align: top;\n",
       "    }\n",
       "\n",
       "    .dataframe thead th {\n",
       "        text-align: right;\n",
       "    }\n",
       "</style>\n",
       "<table border=\"1\" class=\"dataframe\">\n",
       "  <thead>\n",
       "    <tr style=\"text-align: right;\">\n",
       "      <th></th>\n",
       "      <th>logreg__C</th>\n",
       "      <th>train_acc</th>\n",
       "      <th>val_acc</th>\n",
       "      <th>diff</th>\n",
       "    </tr>\n",
       "  </thead>\n",
       "  <tbody>\n",
       "    <tr>\n",
       "      <th>14</th>\n",
       "      <td>0.483293</td>\n",
       "      <td>0.655401</td>\n",
       "      <td>0.653279</td>\n",
       "      <td>0.002123</td>\n",
       "    </tr>\n",
       "    <tr>\n",
       "      <th>15</th>\n",
       "      <td>0.885867</td>\n",
       "      <td>0.661474</td>\n",
       "      <td>0.655423</td>\n",
       "      <td>0.006051</td>\n",
       "    </tr>\n",
       "    <tr>\n",
       "      <th>16</th>\n",
       "      <td>1.623777</td>\n",
       "      <td>0.664815</td>\n",
       "      <td>0.656853</td>\n",
       "      <td>0.007962</td>\n",
       "    </tr>\n",
       "    <tr>\n",
       "      <th>17</th>\n",
       "      <td>2.976351</td>\n",
       "      <td>0.667841</td>\n",
       "      <td>0.656983</td>\n",
       "      <td>0.010857</td>\n",
       "    </tr>\n",
       "    <tr>\n",
       "      <th>19</th>\n",
       "      <td>10.000000</td>\n",
       "      <td>0.670459</td>\n",
       "      <td>0.658803</td>\n",
       "      <td>0.011657</td>\n",
       "    </tr>\n",
       "    <tr>\n",
       "      <th>18</th>\n",
       "      <td>5.455595</td>\n",
       "      <td>0.669534</td>\n",
       "      <td>0.657763</td>\n",
       "      <td>0.011771</td>\n",
       "    </tr>\n",
       "  </tbody>\n",
       "</table>\n",
       "</div>"
      ],
      "text/plain": [
       "    logreg__C  train_acc   val_acc      diff\n",
       "14   0.483293   0.655401  0.653279  0.002123\n",
       "15   0.885867   0.661474  0.655423  0.006051\n",
       "16   1.623777   0.664815  0.656853  0.007962\n",
       "17   2.976351   0.667841  0.656983  0.010857\n",
       "19  10.000000   0.670459  0.658803  0.011657\n",
       "18   5.455595   0.669534  0.657763  0.011771"
      ]
     },
     "execution_count": 17,
     "metadata": {},
     "output_type": "execute_result"
    }
   ],
   "source": [
    "logreg_results_b[\"diff\"] = logreg_results_b[\"train_acc\"] - logreg_results_b[\"val_acc\"]\n",
    "logreg_results_b.sort_values(by = \"diff\", ascending = True)[14:]"
   ]
  },
  {
   "cell_type": "markdown",
   "metadata": {},
   "source": [
    "Although there are some values for `C` where the validation accuracy is higher than train accuracy, I prefer to use `C = 0.483293` as it has a higher overall accuracy with 0.2% overfitting. Decreasing `C` more, i.e. larger `C` values, only further increase the spread between train and validation accuracy.\n",
    "\n",
    "The resulting validation accuracy for the B-term is: 65.32%"
   ]
  },
  {
   "cell_type": "code",
   "execution_count": 18,
   "metadata": {},
   "outputs": [
    {
     "data": {
      "text/html": [
       "<div>\n",
       "<style scoped>\n",
       "    .dataframe tbody tr th:only-of-type {\n",
       "        vertical-align: middle;\n",
       "    }\n",
       "\n",
       "    .dataframe tbody tr th {\n",
       "        vertical-align: top;\n",
       "    }\n",
       "\n",
       "    .dataframe thead th {\n",
       "        text-align: right;\n",
       "    }\n",
       "</style>\n",
       "<table border=\"1\" class=\"dataframe\">\n",
       "  <thead>\n",
       "    <tr style=\"text-align: right;\">\n",
       "      <th></th>\n",
       "      <th>logreg__C</th>\n",
       "      <th>train_acc</th>\n",
       "      <th>val_acc</th>\n",
       "    </tr>\n",
       "  </thead>\n",
       "  <tbody>\n",
       "    <tr>\n",
       "      <th>17</th>\n",
       "      <td>2.976351</td>\n",
       "      <td>0.693388</td>\n",
       "      <td>0.676697</td>\n",
       "    </tr>\n",
       "    <tr>\n",
       "      <th>19</th>\n",
       "      <td>10.000000</td>\n",
       "      <td>0.693804</td>\n",
       "      <td>0.676435</td>\n",
       "    </tr>\n",
       "    <tr>\n",
       "      <th>18</th>\n",
       "      <td>5.455595</td>\n",
       "      <td>0.693836</td>\n",
       "      <td>0.676085</td>\n",
       "    </tr>\n",
       "    <tr>\n",
       "      <th>16</th>\n",
       "      <td>1.623777</td>\n",
       "      <td>0.691594</td>\n",
       "      <td>0.676041</td>\n",
       "    </tr>\n",
       "    <tr>\n",
       "      <th>15</th>\n",
       "      <td>0.885867</td>\n",
       "      <td>0.688952</td>\n",
       "      <td>0.673111</td>\n",
       "    </tr>\n",
       "  </tbody>\n",
       "</table>\n",
       "</div>"
      ],
      "text/plain": [
       "    logreg__C  train_acc   val_acc\n",
       "17   2.976351   0.693388  0.676697\n",
       "19  10.000000   0.693804  0.676435\n",
       "18   5.455595   0.693836  0.676085\n",
       "16   1.623777   0.691594  0.676041\n",
       "15   0.885867   0.688952  0.673111"
      ]
     },
     "execution_count": 18,
     "metadata": {},
     "output_type": "execute_result"
    }
   ],
   "source": [
    "# J term\n",
    "# loop through all combinations\n",
    "np.random.seed(0)\n",
    "\n",
    "# save results\n",
    "logreg_results_j = []\n",
    "\n",
    "for param_C in grid_lr:\n",
    "    pipe_lr.set_params(**param_C)\n",
    "    \n",
    "    # fit pipe\n",
    "    pipe_lr.fit(X_tr_j, y_tr_j)\n",
    "    \n",
    "    # calculate accuracy\n",
    "    val_acc = pipe_lr.score(X_val_j, y_val_j)\n",
    "    train_acc = pipe_lr.score(X_tr_j, y_tr_j)\n",
    "    \n",
    "    # append accuracy to param_C\n",
    "    param_C[\"val_acc\"] = val_acc\n",
    "    param_C[\"train_acc\"] = train_acc\n",
    "    \n",
    "    # append param_C to logreg_results\n",
    "    logreg_results_j.append(param_C)\n",
    "    \n",
    "# transform list to DataFrame\n",
    "logreg_results_j = pd.DataFrame(logreg_results_j)\n",
    "logreg_results_j.sort_values(by = \"val_acc\", ascending = False)[:5]"
   ]
  },
  {
   "cell_type": "code",
   "execution_count": 19,
   "metadata": {},
   "outputs": [
    {
     "data": {
      "image/png": "[encoded data removed]",
      "text/plain": [
       "<Figure size 432x288 with 1 Axes>"
      ]
     },
     "metadata": {
      "needs_background": "light"
     },
     "output_type": "display_data"
    }
   ],
   "source": [
    "# visualize results\n",
    "plt.plot(logreg_results_j[\"logreg__C\"], logreg_results_j[\"val_acc\"], label = \"val_acc\")\n",
    "plt.plot(logreg_results_j[\"logreg__C\"], logreg_results_j[\"train_acc\"], label = \"train_acc\")\n",
    "plt.xlabel(\"Regularization Strength (C)\")\n",
    "plt.ylabel(\"Accuracy\")\n",
    "plt.title(\"C-Regularization and Accuracy of J-Term\")\n",
    "plt.legend()\n",
    "plt.show()"
   ]
  },
  {
   "cell_type": "code",
   "execution_count": 20,
   "metadata": {},
   "outputs": [
    {
     "data": {
      "text/html": [
       "<div>\n",
       "<style scoped>\n",
       "    .dataframe tbody tr th:only-of-type {\n",
       "        vertical-align: middle;\n",
       "    }\n",
       "\n",
       "    .dataframe tbody tr th {\n",
       "        vertical-align: top;\n",
       "    }\n",
       "\n",
       "    .dataframe thead th {\n",
       "        text-align: right;\n",
       "    }\n",
       "</style>\n",
       "<table border=\"1\" class=\"dataframe\">\n",
       "  <thead>\n",
       "    <tr style=\"text-align: right;\">\n",
       "      <th></th>\n",
       "      <th>logreg__C</th>\n",
       "      <th>train_acc</th>\n",
       "      <th>val_acc</th>\n",
       "      <th>diff</th>\n",
       "    </tr>\n",
       "  </thead>\n",
       "  <tbody>\n",
       "    <tr>\n",
       "      <th>10</th>\n",
       "      <td>0.042813</td>\n",
       "      <td>0.662049</td>\n",
       "      <td>0.652685</td>\n",
       "      <td>0.009364</td>\n",
       "    </tr>\n",
       "    <tr>\n",
       "      <th>11</th>\n",
       "      <td>0.078476</td>\n",
       "      <td>0.669288</td>\n",
       "      <td>0.659202</td>\n",
       "      <td>0.010085</td>\n",
       "    </tr>\n",
       "    <tr>\n",
       "      <th>13</th>\n",
       "      <td>0.263665</td>\n",
       "      <td>0.680465</td>\n",
       "      <td>0.670093</td>\n",
       "      <td>0.010372</td>\n",
       "    </tr>\n",
       "    <tr>\n",
       "      <th>12</th>\n",
       "      <td>0.143845</td>\n",
       "      <td>0.676414</td>\n",
       "      <td>0.665763</td>\n",
       "      <td>0.010651</td>\n",
       "    </tr>\n",
       "    <tr>\n",
       "      <th>9</th>\n",
       "      <td>0.023357</td>\n",
       "      <td>0.652954</td>\n",
       "      <td>0.642101</td>\n",
       "      <td>0.010853</td>\n",
       "    </tr>\n",
       "  </tbody>\n",
       "</table>\n",
       "</div>"
      ],
      "text/plain": [
       "    logreg__C  train_acc   val_acc      diff\n",
       "10   0.042813   0.662049  0.652685  0.009364\n",
       "11   0.078476   0.669288  0.659202  0.010085\n",
       "13   0.263665   0.680465  0.670093  0.010372\n",
       "12   0.143845   0.676414  0.665763  0.010651\n",
       "9    0.023357   0.652954  0.642101  0.010853"
      ]
     },
     "execution_count": 20,
     "metadata": {},
     "output_type": "execute_result"
    }
   ],
   "source": [
    "logreg_results_j[\"diff\"] = logreg_results_j[\"train_acc\"] - logreg_results_j[\"val_acc\"]\n",
    "logreg_results_j.sort_values(by = \"diff\", ascending = True)[:5]"
   ]
  },
  {
   "cell_type": "markdown",
   "metadata": {},
   "source": [
    "With the j-term model, we can reach some higher train accuracies while also overfitting more. A `C = 0.263665` allows us to reach a validation accuracy of 67.00% with only 1% overfitting, which is the best trade-off in my opinion.\n",
    "\n",
    "We will now evaluate our scores on the actual test sets."
   ]
  },
  {
   "cell_type": "code",
   "execution_count": 21,
   "metadata": {},
   "outputs": [
    {
     "name": "stdout",
     "output_type": "stream",
     "text": [
      "Combined logistic regression accuracy: 0.6533\n",
      "B term logistic regression accuracy: 0.6655\n",
      "J term logistic regression accuracy: 0.6527\n"
     ]
    }
   ],
   "source": [
    "np.random.seed(0)\n",
    "\n",
    "# create 3 pipelines, evaluate on test data with results from grid search\n",
    "logreg = Pipeline([\n",
    "    (\"scaler\", MaxAbsScaler()),\n",
    "    (\"logreg\", LogisticRegression(C = 0.078476, multi_class = \"multinomial\", solver = \"saga\", tol = 0.001,\n",
    "                                 max_iter = 300, n_jobs = -1))])\n",
    "\n",
    "# combined model, fit training data\n",
    "logreg.fit(X_tr, y_tr)\n",
    "\n",
    "# get accuracy on test set\n",
    "logreg_acc = logreg.score(X_te, y_te)\n",
    "print(\"Combined logistic regression accuracy: {:.4f}\".format(logreg_acc))\n",
    "\n",
    "\n",
    "# B term\n",
    "logreg_b = Pipeline([\n",
    "    (\"scaler\", MaxAbsScaler()),\n",
    "    (\"logreg\", LogisticRegression(C = 0.483293, multi_class = \"multinomial\", solver = \"saga\", tol = 0.001,\n",
    "                                 max_iter = 300, n_jobs = -1))])\n",
    "\n",
    "# fit on training data\n",
    "logreg_b.fit(X_tr_b, y_tr_b)\n",
    "\n",
    "# get accuracy on test set\n",
    "logreg_acc_b = logreg_b.score(X_te_b, y_te_b)\n",
    "print(\"B term logistic regression accuracy: {:.4f}\".format(logreg_acc_b))\n",
    "\n",
    "\n",
    "# J term\n",
    "logreg_j = Pipeline([\n",
    "    (\"scaler\", MaxAbsScaler()),\n",
    "    (\"logreg\", LogisticRegression(C = 0.263665, multi_class = \"multinomial\", solver = \"saga\", tol = 0.001,\n",
    "                                 max_iter = 300, n_jobs = -1))])\n",
    "\n",
    "# fit on training data\n",
    "logreg_j.fit(X_tr_j, y_tr_j)\n",
    "\n",
    "# get accuracy on test set\n",
    "logreg_acc_j = logreg_j.score(X_te_j, y_te_j)\n",
    "print(\"J term logistic regression accuracy: {:.4f}\".format(logreg_acc_j))"
   ]
  },
  {
   "cell_type": "markdown",
   "metadata": {},
   "source": [
    "Our final logistic regression results are:\n",
    "* Combined set:\n",
    "    * train: 65.44%, val: 64.24%, test: 65.33%\n",
    "* B term:\n",
    "    * train: 65.54%, val: 65.32%, test: 66.55%\n",
    "* J term:\n",
    "    * train: 68.05%, val: 67.01%, test: 65.27%\n",
    "\n",
    "In comparison to our grid search validation scores, both the combined and B-term test scores have improved, but still only marginally: The combined model as well as B-term accuracy increased roughly ~1 percentage point. Nevertheless, our until now best performing validation model, the J-term set, decreased almost 2 percentage point in the test set. This means that the generalization of the separate J-term model isn't as good as e.g. the combined set. Both models had an overfitting of around 1 percentage point, but the combined set, unlike the J-term set, still managed to generalize better on the test set.\n",
    "\n",
    "In general, we were able to beat all baselines consistently by around 6-7 percentage points, which is a solid increase considering that the baseline was already around 58-59% accuracy.\n",
    "\n",
    "### Predicting final outcomes based on artificial student profiles\n",
    "In the following, we will use our tuned, combined model to make predictions based on invented student profiles. I will first generate 3 profiles, show the probabilities for each class, and then change certain demographic backgrounds, scores or VLE activity to see how the probabilities for each class change."
   ]
  },
  {
   "cell_type": "code",
   "execution_count": 22,
   "metadata": {},
   "outputs": [
    {
     "name": "stdout",
     "output_type": "stream",
     "text": [
      "['x0_AAA', 'x0_BBB', 'x0_CCC', 'x0_DDD', 'x0_EEE', 'x0_FFF', 'x1_B', 'x2_F', 'x3_East Anglian Region', 'x3_East Midlands Region', 'x3_Ireland', 'x3_London Region', 'x3_North Region', 'x3_North Western Region', 'x3_Scotland', 'x3_South East Region', 'x3_South Region', 'x3_South West Region', 'x3_Wales', 'x3_West Midlands Region', 'x4_0', 'x4_1', 'x5_N', 'x6_-150.0', 'x6_-50.0'] ['x8_0', 'x9_forumng', 'x9_homepage', 'x9_oucontent', 'x9_quiz', 'x9_resource', 'x9_subpage', 'x10_0', 'highest_education', 'age_band', 'date_submitted', 'score', 'module_presentation_length', 'total_sites_used', 'total_clicks', 'avg_working_dates', 'imd_band']\n"
     ]
    }
   ],
   "source": [
    "# load tr_data_df to see which assessment IDs are in which course\n",
    "tr_data_df = pd.read_csv(\"/Users/Ingo/Python Files/Capstone Project/data_dfs/tr_data_df.csv\")\n",
    "\n",
    "# load column_names_cleaned\n",
    "with np.load(\n",
    "    \"/Users/Ingo/Python Files/Capstone Project/preprocessed_dfs/column_names_cleaned.npz\") as npz_file:\n",
    "    column_names_cleaned = list(npz_file[\"features\"])\n",
    "\n",
    "# show some columns which are needed to build a profile\n",
    "# x7 is not displayed because those are just ~180 id_assessments\n",
    "print(column_names_cleaned[:25], column_names_cleaned[-17:])"
   ]
  },
  {
   "cell_type": "code",
   "execution_count": 23,
   "metadata": {},
   "outputs": [
    {
     "data": {
      "text/plain": [
       "37527    34889\n",
       "Name: id_assessment, dtype: int64"
      ]
     },
     "execution_count": 23,
     "metadata": {},
     "output_type": "execute_result"
    }
   ],
   "source": [
    "# get assessment of module AAA, arbitrarily chosen\n",
    "tr_data_df.loc[tr_data_df[\"code_module\"] == \"AAA\", \"id_assessment\"][21:22] # 1759\n",
    "\n",
    "# get assessment of module BBB\n",
    "tr_data_df.loc[tr_data_df[\"code_module\"] == \"BBB\", \"id_assessment\"][160:161] # 15012\n",
    "\n",
    "# get assessment of module EEE\n",
    "tr_data_df.loc[tr_data_df[\"code_module\"] == \"CCC\", \"id_assessment\"][1198:1199] # 25335\n",
    "\n",
    "# get assessment of module FFF\n",
    "tr_data_df.loc[tr_data_df[\"code_module\"] == \"FFF\", \"id_assessment\"][3142:3143] # 34889"
   ]
  },
  {
   "cell_type": "markdown",
   "metadata": {},
   "source": [
    "The first student will:\n",
    "* enroll in module `EEE`\n",
    "* in the `J` term\n",
    "* be female\n",
    "* come from London region\n",
    "* studied for 60 or below credits\n",
    "* no disability\n",
    "* `date_registration` before 150 days in advance of presentation start\n",
    "* sit `id_assessment = 25335`\n",
    "* score is not banked\n",
    "* will learn most often with `quiz`\n",
    "* is on his second attempt\n",
    "* `highest_education = 2` --> A-Level or Equivalent\n",
    "* be 35 or younger\n",
    "* `date_submitted = 56`\n",
    "* assessment `score` of 71\n",
    "* `module_presentation_length = 265`\n",
    "* `total_sites_used = 145`\n",
    "* `total_clicks = 402`\n",
    "* `avg_working_dates = 99`\n",
    "* `imd_band = 65`\n",
    "\n",
    "I will now initialize an array with all zeros and then fill the needed columns with `1` or the respective other values."
   ]
  },
  {
   "cell_type": "code",
   "execution_count": 24,
   "metadata": {},
   "outputs": [],
   "source": [
    "student1 = np.zeros(shape = (1, len(column_names_cleaned)))\n",
    "\n",
    "# define OHE values and all other values in above described order\n",
    "characteristics1 = [1, 0, 1, 1, 1, 1, 1, 1, 1, 1, 0, 2, 0, np.log(30+56), np.log(30+71), np.log(30+265),\n",
    "                   np.log(30+145), np.log(30+402), np.log(30+99), 65]\n",
    "\n",
    "# outline the column names to change values\n",
    "columns1 = [\"x0_EEE\", \"x1_B\", \"x2_F\", \"x3_London Region\", \"x4_0\", \"x5_N\", \"x6_-150.0\", \"x7_25335\", \"x8_0\",\n",
    "           \"x9_quiz\", \"x10_0\", \"highest_education\", \"age_band\", \"date_submitted\", \"score\",\n",
    "           \"module_presentation_length\", \"total_sites_used\", \"total_clicks\", \"avg_working_dates\",\n",
    "            \"imd_band\"]\n",
    "\n",
    "# iterate through columns1 and find indices of that column in column_names_cleaned\n",
    "indices1 = [column_names_cleaned.index(col1) for col1 in columns1]\n",
    "\n",
    "# change respective value from 0 to the one outlined in characterstics1\n",
    "for idx, new_val in zip(indices1, characteristics1):\n",
    "    student1[:, idx] = new_val"
   ]
  },
  {
   "cell_type": "code",
   "execution_count": 25,
   "metadata": {},
   "outputs": [
    {
     "data": {
      "text/plain": [
       "array([[0.0472074 , 0.35962341, 0.55333773, 0.03983145]])"
      ]
     },
     "execution_count": 25,
     "metadata": {},
     "output_type": "execute_result"
    }
   ],
   "source": [
    "# make prediction based on student1 profile\n",
    "logreg.predict_proba(student1)"
   ]
  },
  {
   "cell_type": "markdown",
   "metadata": {},
   "source": [
    "We can see here that this student will most certainly `Pass` the course with a probability of 55%. The second highest probability of 36% points towards `Withdrawn`. For this profile, I think it makes sense that the algorithm guesses that the student will pass as we have a `score` of 71 and an `avg_working_dates` of 99, which is centered. However, we saw from EDA that `total_clicks` and `total_sites_used` should be much higher for a `Pass` score as the passing median for `total_sites_used` is 452 and for `total_clicks` is 1493. Both of our these characteristics are below the median of `Fail`, so it seems that `score` and all demographics point towards `Pass` and are valed highly here.\n",
    "\n",
    "Let's lower the `score` to 45 and `highest_education` to 0, which marks _No formal education_. "
   ]
  },
  {
   "cell_type": "code",
   "execution_count": 26,
   "metadata": {},
   "outputs": [
    {
     "data": {
      "text/plain": [
       "array([[0.00792255, 0.57331258, 0.37908503, 0.03967984]])"
      ]
     },
     "execution_count": 26,
     "metadata": {},
     "output_type": "execute_result"
    }
   ],
   "source": [
    "student1_2 = student1.copy()\n",
    "student1_2[:, indices1[14]] = np.log(30 + 45) # score change\n",
    "\n",
    "student1_2[:, indices1[11]] = 0\n",
    "\n",
    "# make prediction\n",
    "logreg.predict_proba(student1_2)"
   ]
  },
  {
   "cell_type": "markdown",
   "metadata": {},
   "source": [
    "We can see that just these two characteristics changes turned the categories completely around. We now have a 57% probability that the student withdraws, and just a 37% probability that the student passes. The `score` and `highest_education` changes were definitely impactful.\n",
    "\n",
    "What is interesting to me is that the student before had a 4% chance of `Fail`, which has now shrunk to 0.79%. In my personal estimates, that value should also have risen as from a human perspective it is not clear whether the student might withdraw or fail with both low scores and VLE activity levels. Following the three predictions, we will evaluate with confusion matrices in what directions the predictions went wrong."
   ]
  },
  {
   "cell_type": "markdown",
   "metadata": {},
   "source": [
    "Student2 Profile: Let's simulate an overall strong activity level with a low score\n",
    "* enroll in module `BBB`\n",
    "* in the `B` term\n",
    "* be female\n",
    "* come from East Anglian Region\n",
    "* studied for 60 or below credits\n",
    "* no disability\n",
    "* `date_registration` between 150 and 50 days in advance of presentation start\n",
    "* sit `id_assessment = 15012`\n",
    "* score is not banked\n",
    "* will learn most often with `homepage`\n",
    "* is on his first attempt\n",
    "* `highest_education = 3` --> Higher Eduction Qualification\n",
    "* be 35 or younger\n",
    "* `date_submitted = 112`\n",
    "* assessment `score` of 21\n",
    "* `module_presentation_length = 241`\n",
    "* `total_sites_used = 1609`\n",
    "* `total_clicks = 4412`\n",
    "* `avg_working_dates = 79`\n",
    "* `imd_band = 75`"
   ]
  },
  {
   "cell_type": "code",
   "execution_count": 27,
   "metadata": {},
   "outputs": [],
   "source": [
    "student2 = np.zeros(shape = (1, len(column_names_cleaned)))\n",
    "\n",
    "# define OHE values and all other values in above described order\n",
    "characteristics2 = [1, 1, 1, 1, 1, 1, 0, 1, 1, 1, 1, 3, 0, np.log(30+112), np.log(30+21), np.log(30+241),\n",
    "                   np.log(30+1609), np.log(30+4412), np.log(30+79), 75]\n",
    "\n",
    "# outline the column names to change values\n",
    "columns2 = [\"x0_BBB\", \"x1_B\", \"x2_F\", \"x3_East Anglian Region\", \"x4_0\", \"x5_N\", \"x6_-50.0\", \"x7_15012\",\n",
    "            \"x8_0\", \"x9_homepage\", \"x10_0\", \"highest_education\", \"age_band\", \"date_submitted\", \"score\",\n",
    "           \"module_presentation_length\", \"total_sites_used\", \"total_clicks\", \"avg_working_dates\",\n",
    "            \"imd_band\"]\n",
    "\n",
    "# iterate through columns1 and find indices of that column in column_names_cleaned\n",
    "indices2 = [column_names_cleaned.index(col2) for col2 in columns2]\n",
    "\n",
    "# change respective value from 0 to the one outlined in characterstics1\n",
    "for idx, new_val in zip(indices2, characteristics2):\n",
    "    student2[:, idx] = new_val"
   ]
  },
  {
   "cell_type": "code",
   "execution_count": 28,
   "metadata": {},
   "outputs": [
    {
     "data": {
      "text/plain": [
       "array([[0.28994308, 0.05383733, 0.64235039, 0.0138692 ]])"
      ]
     },
     "execution_count": 28,
     "metadata": {},
     "output_type": "execute_result"
    }
   ],
   "source": [
    "# make prediction based on student1 profile\n",
    "logreg.predict_proba(student2)"
   ]
  },
  {
   "cell_type": "markdown",
   "metadata": {},
   "source": [
    "Here it becomes pretty clear that this student might indeed fail despite all the very positive activity simply because `score` is very low. Maybe the logistic regression classifier needs the very low `score` to be able to predict `Fail` at all. In this case, the student still has a 64% of `Pass` and a 29% `Fail` probability. \n",
    "\n",
    "Let's change the module to `FFF` together with the assessment and then re-evaluate how a module change - leaving everything else equal - affects the final result probabilities."
   ]
  },
  {
   "cell_type": "code",
   "execution_count": 29,
   "metadata": {},
   "outputs": [
    {
     "data": {
      "text/plain": [
       "array([[0.08036455, 0.17038464, 0.71183874, 0.03741207]])"
      ]
     },
     "execution_count": 29,
     "metadata": {},
     "output_type": "execute_result"
    }
   ],
   "source": [
    "# building new student profile is easier than adjusting indices in the existing\n",
    "student2_2 = np.zeros(shape = (1, len(column_names_cleaned)))\n",
    "\n",
    "columns2_2 = [\"x0_FFF\", \"x1_B\", \"x2_F\", \"x3_East Anglian Region\", \"x4_0\", \"x5_N\", \"x6_-50.0\", \"x7_34889\",\n",
    "            \"x8_0\", \"x9_homepage\", \"x10_0\", \"highest_education\", \"age_band\", \"date_submitted\", \"score\",\n",
    "           \"module_presentation_length\", \"total_sites_used\", \"total_clicks\", \"avg_working_dates\",\n",
    "            \"imd_band\"]\n",
    "\n",
    "# iterate through columns1 and find indices of that column in column_names_cleaned\n",
    "indices2_2 = [column_names_cleaned.index(col2_2) for col2_2 in columns2_2]\n",
    "\n",
    "# change respective value from 0 to the one outlined in characterstics1\n",
    "for idx, new_val in zip(indices2_2, characteristics2): # characteristics2 stays the same\n",
    "    student2_2[:, idx] = new_val\n",
    "    \n",
    "# make new predictions\n",
    "logreg.predict_proba(student2_2)"
   ]
  },
  {
   "cell_type": "markdown",
   "metadata": {},
   "source": [
    "Having only changed the module and the respective assessment id, the probability for `Fail` dropped from 29% to only 8%. At the same time, the chance of `Withdrawn` has risen from only 5% to 17%. Nevertheless, the `Pass` probability has risen even more to 71%, so it seems that a score of only 25 doesn't hurt the chances of passing as much in this module than in module `AAA`. Even the chance of finishing with distinction has risen from 1.3% to 3.7%.\n",
    "\n",
    "Let's try to invent a profile that convincingly predicts `Distinction` because I suspect that the model has a very hard time distinguishing among `Pass` and `Distinction`."
   ]
  },
  {
   "cell_type": "markdown",
   "metadata": {},
   "source": [
    "Student3 Profile: Let's try to simulate a convincingly `Distinction`-finishing student\n",
    "* enroll in module `AAA`\n",
    "* in the `J` term\n",
    "* be male\n",
    "* come from North Region\n",
    "* studied for 60 or below credits\n",
    "* no disability\n",
    "* `date_registration` more than 150 days in advance of presentation start\n",
    "* sit `id_assessment = 1759`\n",
    "* score is not banked\n",
    "* will learn most often with `forumng`\n",
    "* is on his first attempt\n",
    "* `highest_education = 4` --> Post Graduate Qualification\n",
    "* be 55 or older\n",
    "* `date_submitted = 60`\n",
    "* assessment `score` of 99\n",
    "* `module_presentation_length = 270`\n",
    "* `total_sites_used = 4533`\n",
    "* `total_clicks = 12446`\n",
    "* `avg_working_dates = 110`\n",
    "* `imd_band = 95`"
   ]
  },
  {
   "cell_type": "code",
   "execution_count": 30,
   "metadata": {},
   "outputs": [
    {
     "data": {
      "text/plain": [
       "array([[7.82191664e-01, 6.71159788e-04, 2.12914639e-01, 4.22253686e-03]])"
      ]
     },
     "execution_count": 30,
     "metadata": {},
     "output_type": "execute_result"
    }
   ],
   "source": [
    "student3 = np.zeros(shape = (1, len(column_names_cleaned)))\n",
    "\n",
    "# define OHE values and all other values in above described order\n",
    "characteristics3 = [1, 0, 0, 1, 1, 1, 1, 1, 1, 1, 1, 4, 2, np.log(30+60), np.log(30+99), np.log(30+270),\n",
    "                   np.log(30+4533), np.log(30+12446), np.log(30+110), 95]\n",
    "\n",
    "# outline the column names to change values\n",
    "columns3 = [\"x0_AAA\", \"x1_B\", \"x2_F\", \"x3_North Region\", \"x4_0\", \"x5_N\", \"x6_-150.0\", \"x7_1759\",\n",
    "            \"x8_0\", \"x9_forumng\", \"x10_0\", \"highest_education\", \"age_band\", \"date_submitted\", \"score\",\n",
    "           \"module_presentation_length\", \"total_sites_used\", \"total_clicks\", \"avg_working_dates\",\n",
    "            \"imd_band\"]\n",
    "\n",
    "# iterate through columns1 and find indices of that column in column_names_cleaned\n",
    "indices3 = [column_names_cleaned.index(col3) for col3 in columns3]\n",
    "\n",
    "# change respective value from 0 to the one outlined in characterstics1\n",
    "for idx, new_val in zip(indices3, characteristics3):\n",
    "    student3[:, idx] = new_val\n",
    "    \n",
    "# make prediction with probabilities\n",
    "logreg.predict_proba(student3)"
   ]
  },
  {
   "cell_type": "markdown",
   "metadata": {},
   "source": [
    "Here we can definitely see that the model doesn't correctly recognize the features of students finishing with `Distinction` - or maybe even said more broadly: correctly classifying edge cases. We have entered almost all values that have the largest distribution of `Distinction` based on EDA results, such as `score` of 99, `total_sites_used = 4533`, `total_clicks = 12446`, using `forumng` as the most used resource, having a very centered `avg_working_dates`, the highest available `imd_band` of 95, and yet, the model shows that the student will `Fail` with 78% probability. \n",
    "\n",
    "In the cases of `student1` and `student2` above, lowering the `score` in comparison to very average activity levels increased the chance of `Fail` and `Withdrawn` - as expected by a human classifier and as trends in EDA suggested. However, now with almost perfect aseessment scores and orders of magnitute more activity in the VLE - again as EDA suggested - should put us at a very high chance of finishing with `Distinction`. However now, we suddenly have a 78% of `Fail` and a 21% chance of `Pass`, which is very contradictory to what we would expect. This is definitely a weak spot of the model.\n",
    "\n",
    "### In-depth model evaluation\n",
    "In the following steps, I will explore the model predictions and its failures more broadly. A confusion matrix should be able to tell whether the model is indeed very bad at predicting both edge cases and cases requiring nuance to classify correctly among classes other than `Pass`."
   ]
  },
  {
   "cell_type": "code",
   "execution_count": 31,
   "metadata": {},
   "outputs": [
    {
     "data": {
      "text/html": [
       "<div>\n",
       "<style scoped>\n",
       "    .dataframe tbody tr th:only-of-type {\n",
       "        vertical-align: middle;\n",
       "    }\n",
       "\n",
       "    .dataframe tbody tr th {\n",
       "        vertical-align: top;\n",
       "    }\n",
       "\n",
       "    .dataframe thead th {\n",
       "        text-align: right;\n",
       "    }\n",
       "</style>\n",
       "<table border=\"1\" class=\"dataframe\">\n",
       "  <thead>\n",
       "    <tr style=\"text-align: right;\">\n",
       "      <th></th>\n",
       "      <th>x0_AAA</th>\n",
       "      <th>x0_BBB</th>\n",
       "      <th>x0_CCC</th>\n",
       "      <th>x0_DDD</th>\n",
       "      <th>x0_EEE</th>\n",
       "      <th>x0_FFF</th>\n",
       "      <th>x1_B</th>\n",
       "      <th>x2_F</th>\n",
       "      <th>x3_East Anglian Region</th>\n",
       "      <th>x3_East Midlands Region</th>\n",
       "      <th>...</th>\n",
       "      <th>x10_0</th>\n",
       "      <th>highest_education</th>\n",
       "      <th>age_band</th>\n",
       "      <th>date_submitted</th>\n",
       "      <th>score</th>\n",
       "      <th>module_presentation_length</th>\n",
       "      <th>total_sites_used</th>\n",
       "      <th>total_clicks</th>\n",
       "      <th>avg_working_dates</th>\n",
       "      <th>imd_band</th>\n",
       "    </tr>\n",
       "  </thead>\n",
       "  <tbody>\n",
       "    <tr>\n",
       "      <th>269</th>\n",
       "      <td>0.0</td>\n",
       "      <td>0.0</td>\n",
       "      <td>1.0</td>\n",
       "      <td>0.0</td>\n",
       "      <td>0.0</td>\n",
       "      <td>0.0</td>\n",
       "      <td>0.0</td>\n",
       "      <td>1.0</td>\n",
       "      <td>0.0</td>\n",
       "      <td>0.0</td>\n",
       "      <td>...</td>\n",
       "      <td>1.0</td>\n",
       "      <td>2.0</td>\n",
       "      <td>1.0</td>\n",
       "      <td>4.595120</td>\n",
       "      <td>4.553877</td>\n",
       "      <td>5.700444</td>\n",
       "      <td>5.484797</td>\n",
       "      <td>6.975414</td>\n",
       "      <td>4.154356</td>\n",
       "      <td>45.0</td>\n",
       "    </tr>\n",
       "    <tr>\n",
       "      <th>279</th>\n",
       "      <td>0.0</td>\n",
       "      <td>0.0</td>\n",
       "      <td>1.0</td>\n",
       "      <td>0.0</td>\n",
       "      <td>0.0</td>\n",
       "      <td>0.0</td>\n",
       "      <td>0.0</td>\n",
       "      <td>1.0</td>\n",
       "      <td>0.0</td>\n",
       "      <td>0.0</td>\n",
       "      <td>...</td>\n",
       "      <td>1.0</td>\n",
       "      <td>1.0</td>\n",
       "      <td>1.0</td>\n",
       "      <td>3.850147</td>\n",
       "      <td>4.852030</td>\n",
       "      <td>5.700444</td>\n",
       "      <td>7.264730</td>\n",
       "      <td>8.438799</td>\n",
       "      <td>4.923315</td>\n",
       "      <td>25.0</td>\n",
       "    </tr>\n",
       "    <tr>\n",
       "      <th>280</th>\n",
       "      <td>0.0</td>\n",
       "      <td>0.0</td>\n",
       "      <td>1.0</td>\n",
       "      <td>0.0</td>\n",
       "      <td>0.0</td>\n",
       "      <td>0.0</td>\n",
       "      <td>0.0</td>\n",
       "      <td>1.0</td>\n",
       "      <td>0.0</td>\n",
       "      <td>0.0</td>\n",
       "      <td>...</td>\n",
       "      <td>1.0</td>\n",
       "      <td>1.0</td>\n",
       "      <td>1.0</td>\n",
       "      <td>4.382027</td>\n",
       "      <td>4.852030</td>\n",
       "      <td>5.700444</td>\n",
       "      <td>7.264730</td>\n",
       "      <td>8.438799</td>\n",
       "      <td>4.923315</td>\n",
       "      <td>25.0</td>\n",
       "    </tr>\n",
       "    <tr>\n",
       "      <th>281</th>\n",
       "      <td>0.0</td>\n",
       "      <td>0.0</td>\n",
       "      <td>1.0</td>\n",
       "      <td>0.0</td>\n",
       "      <td>0.0</td>\n",
       "      <td>0.0</td>\n",
       "      <td>0.0</td>\n",
       "      <td>1.0</td>\n",
       "      <td>0.0</td>\n",
       "      <td>0.0</td>\n",
       "      <td>...</td>\n",
       "      <td>1.0</td>\n",
       "      <td>1.0</td>\n",
       "      <td>1.0</td>\n",
       "      <td>4.718499</td>\n",
       "      <td>4.859812</td>\n",
       "      <td>5.700444</td>\n",
       "      <td>7.264730</td>\n",
       "      <td>8.438799</td>\n",
       "      <td>4.923315</td>\n",
       "      <td>25.0</td>\n",
       "    </tr>\n",
       "    <tr>\n",
       "      <th>286</th>\n",
       "      <td>0.0</td>\n",
       "      <td>0.0</td>\n",
       "      <td>1.0</td>\n",
       "      <td>0.0</td>\n",
       "      <td>0.0</td>\n",
       "      <td>0.0</td>\n",
       "      <td>0.0</td>\n",
       "      <td>0.0</td>\n",
       "      <td>0.0</td>\n",
       "      <td>0.0</td>\n",
       "      <td>...</td>\n",
       "      <td>0.0</td>\n",
       "      <td>3.0</td>\n",
       "      <td>1.0</td>\n",
       "      <td>4.127134</td>\n",
       "      <td>4.787492</td>\n",
       "      <td>5.700444</td>\n",
       "      <td>5.948035</td>\n",
       "      <td>6.904751</td>\n",
       "      <td>4.850303</td>\n",
       "      <td>55.0</td>\n",
       "    </tr>\n",
       "  </tbody>\n",
       "</table>\n",
       "<p>5 rows × 223 columns</p>\n",
       "</div>"
      ],
      "text/plain": [
       "     x0_AAA  x0_BBB  x0_CCC  x0_DDD  x0_EEE  x0_FFF  x1_B  x2_F  \\\n",
       "269     0.0     0.0     1.0     0.0     0.0     0.0   0.0   1.0   \n",
       "279     0.0     0.0     1.0     0.0     0.0     0.0   0.0   1.0   \n",
       "280     0.0     0.0     1.0     0.0     0.0     0.0   0.0   1.0   \n",
       "281     0.0     0.0     1.0     0.0     0.0     0.0   0.0   1.0   \n",
       "286     0.0     0.0     1.0     0.0     0.0     0.0   0.0   0.0   \n",
       "\n",
       "     x3_East Anglian Region  x3_East Midlands Region  ...  x10_0  \\\n",
       "269                     0.0                      0.0  ...    1.0   \n",
       "279                     0.0                      0.0  ...    1.0   \n",
       "280                     0.0                      0.0  ...    1.0   \n",
       "281                     0.0                      0.0  ...    1.0   \n",
       "286                     0.0                      0.0  ...    0.0   \n",
       "\n",
       "     highest_education  age_band  date_submitted     score  \\\n",
       "269                2.0       1.0        4.595120  4.553877   \n",
       "279                1.0       1.0        3.850147  4.852030   \n",
       "280                1.0       1.0        4.382027  4.852030   \n",
       "281                1.0       1.0        4.718499  4.859812   \n",
       "286                3.0       1.0        4.127134  4.787492   \n",
       "\n",
       "     module_presentation_length  total_sites_used  total_clicks  \\\n",
       "269                    5.700444          5.484797      6.975414   \n",
       "279                    5.700444          7.264730      8.438799   \n",
       "280                    5.700444          7.264730      8.438799   \n",
       "281                    5.700444          7.264730      8.438799   \n",
       "286                    5.700444          5.948035      6.904751   \n",
       "\n",
       "     avg_working_dates  imd_band  \n",
       "269           4.154356      45.0  \n",
       "279           4.923315      25.0  \n",
       "280           4.923315      25.0  \n",
       "281           4.923315      25.0  \n",
       "286           4.850303      55.0  \n",
       "\n",
       "[5 rows x 223 columns]"
      ]
     },
     "execution_count": 31,
     "metadata": {},
     "output_type": "execute_result"
    }
   ],
   "source": [
    "# try to find `Distinction` predictions to see on what input the model predicted `Distinction`\n",
    "logreg_preds = logreg.predict(X_te)\n",
    "\n",
    "# create X_te_df to see wrong predictions\n",
    "X_te_df = pd.DataFrame(data = X_te.toarray(), columns = column_names_cleaned)\n",
    "X_te_df.loc[logreg_preds == 3, :][45:50] # arbitrary slicing"
   ]
  },
  {
   "cell_type": "code",
   "execution_count": 32,
   "metadata": {},
   "outputs": [
    {
     "data": {
      "text/plain": [
       "array([[0.13244295, 0.11914807, 0.26763916, 0.48076981]])"
      ]
     },
     "execution_count": 32,
     "metadata": {},
     "output_type": "execute_result"
    }
   ],
   "source": [
    "# let's broadly mirror the values of student 269 here to get probabilities\n",
    "student4 = np.zeros(shape = (1, len(column_names_cleaned)))\n",
    "\n",
    "# define OHE values and all other values in above described order\n",
    "characteristics4 = [1, 0, 0, 1, 1, 1, 1, 1, 1, 1, 1, 4, 2, 4.59, 4.55, 5.7, 5.48, 6.97, 4.15, 45]\n",
    "\n",
    "# outline the column names to change values\n",
    "columns4 = [\"x0_AAA\", \"x1_B\", \"x2_F\", \"x3_North Region\", \"x4_0\", \"x5_N\", \"x6_-150.0\", \"x7_1759\",\n",
    "            \"x8_0\", \"x9_forumng\", \"x10_0\", \"highest_education\", \"age_band\", \"date_submitted\", \"score\",\n",
    "           \"module_presentation_length\", \"total_sites_used\", \"total_clicks\", \"avg_working_dates\",\n",
    "            \"imd_band\"]\n",
    "\n",
    "# iterate through columns1 and find indices of that column in column_names_cleaned\n",
    "indices4 = [column_names_cleaned.index(col4) for col4 in columns4]\n",
    "\n",
    "# change respective value from 0 to the one outlined in characterstics1\n",
    "for idx, new_val in zip(indices4, characteristics4):\n",
    "    student4[:, idx] = new_val\n",
    "    \n",
    "# make prediction with probabilities\n",
    "logreg.predict_proba(student4)"
   ]
  },
  {
   "cell_type": "code",
   "execution_count": 33,
   "metadata": {},
   "outputs": [
    {
     "name": "stdout",
     "output_type": "stream",
     "text": [
      "date submitted of student 4: 68.49443016194631\n",
      "score of student 4: 64.63240831492406\n",
      "presentation length of student 4: 7.0348982925518316e+19\n",
      "total sites used of student 4: 209.84670737425535\n",
      "total clicks of student 4: 1034.2227505380908\n",
      "avg working dates of student 4: 33.434000298123344\n",
      "y_te of this prediction: 1\n"
     ]
    }
   ],
   "source": [
    "print(\"date submitted of student 4:\", np.exp(4.59) - 30)\n",
    "print(\"score of student 4:\", np.exp(4.55) - 30)\n",
    "print(\"presentation length of student 4:\", np.exp(45.7) - 30)\n",
    "print(\"total sites used of student 4:\", np.exp(5.48) - 30)\n",
    "print(\"total clicks of student 4:\", np.exp(6.97) - 30)\n",
    "print(\"avg working dates of student 4:\", np.exp(4.15) - 30)\n",
    "print(\"y_te of this prediction:\", y_te[269])"
   ]
  },
  {
   "cell_type": "markdown",
   "metadata": {},
   "source": [
    "We can see that there is, indeed, a problem in classifying `Distinction` and `Withdrawn`. The student, whose characteristics and statistics look like a very average-to-good student, is classified as finishing with `Distinction` with 48% probability, whereas this student in reality withdrew. \n",
    "\n",
    "From a human perspective, I would have guessed that he finished in class 2 - `Pass`, as his score is average and activity below average. I certainly wouldn't have classified him as `Distinction`. \n",
    "\n",
    "Comparing this observation to our invented almost-perfect score and very high activity `student3` really doesn't make sense and shows that the model isn't able to generalize well even for very obvious cases. This probably stems from unclearly structured training data where it wasn't common that _only_ very active and high-score students were labeled with `Distinction`. As a consequence, the pattern of `Distinction`-labeled students gets diluted and further classifications get distorted.\n",
    "\n",
    "Let's see the overall patterns of where this estimator succeeded and failed."
   ]
  },
  {
   "cell_type": "code",
   "execution_count": 34,
   "metadata": {},
   "outputs": [
    {
     "data": {
      "text/html": [
       "<div>\n",
       "<style scoped>\n",
       "    .dataframe tbody tr th:only-of-type {\n",
       "        vertical-align: middle;\n",
       "    }\n",
       "\n",
       "    .dataframe tbody tr th {\n",
       "        vertical-align: top;\n",
       "    }\n",
       "\n",
       "    .dataframe thead th {\n",
       "        text-align: right;\n",
       "    }\n",
       "</style>\n",
       "<table border=\"1\" class=\"dataframe\">\n",
       "  <thead>\n",
       "    <tr style=\"text-align: right;\">\n",
       "      <th></th>\n",
       "      <th>pred: Fail</th>\n",
       "      <th>pred: Withdrawn</th>\n",
       "      <th>pred: Pass</th>\n",
       "      <th>pred: Distinction</th>\n",
       "    </tr>\n",
       "  </thead>\n",
       "  <tbody>\n",
       "    <tr>\n",
       "      <th>true: Fail</th>\n",
       "      <td>499</td>\n",
       "      <td>23</td>\n",
       "      <td>5246</td>\n",
       "      <td>81</td>\n",
       "    </tr>\n",
       "    <tr>\n",
       "      <th>true: Withdrawn</th>\n",
       "      <td>4</td>\n",
       "      <td>1641</td>\n",
       "      <td>4120</td>\n",
       "      <td>716</td>\n",
       "    </tr>\n",
       "    <tr>\n",
       "      <th>true: Pass</th>\n",
       "      <td>334</td>\n",
       "      <td>427</td>\n",
       "      <td>22942</td>\n",
       "      <td>422</td>\n",
       "    </tr>\n",
       "    <tr>\n",
       "      <th>true: Distinction</th>\n",
       "      <td>56</td>\n",
       "      <td>1173</td>\n",
       "      <td>1744</td>\n",
       "      <td>1950</td>\n",
       "    </tr>\n",
       "  </tbody>\n",
       "</table>\n",
       "</div>"
      ],
      "text/plain": [
       "                   pred: Fail  pred: Withdrawn  pred: Pass  pred: Distinction\n",
       "true: Fail                499               23        5246                 81\n",
       "true: Withdrawn             4             1641        4120                716\n",
       "true: Pass                334              427       22942                422\n",
       "true: Distinction          56             1173        1744               1950"
      ]
     },
     "execution_count": 34,
     "metadata": {},
     "output_type": "execute_result"
    }
   ],
   "source": [
    "from sklearn.metrics import confusion_matrix\n",
    "\n",
    "logreg_matrix = confusion_matrix(y_true = y_te, y_pred = logreg_preds)\n",
    "\n",
    "# convert to DataFrame\n",
    "logreg_matrix_df = pd.DataFrame(data = logreg_matrix, columns = [\"pred: Fail\", \"pred: Withdrawn\",\n",
    "                                                                \"pred: Pass\", \"pred: Distinction\"],\n",
    "                               index = [\"true: Fail\", \"true: Withdrawn\", \"true: Pass\", \"true: Distinction\"])\n",
    "logreg_matrix_df"
   ]
  },
  {
   "cell_type": "markdown",
   "metadata": {},
   "source": [
    "In this confusion matrix we can see that there is indeed only one class that gets constantly correctly predicted: `Pass`. In that case, we correctly predict ~23,000 out of ~24,000 cases. The next best predicted class is, to my surprise, `Distinction`, where a simple majority is correctly predicted. However, nearly as many cases get misclassified as `Pass`, which I can relate to due to my above examples of invented student profiles. Furthermore, around 20% of `true: Distinction` cases get classified as `Withdrawn`, which also surprises me. Our above observed case of _Student3_ (extremely good scores and activity levels to be classified as `Fail`) might be happening in around 56 cases, where the true class is `Distinction` but the predicted class is `Fail`. \n",
    "\n",
    "Initially, I would have guessed that `Withdrawn` would be most difficult to classify as students with all kinds of profiles could randomly withdraw. Based on EDA it seemed like `Withdrawn` and `Fail` were mostly moving in parallel but `Fail` on a lower overall level (speaking in terms of scores and activity levels). Now it seems like the higher level of `Withdrawn` and the large and encompassing `Pass` midfield could be benefiting `Withdrawn` predictions as there might be a lot of overlap among the lower portion of the `Pass` class and the higher portion of `Withdrawn`. \n",
    "\n",
    "Overall, the `Fail` class is classified the worst by our model. Around 90% of all predictions where the true class is `Fail` go towards `Pass`, so the model doesn't expect these values to be closer to `Withdrawn` - as I would expect - but rather to be closer to `Pass`, which is another weak point of our model. Interestingly enough, the model classifies true `Fail` examples the least into `Withdrawn`, it rather classifies them as finshing with `Distinction`. \n",
    "\n",
    "To observe and evaluate more metrics like recall and precision scores of our models, I will present and discuss sklearn's `classification_report` as it combines all of those metrics into one report."
   ]
  },
  {
   "cell_type": "code",
   "execution_count": 35,
   "metadata": {},
   "outputs": [
    {
     "name": "stdout",
     "output_type": "stream",
     "text": [
      "              precision    recall  f1-score   support\n",
      "\n",
      "           0       0.56      0.09      0.15      5849\n",
      "           1       0.50      0.25      0.34      6481\n",
      "           2       0.67      0.95      0.79     24125\n",
      "           3       0.62      0.40      0.48      4923\n",
      "\n",
      "   micro avg       0.65      0.65      0.65     41378\n",
      "   macro avg       0.59      0.42      0.44     41378\n",
      "weighted avg       0.62      0.65      0.59     41378\n",
      "\n"
     ]
    }
   ],
   "source": [
    "from sklearn.metrics import classification_report\n",
    "\n",
    "logreg_report = classification_report(y_true = y_te, y_pred = logreg_preds)\n",
    "print(logreg_report)"
   ]
  },
  {
   "cell_type": "markdown",
   "metadata": {},
   "source": [
    "The classification report shows the precision, recall, and F1-score, as well as the total count of each class (support). As we have 4 classes here, i.e. not a binary label, we have 4 instances of each metric provided.\n",
    "\n",
    "The precision score measures how many times we are actually correct when we predict the positive class, i.e. $\\frac{\\text{TP}}{\\text{TP + FP}}$\n",
    "\n",
    "The recall score measures how many time we are actually correct with our positive prediction when it is, in fact, positive: $\\frac{\\text{TP}}{\\text{TP + FN}}$\n",
    "\n",
    "The F1-score combines both the precision and recall score. In thise case, however, I prefer to look at the scores on its own, especially the recall score because it captures directly the observations of the confusion matrix: How many times we classified each class correctly. \n",
    "\n",
    "For instance, the recall score of class `0` shows that we predicted 499 times `Fail` when the true value was indeed `Fail`. The 9% follows from: $\\frac{499}{5849} = ~0.09$\n",
    "\n",
    "This process can be repeated for every class and can thus be seen as an extension for our evaluation above: The model classified `Pass` 95% correctly, `Distinction` in second place 40% correctly, then `Withdrawn` only in 25% of cases, and `Fail` the worst with only 9% correct predictions. \n",
    "\n",
    "#### Main problem of this model\n",
    "One of the main problems of this model is that 9% recall rate for class `0`, i.e. `Fail`. If we saw this estimator as a binary classification between the labels `Fail` and `Pass`, `Fail` would mark the positive class and `Pass` would constitute the negative class. In case of predicting student success, it is much more hurtful to predict that a student would pass when in fact he won't. This is a type 2 error where the actual label is positive (--> student fails), but we predict the negative label (--> student passes).\n",
    "\n",
    "In a good model, we should strive to reduce false negatives as it might convey a false sense of security to the student. In theory, the student could enter all his background and characteristics into this model, and it would classify him as true positive in 9% of all cases. In other words, the model only tells students in 9% of all cases - on average - whether they would indeed fail. \n",
    "\n",
    "I will now plot the receiver operating characteristics (ROC) curve that visualizes this problem."
   ]
  },
  {
   "cell_type": "code",
   "execution_count": 36,
   "metadata": {},
   "outputs": [
    {
     "data": {
      "text/html": [
       "<div>\n",
       "<style scoped>\n",
       "    .dataframe tbody tr th:only-of-type {\n",
       "        vertical-align: middle;\n",
       "    }\n",
       "\n",
       "    .dataframe tbody tr th {\n",
       "        vertical-align: top;\n",
       "    }\n",
       "\n",
       "    .dataframe thead th {\n",
       "        text-align: right;\n",
       "    }\n",
       "</style>\n",
       "<table border=\"1\" class=\"dataframe\">\n",
       "  <thead>\n",
       "    <tr style=\"text-align: right;\">\n",
       "      <th></th>\n",
       "      <th>fpr</th>\n",
       "      <th>tpr</th>\n",
       "      <th>thresholds</th>\n",
       "    </tr>\n",
       "  </thead>\n",
       "  <tbody>\n",
       "    <tr>\n",
       "      <th>400</th>\n",
       "      <td>0.010527</td>\n",
       "      <td>0.089588</td>\n",
       "      <td>0.463197</td>\n",
       "    </tr>\n",
       "    <tr>\n",
       "      <th>401</th>\n",
       "      <td>0.010527</td>\n",
       "      <td>0.089930</td>\n",
       "      <td>0.463162</td>\n",
       "    </tr>\n",
       "    <tr>\n",
       "      <th>402</th>\n",
       "      <td>0.010695</td>\n",
       "      <td>0.089930</td>\n",
       "      <td>0.462562</td>\n",
       "    </tr>\n",
       "    <tr>\n",
       "      <th>403</th>\n",
       "      <td>0.010695</td>\n",
       "      <td>0.090272</td>\n",
       "      <td>0.462222</td>\n",
       "    </tr>\n",
       "    <tr>\n",
       "      <th>404</th>\n",
       "      <td>0.010724</td>\n",
       "      <td>0.090272</td>\n",
       "      <td>0.462190</td>\n",
       "    </tr>\n",
       "    <tr>\n",
       "      <th>405</th>\n",
       "      <td>0.010724</td>\n",
       "      <td>0.091469</td>\n",
       "      <td>0.461344</td>\n",
       "    </tr>\n",
       "    <tr>\n",
       "      <th>406</th>\n",
       "      <td>0.010752</td>\n",
       "      <td>0.091469</td>\n",
       "      <td>0.461218</td>\n",
       "    </tr>\n",
       "    <tr>\n",
       "      <th>407</th>\n",
       "      <td>0.010752</td>\n",
       "      <td>0.091640</td>\n",
       "      <td>0.461064</td>\n",
       "    </tr>\n",
       "    <tr>\n",
       "      <th>408</th>\n",
       "      <td>0.010780</td>\n",
       "      <td>0.091640</td>\n",
       "      <td>0.461053</td>\n",
       "    </tr>\n",
       "    <tr>\n",
       "      <th>409</th>\n",
       "      <td>0.010780</td>\n",
       "      <td>0.091982</td>\n",
       "      <td>0.461026</td>\n",
       "    </tr>\n",
       "  </tbody>\n",
       "</table>\n",
       "</div>"
      ],
      "text/plain": [
       "          fpr       tpr  thresholds\n",
       "400  0.010527  0.089588    0.463197\n",
       "401  0.010527  0.089930    0.463162\n",
       "402  0.010695  0.089930    0.462562\n",
       "403  0.010695  0.090272    0.462222\n",
       "404  0.010724  0.090272    0.462190\n",
       "405  0.010724  0.091469    0.461344\n",
       "406  0.010752  0.091469    0.461218\n",
       "407  0.010752  0.091640    0.461064\n",
       "408  0.010780  0.091640    0.461053\n",
       "409  0.010780  0.091982    0.461026"
      ]
     },
     "execution_count": 36,
     "metadata": {},
     "output_type": "execute_result"
    }
   ],
   "source": [
    "from sklearn.metrics import roc_curve\n",
    "\n",
    "# get all probabilities into one variable\n",
    "logreg_probs = logreg.predict_proba(X_te)\n",
    "\n",
    "# roc_curve returns three arrays, false positivity rate, true positivity rate (recall) and thresholds\n",
    "fpr, tpr, thresholds = roc_curve(y_true = y_te, y_score = logreg_probs[:, 0], # positive class = Fail / 0\n",
    "                                pos_label = 0) \n",
    "\n",
    "# create DataFrame out of the three arrays\n",
    "roc_df = pd.DataFrame({\n",
    "    \"fpr\": fpr,\n",
    "    \"tpr\": tpr,\n",
    "    \"thresholds\": thresholds\n",
    "})\n",
    "\n",
    "# display at which threshold the ~9% recall score is\n",
    "roc_df[400:410]"
   ]
  },
  {
   "cell_type": "markdown",
   "metadata": {},
   "source": [
    "For instance, we can see here that the ~9% recall score is at a probability threshold of 46%. \n",
    "\n",
    "In general, each row here tells us how low the probability threshold needs to be to get the desired tpr/recall score. As we are faced with a multiclass problem, the probabilities aren't as clearly interpretable as in a binary setting. Furthermore, because I simply sliced the probabilities array out of the 4 classes, we can't see that, for instance, the binary 50% threshold default delivers our above observed 9% recall. Nonetheless, the problem I want to show describe is still observeable in the plot below."
   ]
  },
  {
   "cell_type": "code",
   "execution_count": 37,
   "metadata": {},
   "outputs": [
    {
     "data": {
      "image/png": "[encoded data removed]",
      "text/plain": [
       "<Figure size 432x288 with 1 Axes>"
      ]
     },
     "metadata": {
      "needs_background": "light"
     },
     "output_type": "display_data"
    }
   ],
   "source": [
    "# plot ROC curve \n",
    "plt.plot(fpr, tpr)\n",
    "plt.xlabel(\"False Positivity Rate\")\n",
    "plt.ylabel(\"True Positivity Rate\")\n",
    "plt.title(\"ROC-Curve of True-Fail and Predict-Pass Problem\")\n",
    "plt.show()"
   ]
  },
  {
   "cell_type": "markdown",
   "metadata": {},
   "source": [
    "The more the curve is in the top left corner, the better it is for our classification. This would correspond to a high recall rate while simultaneously having a low false positivity rate. This would also go hand-in-hand with having a low false negativity rate, which we initially wanted to visualize. The false negativity rate can be deduced from the TPR by calculating: $\\text{FNR} = 1 - \\text{TPR}$. Having a curve that is much stronger to the top left corner also reduces the FNR, i.e. our desired state.\n",
    "\n",
    "Let's see to what level we had to lower our threshold to receive at least 85% recall."
   ]
  },
  {
   "cell_type": "code",
   "execution_count": 38,
   "metadata": {},
   "outputs": [
    {
     "data": {
      "text/html": [
       "<div>\n",
       "<style scoped>\n",
       "    .dataframe tbody tr th:only-of-type {\n",
       "        vertical-align: middle;\n",
       "    }\n",
       "\n",
       "    .dataframe tbody tr th {\n",
       "        vertical-align: top;\n",
       "    }\n",
       "\n",
       "    .dataframe thead th {\n",
       "        text-align: right;\n",
       "    }\n",
       "</style>\n",
       "<table border=\"1\" class=\"dataframe\">\n",
       "  <thead>\n",
       "    <tr style=\"text-align: right;\">\n",
       "      <th></th>\n",
       "      <th>fpr</th>\n",
       "      <th>tpr</th>\n",
       "      <th>thresholds</th>\n",
       "    </tr>\n",
       "  </thead>\n",
       "  <tbody>\n",
       "    <tr>\n",
       "      <th>6700</th>\n",
       "      <td>0.398435</td>\n",
       "      <td>0.851599</td>\n",
       "      <td>0.125696</td>\n",
       "    </tr>\n",
       "    <tr>\n",
       "      <th>6701</th>\n",
       "      <td>0.398435</td>\n",
       "      <td>0.851770</td>\n",
       "      <td>0.125689</td>\n",
       "    </tr>\n",
       "    <tr>\n",
       "      <th>6702</th>\n",
       "      <td>0.399308</td>\n",
       "      <td>0.851770</td>\n",
       "      <td>0.125457</td>\n",
       "    </tr>\n",
       "    <tr>\n",
       "      <th>6703</th>\n",
       "      <td>0.399308</td>\n",
       "      <td>0.851941</td>\n",
       "      <td>0.125448</td>\n",
       "    </tr>\n",
       "    <tr>\n",
       "      <th>6704</th>\n",
       "      <td>0.399336</td>\n",
       "      <td>0.851941</td>\n",
       "      <td>0.125445</td>\n",
       "    </tr>\n",
       "    <tr>\n",
       "      <th>6705</th>\n",
       "      <td>0.399336</td>\n",
       "      <td>0.852111</td>\n",
       "      <td>0.125444</td>\n",
       "    </tr>\n",
       "    <tr>\n",
       "      <th>6706</th>\n",
       "      <td>0.399561</td>\n",
       "      <td>0.852111</td>\n",
       "      <td>0.125404</td>\n",
       "    </tr>\n",
       "    <tr>\n",
       "      <th>6707</th>\n",
       "      <td>0.399561</td>\n",
       "      <td>0.852282</td>\n",
       "      <td>0.125400</td>\n",
       "    </tr>\n",
       "    <tr>\n",
       "      <th>6708</th>\n",
       "      <td>0.399645</td>\n",
       "      <td>0.852282</td>\n",
       "      <td>0.125340</td>\n",
       "    </tr>\n",
       "    <tr>\n",
       "      <th>6709</th>\n",
       "      <td>0.399645</td>\n",
       "      <td>0.852795</td>\n",
       "      <td>0.125313</td>\n",
       "    </tr>\n",
       "  </tbody>\n",
       "</table>\n",
       "</div>"
      ],
      "text/plain": [
       "           fpr       tpr  thresholds\n",
       "6700  0.398435  0.851599    0.125696\n",
       "6701  0.398435  0.851770    0.125689\n",
       "6702  0.399308  0.851770    0.125457\n",
       "6703  0.399308  0.851941    0.125448\n",
       "6704  0.399336  0.851941    0.125445\n",
       "6705  0.399336  0.852111    0.125444\n",
       "6706  0.399561  0.852111    0.125404\n",
       "6707  0.399561  0.852282    0.125400\n",
       "6708  0.399645  0.852282    0.125340\n",
       "6709  0.399645  0.852795    0.125313"
      ]
     },
     "execution_count": 38,
     "metadata": {},
     "output_type": "execute_result"
    }
   ],
   "source": [
    "roc_df[6700:6710]"
   ]
  },
  {
   "cell_type": "markdown",
   "metadata": {},
   "source": [
    "As an example, we would have to lower our probability threshold to around 12.5% to get 85% recall for the `Fail` class. \n",
    "\n",
    "It is important to keep in mind that this is just a theoretical example that simplisticly created a binary problem out of a multi-class classification. In multi-clas problems, the final prediction is constantly affected by all other probability values. Changing the threshold here to 12.5% for the `Fail` class and thus classifying everything as `0` as soon as the probability hit that threshold would negatively affect all other classifications, so this is not a viable change on its own. \n",
    "\n",
    "All in all, our current model is highly biased in favor of the `Pass` class. Excluding the `Distinction` class, the model always predicts `Pass` most often, which shows us that the model is not able to differentiate between classes and thus predicts `Pass` most often. Even for the `Distinction` class, the model predicts only 40% of cases correctly (recall = 40%). The second most predicted class is again `Pass`, so even there seems to be problem of a lot of noise involved."
   ]
  },
  {
   "cell_type": "code",
   "execution_count": 39,
   "metadata": {},
   "outputs": [],
   "source": [
    "# create a DataFrame to store our the test accuracies and save the file\n",
    "save_df = pd.DataFrame({\n",
    "    \"model\": [\"baseline\", \"baseline_b\", \"baseline_j\", \"lr\", \"lr_b\", \"lr_j\"],\n",
    "    \"test_accuracy\": [logreg_baseline, logreg_baseline_b, logreg_baseline_j,\n",
    "                      logreg_acc, logreg_acc_b, logreg_acc_j]})\n",
    "\n",
    "# save the df\n",
    "save_df.to_csv(\"/Users/Ingo/Python Files/Capstone Project/results/03-logistic-regression-results.csv\",\n",
    "              index = False)"
   ]
  },
  {
   "cell_type": "code",
   "execution_count": 40,
   "metadata": {},
   "outputs": [],
   "source": [
    "# get recall scores in variables\n",
    "logreg_recall_0 = 0.09\n",
    "logreg_recall_1 = 0.25\n",
    "logreg_recall_2 = 0.95\n",
    "logreg_recall_3 = 0.4\n",
    "\n",
    "# create a DataFrame to store recall scores and save the file\n",
    "save_df_recall = pd.DataFrame({\n",
    "    \"classes\": [0, 1, 2, 3],\n",
    "    \"recall\": [logreg_recall_0, logreg_recall_1, logreg_recall_2, logreg_recall_3]})\n",
    "\n",
    "# save the df\n",
    "save_df_recall.to_csv(\n",
    "    \"/Users/Ingo/Python Files/Capstone Project/results/03-logistic-regression-recall-results.csv\",\n",
    "    index = False)\n",
    "\n",
    "# save roc_curve values in df\n",
    "roc_df.to_csv(\n",
    "    \"/Users/Ingo/Python Files/Capstone Project/results/03-logistic-regression-roc-results.csv\",\n",
    "    index = False)"
   ]
  },
  {
   "cell_type": "code",
   "execution_count": null,
   "metadata": {},
   "outputs": [],
   "source": []
  }
 ],
 "metadata": {
  "kernelspec": {
   "display_name": "Python 3",
   "language": "python",
   "name": "python3"
  },
  "language_info": {
   "codemirror_mode": {
    "name": "ipython",
    "version": 3
   },
   "file_extension": ".py",
   "mimetype": "text/x-python",
   "name": "python",
   "nbconvert_exporter": "python",
   "pygments_lexer": "ipython3",
   "version": "3.6.9"
  }
 },
 "nbformat": 4,
 "nbformat_minor": 2
}
